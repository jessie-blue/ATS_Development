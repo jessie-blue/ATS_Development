{
 "cells": [
  {
   "cell_type": "code",
   "execution_count": 1,
   "metadata": {},
   "outputs": [],
   "source": [
    "import numpy as np "
   ]
  },
  {
   "cell_type": "code",
   "execution_count": 8,
   "metadata": {},
   "outputs": [
    {
     "data": {
      "text/plain": [
       "(3, 3, 2)"
      ]
     },
     "execution_count": 8,
     "metadata": {},
     "output_type": "execute_result"
    }
   ],
   "source": [
    "# Example array of shape m x n\n",
    "array = np.array([[(11,2), (32,1), (2,3)],\n",
    "                  [(32,4), (21,4), (23,32)],\n",
    "                  [(3123, 2), (321,21), (321,43)]])\n",
    "\n",
    "\n",
    "array.shape"
   ]
  },
  {
   "cell_type": "code",
   "execution_count": 12,
   "metadata": {},
   "outputs": [
    {
     "data": {
      "text/plain": [
       "array([0, 1, 2, 3, 4, 5, 6, 7, 8])"
      ]
     },
     "execution_count": 12,
     "metadata": {},
     "output_type": "execute_result"
    }
   ],
   "source": [
    "h = array.shape[0]\n",
    "l = array.shape[1]\n",
    "\n",
    "\n",
    "np.arange(0, l*h, 1)"
   ]
  },
  {
   "cell_type": "code",
   "execution_count": 24,
   "metadata": {},
   "outputs": [
    {
     "data": {
      "text/plain": [
       "array([[ 0,  1,  2,  3,  4,  5,  6],\n",
       "       [ 7,  8,  9, 10, 11, 12, 13],\n",
       "       [14, 15, 16, 17, 18, 19, 20],\n",
       "       [21, 22, 23, 24, 25, 26, 27],\n",
       "       [28, 29, 30, 31, 32, 33, 34],\n",
       "       [35, 36, 37, 38, 39, 40, 41],\n",
       "       [42, 43, 44, 45, 46, 47, 48],\n",
       "       [49, 50, 51, 52, 53, 54, 55],\n",
       "       [56, 57, 58, 59, 60, 61, 62],\n",
       "       [63, 64, 65, 66, 67, 68, 69]])"
      ]
     },
     "execution_count": 24,
     "metadata": {},
     "output_type": "execute_result"
    }
   ],
   "source": [
    "width = 7\n",
    "height = 10\n",
    "x = 2\n",
    "y = 4 \n",
    "\n",
    "array = np.arange(0, width*height).reshape(height, width)\n",
    "array"
   ]
  },
  {
   "cell_type": "code",
   "execution_count": 27,
   "metadata": {},
   "outputs": [
    {
     "data": {
      "text/plain": [
       "69"
      ]
     },
     "execution_count": 27,
     "metadata": {},
     "output_type": "execute_result"
    }
   ],
   "source": [
    "array[9,6]"
   ]
  },
  {
   "cell_type": "code",
   "execution_count": null,
   "metadata": {},
   "outputs": [],
   "source": [
    "\n",
    "# -----------\n",
    "# Graded Cell\n",
    "# -----------\n",
    "\n",
    "def isInBounds(x, y, width, height):\n",
    "    # your code here\n",
    "    if (x>=0) and (x<=height-1) and (y>=0) and (y<=width-1):\n",
    "        return True\n",
    "    else:\n",
    "        return False\n",
    "        \n",
    "# Fill in the code for action UP and implement the logic for reward and termination.\n",
    "def env_step(self, action):\n",
    "    \"\"\"A step taken by the environment.\n",
    "\n",
    "    Args:\n",
    "        action: The action taken by the agent\n",
    "\n",
    "    Returns:\n",
    "        (float, state, Boolean): a tuple of the reward, state,\n",
    "            and boolean indicating if it's terminal.\n",
    "    \"\"\"\n",
    "    \n",
    "    x, y = self.agent_loc\n",
    "\n",
    "    # UP\n",
    "    if action == 0:\n",
    "        # Hint: Look at the code given for the other actions and think about the logic in them.\n",
    "        # your code here\n",
    "        x = x - 1\n",
    "        \n",
    "    # LEFT\n",
    "    elif action == 1:\n",
    "        y = y - 1\n",
    "        \n",
    "    # DOWN\n",
    "    elif action == 2:\n",
    "        x = x + 1\n",
    "        \n",
    "    # RIGHT\n",
    "    elif action == 3:\n",
    "        y = y + 1\n",
    "        \n",
    "    # Uh-oh\n",
    "    else: \n",
    "        raise Exception(str(action) + \" not in recognized actions [0: Up, 1: Left, 2: Down, 3: Right]!\")\n",
    "\n",
    "    # if the action takes the agent out-of-bounds\n",
    "    # then the agent stays in the same state\n",
    "    if not isInBounds(x, y, self.grid_w, self.grid_h):\n",
    "        x, y = self.agent_loc\n",
    "        \n",
    "    # assign the new location to the environment object\n",
    "    self.agent_loc = (x, y)\n",
    "    \n",
    "    # by default, assume -1 reward per step and that we did not terminate\n",
    "    reward = -1\n",
    "    terminal = False\n",
    "    \n",
    "    # assign the reward and terminal variables \n",
    "    # - if the agent falls off the cliff (don't forget to reset agent location!)\n",
    "    # - if the agent reaches the goal state\n",
    "    # your code here\n",
    "    \n",
    "    if self.agent_loc in self.cliff:\n",
    "        reward = -100\n",
    "        terminal = False\n",
    "        self.agent_loc = self.start_loc\n",
    "    \n",
    "    #print(self.agent_loc, self.goal_loc)\n",
    "    if self.agent_loc == self.goal_loc:\n",
    "        #print(\"Terminal State Reached\")\n",
    "        reward = -1\n",
    "        terminal = True\n",
    "        #print(terminal)\n",
    "    \n",
    "    print('Reward: ', reward)\n",
    "    print('State: ', self.state(self.agent_loc))\n",
    "    print('Terminal: ',terminal)\n",
    "    print('Agent Loc: ', self.agent_loc)\n",
    "    self.reward_state_term = (reward, self.state(self.agent_loc), terminal)\n",
    "    return self.reward_state_term"
   ]
  },
  {
   "cell_type": "code",
   "execution_count": 23,
   "metadata": {},
   "outputs": [],
   "source": [
    "agent_loc = (9, 2)\n",
    "\n",
    "if agent_loc"
   ]
  },
  {
   "cell_type": "code",
   "execution_count": null,
   "metadata": {},
   "outputs": [],
   "source": []
  }
 ],
 "metadata": {
  "kernelspec": {
   "display_name": "pytorch",
   "language": "python",
   "name": "python3"
  },
  "language_info": {
   "codemirror_mode": {
    "name": "ipython",
    "version": 3
   },
   "file_extension": ".py",
   "mimetype": "text/x-python",
   "name": "python",
   "nbconvert_exporter": "python",
   "pygments_lexer": "ipython3",
   "version": "3.11.5"
  }
 },
 "nbformat": 4,
 "nbformat_minor": 2
}
