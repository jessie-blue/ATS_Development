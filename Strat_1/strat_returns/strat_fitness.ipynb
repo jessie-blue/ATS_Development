{
 "cells": [
  {
   "cell_type": "code",
   "execution_count": 16,
   "metadata": {},
   "outputs": [],
   "source": [
    "import os \n",
    "import numpy as np \n",
    "import pandas as pd \n",
    "import matplotlib.pyplot as plt "
   ]
  },
  {
   "cell_type": "code",
   "execution_count": 42,
   "metadata": {},
   "outputs": [
    {
     "data": {
      "text/html": [
       "<div>\n",
       "<style scoped>\n",
       "    .dataframe tbody tr th:only-of-type {\n",
       "        vertical-align: middle;\n",
       "    }\n",
       "\n",
       "    .dataframe tbody tr th {\n",
       "        vertical-align: top;\n",
       "    }\n",
       "\n",
       "    .dataframe thead th {\n",
       "        text-align: right;\n",
       "    }\n",
       "</style>\n",
       "<table border=\"1\" class=\"dataframe\">\n",
       "  <thead>\n",
       "    <tr style=\"text-align: right;\">\n",
       "      <th></th>\n",
       "      <th>date</th>\n",
       "      <th>ret</th>\n",
       "    </tr>\n",
       "  </thead>\n",
       "  <tbody>\n",
       "    <tr>\n",
       "      <th>4793</th>\n",
       "      <td>2024-03-14</td>\n",
       "      <td>0.028000</td>\n",
       "    </tr>\n",
       "    <tr>\n",
       "      <th>4794</th>\n",
       "      <td>2024-03-15</td>\n",
       "      <td>-0.010550</td>\n",
       "    </tr>\n",
       "    <tr>\n",
       "      <th>4795</th>\n",
       "      <td>2024-03-18</td>\n",
       "      <td>-0.006052</td>\n",
       "    </tr>\n",
       "    <tr>\n",
       "      <th>4796</th>\n",
       "      <td>2024-03-19</td>\n",
       "      <td>-0.011476</td>\n",
       "    </tr>\n",
       "    <tr>\n",
       "      <th>4797</th>\n",
       "      <td>2024-03-20</td>\n",
       "      <td>-0.005001</td>\n",
       "    </tr>\n",
       "    <tr>\n",
       "      <th>...</th>\n",
       "      <td>...</td>\n",
       "      <td>...</td>\n",
       "    </tr>\n",
       "    <tr>\n",
       "      <th>4872</th>\n",
       "      <td>2024-07-26</td>\n",
       "      <td>0.027650</td>\n",
       "    </tr>\n",
       "    <tr>\n",
       "      <th>4873</th>\n",
       "      <td>2024-07-29</td>\n",
       "      <td>0.000000</td>\n",
       "    </tr>\n",
       "    <tr>\n",
       "      <th>4874</th>\n",
       "      <td>2024-07-29</td>\n",
       "      <td>0.027720</td>\n",
       "    </tr>\n",
       "    <tr>\n",
       "      <th>4875</th>\n",
       "      <td>2024-07-30</td>\n",
       "      <td>0.000000</td>\n",
       "    </tr>\n",
       "    <tr>\n",
       "      <th>4876</th>\n",
       "      <td>2024-07-31</td>\n",
       "      <td>0.024115</td>\n",
       "    </tr>\n",
       "  </tbody>\n",
       "</table>\n",
       "<p>84 rows × 2 columns</p>\n",
       "</div>"
      ],
      "text/plain": [
       "            date       ret\n",
       "4793  2024-03-14  0.028000\n",
       "4794  2024-03-15 -0.010550\n",
       "4795  2024-03-18 -0.006052\n",
       "4796  2024-03-19 -0.011476\n",
       "4797  2024-03-20 -0.005001\n",
       "...          ...       ...\n",
       "4872  2024-07-26  0.027650\n",
       "4873  2024-07-29  0.000000\n",
       "4874  2024-07-29  0.027720\n",
       "4875  2024-07-30  0.000000\n",
       "4876  2024-07-31  0.024115\n",
       "\n",
       "[84 rows x 2 columns]"
      ]
     },
     "execution_count": 42,
     "metadata": {},
     "output_type": "execute_result"
    }
   ],
   "source": [
    "ticker = 'XLU'\n",
    "df = pd.read_csv(ticker + '.csv')\n",
    "df = df[df['date'] >= '2024-03-14']\n",
    "df"
   ]
  },
  {
   "cell_type": "code",
   "execution_count": 43,
   "metadata": {},
   "outputs": [
    {
     "name": "stdout",
     "output_type": "stream",
     "text": [
      "Loss Days %:  45.23809523809524\n",
      "Win Days %:  39.285714285714285\n",
      "Hold Days %:  15.48\n"
     ]
    }
   ],
   "source": [
    "hold = df[df['ret'] == 0]\n",
    "wins = df[df['ret'] > 0]\n",
    "loss = df[df['ret'] < 0]\n",
    "\n",
    "print('Loss Days %: ' , (loss.shape[0] / df.shape[0])*100) \n",
    "print('Win Days %: ' , (wins.shape[0] / df.shape[0])*100)\n",
    "print('Hold Days %: ' , round((hold.shape[0] / df.shape[0])*100,2)) "
   ]
  },
  {
   "cell_type": "code",
   "execution_count": 44,
   "metadata": {},
   "outputs": [
    {
     "data": {
      "text/plain": [
       "(array([ 2.,  1.,  0.,  8., 16., 25., 16.,  7.,  4.,  5.]),\n",
       " array([-0.03718764, -0.03066884, -0.02415005, -0.01763125, -0.01111246,\n",
       "        -0.00459366,  0.00192513,  0.00844393,  0.01496272,  0.02148152,\n",
       "         0.02800031]),\n",
       " <BarContainer object of 10 artists>)"
      ]
     },
     "execution_count": 44,
     "metadata": {},
     "output_type": "execute_result"
    },
    {
     "data": {
      "image/png": "[encoded data removed]",
      "text/plain": [
       "<Figure size 1000x700 with 1 Axes>"
      ]
     },
     "metadata": {},
     "output_type": "display_data"
    }
   ],
   "source": [
    "plt.figure(figsize=(10,7))\n",
    "plt.hist(df['ret'])"
   ]
  },
  {
   "cell_type": "code",
   "execution_count": null,
   "metadata": {},
   "outputs": [],
   "source": []
  }
 ],
 "metadata": {
  "kernelspec": {
   "display_name": "pytorch",
   "language": "python",
   "name": "python3"
  },
  "language_info": {
   "codemirror_mode": {
    "name": "ipython",
    "version": 3
   },
   "file_extension": ".py",
   "mimetype": "text/x-python",
   "name": "python",
   "nbconvert_exporter": "python",
   "pygments_lexer": "ipython3",
   "version": "3.11.5"
  }
 },
 "nbformat": 4,
 "nbformat_minor": 2
}
