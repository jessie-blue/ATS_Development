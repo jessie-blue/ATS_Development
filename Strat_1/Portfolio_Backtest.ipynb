{
 "cells": [
  {
   "cell_type": "markdown",
   "metadata": {},
   "source": [
    "#### BACKTESTING PORTFOLIO OF STRATEGIES "
   ]
  },
  {
   "cell_type": "code",
   "execution_count": 153,
   "metadata": {},
   "outputs": [],
   "source": [
    "import os \n",
    "import numpy as np \n",
    "import pandas as pd \n",
    "\n",
    "path = 'strat_returns/Testing/'"
   ]
  },
  {
   "cell_type": "code",
   "execution_count": 154,
   "metadata": {},
   "outputs": [
    {
     "name": "stdout",
     "output_type": "stream",
     "text": [
      "['AMLP.csv', 'IVE.csv', 'IVW.csv', 'IWM.csv', 'SPY.csv', 'XLF.csv', 'XLI.csv', 'XLU.csv', 'XLV.csv']\n"
     ]
    }
   ],
   "source": [
    "### FILES \n",
    "files = os.listdir(path)\n",
    "#files.reverse()\n",
    "print(files)\n",
    "spy_idx = files.index('SPY.csv')\n",
    "\n",
    "### COLUMNS \n",
    "cols = [ 'daily_ret', 'half_kelly']\n",
    "\n"
   ]
  },
  {
   "cell_type": "code",
   "execution_count": 155,
   "metadata": {},
   "outputs": [
    {
     "data": {
      "text/html": [
       "<div>\n",
       "<style scoped>\n",
       "    .dataframe tbody tr th:only-of-type {\n",
       "        vertical-align: middle;\n",
       "    }\n",
       "\n",
       "    .dataframe tbody tr th {\n",
       "        vertical-align: top;\n",
       "    }\n",
       "\n",
       "    .dataframe thead th {\n",
       "        text-align: right;\n",
       "    }\n",
       "</style>\n",
       "<table border=\"1\" class=\"dataframe\">\n",
       "  <thead>\n",
       "    <tr style=\"text-align: right;\">\n",
       "      <th></th>\n",
       "      <th>daily_ret</th>\n",
       "      <th>half_kelly</th>\n",
       "      <th>ticker</th>\n",
       "    </tr>\n",
       "  </thead>\n",
       "  <tbody>\n",
       "    <tr>\n",
       "      <th>2006-01-03</th>\n",
       "      <td>0.0</td>\n",
       "      <td>2.165</td>\n",
       "      <td>SPY</td>\n",
       "    </tr>\n",
       "    <tr>\n",
       "      <th>2006-01-04</th>\n",
       "      <td>0.0</td>\n",
       "      <td>2.165</td>\n",
       "      <td>SPY</td>\n",
       "    </tr>\n",
       "    <tr>\n",
       "      <th>2006-01-05</th>\n",
       "      <td>0.0</td>\n",
       "      <td>2.165</td>\n",
       "      <td>SPY</td>\n",
       "    </tr>\n",
       "    <tr>\n",
       "      <th>2006-01-06</th>\n",
       "      <td>0.0</td>\n",
       "      <td>2.165</td>\n",
       "      <td>SPY</td>\n",
       "    </tr>\n",
       "    <tr>\n",
       "      <th>2006-01-09</th>\n",
       "      <td>0.0</td>\n",
       "      <td>4.000</td>\n",
       "      <td>SPY</td>\n",
       "    </tr>\n",
       "  </tbody>\n",
       "</table>\n",
       "</div>"
      ],
      "text/plain": [
       "            daily_ret  half_kelly ticker\n",
       "2006-01-03        0.0       2.165    SPY\n",
       "2006-01-04        0.0       2.165    SPY\n",
       "2006-01-05        0.0       2.165    SPY\n",
       "2006-01-06        0.0       2.165    SPY\n",
       "2006-01-09        0.0       4.000    SPY"
      ]
     },
     "execution_count": 155,
     "metadata": {},
     "output_type": "execute_result"
    }
   ],
   "source": [
    "## DF \n",
    "df = pd.read_csv( path + files.pop(spy_idx), index_col= 'Unnamed: 0')\n",
    "df = df[cols]\n",
    "#df.columns = [i + '_SPY' for i in df.columns]\n",
    "df['ticker'] = 'SPY'\n",
    "df.head()"
   ]
  },
  {
   "cell_type": "code",
   "execution_count": 156,
   "metadata": {},
   "outputs": [],
   "source": [
    "\n",
    "for file in files: \n",
    "    \n",
    "    df_file = pd.read_csv(f\"strat_returns/Testing/{file}\", index_col='Unnamed: 0') \n",
    "    df_file = df_file[cols]\n",
    "    df_file['ticker'] = file.replace('.csv', '')\n",
    "    df = pd.concat([df, df_file], axis = 0 )"
   ]
  },
  {
   "cell_type": "code",
   "execution_count": 157,
   "metadata": {},
   "outputs": [
    {
     "data": {
      "text/html": [
       "<div>\n",
       "<style scoped>\n",
       "    .dataframe tbody tr th:only-of-type {\n",
       "        vertical-align: middle;\n",
       "    }\n",
       "\n",
       "    .dataframe tbody tr th {\n",
       "        vertical-align: top;\n",
       "    }\n",
       "\n",
       "    .dataframe thead th {\n",
       "        text-align: right;\n",
       "    }\n",
       "</style>\n",
       "<table border=\"1\" class=\"dataframe\">\n",
       "  <thead>\n",
       "    <tr style=\"text-align: right;\">\n",
       "      <th></th>\n",
       "      <th>index</th>\n",
       "      <th>daily_ret</th>\n",
       "      <th>half_kelly</th>\n",
       "      <th>ticker</th>\n",
       "    </tr>\n",
       "  </thead>\n",
       "  <tbody>\n",
       "    <tr>\n",
       "      <th>7977</th>\n",
       "      <td>2002-01-08</td>\n",
       "      <td>0.019028</td>\n",
       "      <td>4.0</td>\n",
       "      <td>IVE</td>\n",
       "    </tr>\n",
       "    <tr>\n",
       "      <th>7978</th>\n",
       "      <td>2002-01-09</td>\n",
       "      <td>0.019144</td>\n",
       "      <td>4.0</td>\n",
       "      <td>IVE</td>\n",
       "    </tr>\n",
       "    <tr>\n",
       "      <th>7979</th>\n",
       "      <td>2002-01-10</td>\n",
       "      <td>0.000924</td>\n",
       "      <td>4.0</td>\n",
       "      <td>IVE</td>\n",
       "    </tr>\n",
       "    <tr>\n",
       "      <th>7980</th>\n",
       "      <td>2002-01-11</td>\n",
       "      <td>0.019367</td>\n",
       "      <td>4.0</td>\n",
       "      <td>IVE</td>\n",
       "    </tr>\n",
       "    <tr>\n",
       "      <th>7981</th>\n",
       "      <td>2002-01-14</td>\n",
       "      <td>0.018318</td>\n",
       "      <td>4.0</td>\n",
       "      <td>IVE</td>\n",
       "    </tr>\n",
       "  </tbody>\n",
       "</table>\n",
       "</div>"
      ],
      "text/plain": [
       "          index  daily_ret  half_kelly ticker\n",
       "7977 2002-01-08   0.019028         4.0    IVE\n",
       "7978 2002-01-09   0.019144         4.0    IVE\n",
       "7979 2002-01-10   0.000924         4.0    IVE\n",
       "7980 2002-01-11   0.019367         4.0    IVE\n",
       "7981 2002-01-14   0.018318         4.0    IVE"
      ]
     },
     "execution_count": 157,
     "metadata": {},
     "output_type": "execute_result"
    }
   ],
   "source": [
    "df = df.dropna()\n",
    "df = df.reset_index()\n",
    "df['index'] = pd.to_datetime(df['index'])\n",
    "df = df[df['daily_ret'] != 0]\n",
    "\n",
    "df = df.sort_values(by = ['index', 'half_kelly'], ascending=[True, False], axis = 0) \n",
    "df.head()"
   ]
  },
  {
   "cell_type": "code",
   "execution_count": 158,
   "metadata": {},
   "outputs": [
    {
     "data": {
      "text/html": [
       "<div>\n",
       "<style scoped>\n",
       "    .dataframe tbody tr th:only-of-type {\n",
       "        vertical-align: middle;\n",
       "    }\n",
       "\n",
       "    .dataframe tbody tr th {\n",
       "        vertical-align: top;\n",
       "    }\n",
       "\n",
       "    .dataframe thead th {\n",
       "        text-align: right;\n",
       "    }\n",
       "</style>\n",
       "<table border=\"1\" class=\"dataframe\">\n",
       "  <thead>\n",
       "    <tr style=\"text-align: right;\">\n",
       "      <th></th>\n",
       "      <th>index</th>\n",
       "      <th>daily_ret</th>\n",
       "      <th>half_kelly</th>\n",
       "      <th>ticker</th>\n",
       "    </tr>\n",
       "  </thead>\n",
       "  <tbody>\n",
       "    <tr>\n",
       "      <th>7975</th>\n",
       "      <td>2025-01-23</td>\n",
       "      <td>0.002584</td>\n",
       "      <td>1.495</td>\n",
       "      <td>AMLP</td>\n",
       "    </tr>\n",
       "    <tr>\n",
       "      <th>40467</th>\n",
       "      <td>2025-01-23</td>\n",
       "      <td>-0.001474</td>\n",
       "      <td>1.450</td>\n",
       "      <td>XLU</td>\n",
       "    </tr>\n",
       "    <tr>\n",
       "      <th>13776</th>\n",
       "      <td>2025-01-24</td>\n",
       "      <td>0.004894</td>\n",
       "      <td>4.000</td>\n",
       "      <td>IVE</td>\n",
       "    </tr>\n",
       "    <tr>\n",
       "      <th>30876</th>\n",
       "      <td>2025-01-24</td>\n",
       "      <td>-0.025172</td>\n",
       "      <td>4.000</td>\n",
       "      <td>XLF</td>\n",
       "    </tr>\n",
       "    <tr>\n",
       "      <th>7976</th>\n",
       "      <td>2025-01-24</td>\n",
       "      <td>0.005514</td>\n",
       "      <td>1.690</td>\n",
       "      <td>AMLP</td>\n",
       "    </tr>\n",
       "  </tbody>\n",
       "</table>\n",
       "</div>"
      ],
      "text/plain": [
       "           index  daily_ret  half_kelly ticker\n",
       "7975  2025-01-23   0.002584       1.495   AMLP\n",
       "40467 2025-01-23  -0.001474       1.450    XLU\n",
       "13776 2025-01-24   0.004894       4.000    IVE\n",
       "30876 2025-01-24  -0.025172       4.000    XLF\n",
       "7976  2025-01-24   0.005514       1.690   AMLP"
      ]
     },
     "execution_count": 158,
     "metadata": {},
     "output_type": "execute_result"
    }
   ],
   "source": [
    "df.tail()"
   ]
  },
  {
   "cell_type": "code",
   "execution_count": 159,
   "metadata": {},
   "outputs": [
    {
     "data": {
      "text/html": [
       "<div>\n",
       "<style scoped>\n",
       "    .dataframe tbody tr th:only-of-type {\n",
       "        vertical-align: middle;\n",
       "    }\n",
       "\n",
       "    .dataframe tbody tr th {\n",
       "        vertical-align: top;\n",
       "    }\n",
       "\n",
       "    .dataframe thead th {\n",
       "        text-align: right;\n",
       "    }\n",
       "</style>\n",
       "<table border=\"1\" class=\"dataframe\">\n",
       "  <thead>\n",
       "    <tr style=\"text-align: right;\">\n",
       "      <th></th>\n",
       "      <th>daily_ret</th>\n",
       "      <th>half_kelly</th>\n",
       "      <th>ticker</th>\n",
       "    </tr>\n",
       "    <tr>\n",
       "      <th>index</th>\n",
       "      <th></th>\n",
       "      <th></th>\n",
       "      <th></th>\n",
       "    </tr>\n",
       "  </thead>\n",
       "  <tbody>\n",
       "    <tr>\n",
       "      <th>2002-01-08</th>\n",
       "      <td>0.019028</td>\n",
       "      <td>4.0</td>\n",
       "      <td>IVE</td>\n",
       "    </tr>\n",
       "    <tr>\n",
       "      <th>2002-01-09</th>\n",
       "      <td>0.019144</td>\n",
       "      <td>4.0</td>\n",
       "      <td>IVE</td>\n",
       "    </tr>\n",
       "    <tr>\n",
       "      <th>2002-01-10</th>\n",
       "      <td>0.000924</td>\n",
       "      <td>4.0</td>\n",
       "      <td>IVE</td>\n",
       "    </tr>\n",
       "    <tr>\n",
       "      <th>2002-01-11</th>\n",
       "      <td>0.019367</td>\n",
       "      <td>4.0</td>\n",
       "      <td>IVE</td>\n",
       "    </tr>\n",
       "    <tr>\n",
       "      <th>2002-01-14</th>\n",
       "      <td>0.018318</td>\n",
       "      <td>4.0</td>\n",
       "      <td>IVE</td>\n",
       "    </tr>\n",
       "  </tbody>\n",
       "</table>\n",
       "</div>"
      ],
      "text/plain": [
       "            daily_ret  half_kelly ticker\n",
       "index                                   \n",
       "2002-01-08   0.019028         4.0    IVE\n",
       "2002-01-09   0.019144         4.0    IVE\n",
       "2002-01-10   0.000924         4.0    IVE\n",
       "2002-01-11   0.019367         4.0    IVE\n",
       "2002-01-14   0.018318         4.0    IVE"
      ]
     },
     "execution_count": 159,
     "metadata": {},
     "output_type": "execute_result"
    }
   ],
   "source": [
    "df = df.set_index('index')\n",
    "\n",
    "df.head()"
   ]
  },
  {
   "cell_type": "code",
   "execution_count": 160,
   "metadata": {},
   "outputs": [],
   "source": [
    "import holidays\n",
    "us_holidays = holidays.US()\n",
    "\n",
    "date_range =  pd.date_range(start=df.index.min(), end=df.index.max())\n",
    "date_range = [date for date in date_range if date not in us_holidays]\n",
    "    \n",
    "    \n",
    "for date in date_range:\n",
    "    \n",
    "    date_df = df[df.index == date]"
   ]
  },
  {
   "cell_type": "code",
   "execution_count": 161,
   "metadata": {},
   "outputs": [
    {
     "data": {
      "text/html": [
       "<div>\n",
       "<style scoped>\n",
       "    .dataframe tbody tr th:only-of-type {\n",
       "        vertical-align: middle;\n",
       "    }\n",
       "\n",
       "    .dataframe tbody tr th {\n",
       "        vertical-align: top;\n",
       "    }\n",
       "\n",
       "    .dataframe thead th {\n",
       "        text-align: right;\n",
       "    }\n",
       "</style>\n",
       "<table border=\"1\" class=\"dataframe\">\n",
       "  <thead>\n",
       "    <tr style=\"text-align: right;\">\n",
       "      <th></th>\n",
       "      <th>daily_ret</th>\n",
       "      <th>half_kelly</th>\n",
       "      <th>ticker</th>\n",
       "    </tr>\n",
       "    <tr>\n",
       "      <th>index</th>\n",
       "      <th></th>\n",
       "      <th></th>\n",
       "      <th></th>\n",
       "    </tr>\n",
       "  </thead>\n",
       "  <tbody>\n",
       "    <tr>\n",
       "      <th>2025-01-24</th>\n",
       "      <td>0.004894</td>\n",
       "      <td>4.00</td>\n",
       "      <td>IVE</td>\n",
       "    </tr>\n",
       "    <tr>\n",
       "      <th>2025-01-24</th>\n",
       "      <td>-0.025172</td>\n",
       "      <td>4.00</td>\n",
       "      <td>XLF</td>\n",
       "    </tr>\n",
       "    <tr>\n",
       "      <th>2025-01-24</th>\n",
       "      <td>0.005514</td>\n",
       "      <td>1.69</td>\n",
       "      <td>AMLP</td>\n",
       "    </tr>\n",
       "  </tbody>\n",
       "</table>\n",
       "</div>"
      ],
      "text/plain": [
       "            daily_ret  half_kelly ticker\n",
       "index                                   \n",
       "2025-01-24   0.004894        4.00    IVE\n",
       "2025-01-24  -0.025172        4.00    XLF\n",
       "2025-01-24   0.005514        1.69   AMLP"
      ]
     },
     "execution_count": 161,
     "metadata": {},
     "output_type": "execute_result"
    }
   ],
   "source": [
    "date_df"
   ]
  },
  {
   "cell_type": "code",
   "execution_count": null,
   "metadata": {},
   "outputs": [],
   "source": []
  },
  {
   "cell_type": "code",
   "execution_count": null,
   "metadata": {},
   "outputs": [],
   "source": []
  }
 ],
 "metadata": {
  "kernelspec": {
   "display_name": "pytorch",
   "language": "python",
   "name": "python3"
  },
  "language_info": {
   "codemirror_mode": {
    "name": "ipython",
    "version": 3
   },
   "file_extension": ".py",
   "mimetype": "text/x-python",
   "name": "python",
   "nbconvert_exporter": "python",
   "pygments_lexer": "ipython3",
   "version": "3.11.5"
  }
 },
 "nbformat": 4,
 "nbformat_minor": 2
}
