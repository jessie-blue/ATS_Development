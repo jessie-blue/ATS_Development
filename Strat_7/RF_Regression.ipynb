{
 "cells": [
  {
   "cell_type": "code",
   "execution_count": 1,
   "metadata": {},
   "outputs": [],
   "source": [
    "import os \n",
    "import sys\n",
    "import pandas as pd\n",
    "import numpy as np\n",
    "\n",
    "directory = os.getcwd()\n",
    "\n",
    "#cwd = directory.replace('Strat_7', '\\module_1')\n",
    "cwd1 = directory.replace('Strat_7', '')\n",
    "#os.chdir(cwd)\n",
    "#sys.path.append(cwd)\n",
    "sys.path.append(cwd1)\n",
    "import Preprocessing_functions as pf \n",
    "import calculateMaxDD \n",
    "from sklearn.datasets import fetch_california_housing\n",
    "from sklearn.model_selection import train_test_split, GridSearchCV, cross_val_score\n",
    "from sklearn.ensemble import RandomForestRegressor\n",
    "from sklearn.metrics import mean_squared_error\n",
    "import joblib\n",
    "#os.getcwd()"
   ]
  },
  {
   "cell_type": "code",
   "execution_count": 2,
   "metadata": {},
   "outputs": [
    {
     "data": {
      "text/html": [
       "<div>\n",
       "<style scoped>\n",
       "    .dataframe tbody tr th:only-of-type {\n",
       "        vertical-align: middle;\n",
       "    }\n",
       "\n",
       "    .dataframe tbody tr th {\n",
       "        vertical-align: top;\n",
       "    }\n",
       "\n",
       "    .dataframe thead th {\n",
       "        text-align: right;\n",
       "    }\n",
       "</style>\n",
       "<table border=\"1\" class=\"dataframe\">\n",
       "  <thead>\n",
       "    <tr style=\"text-align: right;\">\n",
       "      <th></th>\n",
       "      <th>Open</th>\n",
       "      <th>High</th>\n",
       "      <th>Low</th>\n",
       "      <th>Close</th>\n",
       "      <th>Volume</th>\n",
       "      <th>open_low</th>\n",
       "      <th>open_close</th>\n",
       "      <th>open_high</th>\n",
       "      <th>high_low</th>\n",
       "      <th>low_close</th>\n",
       "      <th>...</th>\n",
       "      <th>diff_Close_8</th>\n",
       "      <th>diff_Close_25</th>\n",
       "      <th>diff_Close_50</th>\n",
       "      <th>diff_Close_100</th>\n",
       "      <th>diff_Close_200</th>\n",
       "      <th>diff_8_50</th>\n",
       "      <th>diff_50_100</th>\n",
       "      <th>diff_50_200</th>\n",
       "      <th>overnight_pct</th>\n",
       "      <th>^VIX_level</th>\n",
       "    </tr>\n",
       "    <tr>\n",
       "      <th>Date</th>\n",
       "      <th></th>\n",
       "      <th></th>\n",
       "      <th></th>\n",
       "      <th></th>\n",
       "      <th></th>\n",
       "      <th></th>\n",
       "      <th></th>\n",
       "      <th></th>\n",
       "      <th></th>\n",
       "      <th></th>\n",
       "      <th></th>\n",
       "      <th></th>\n",
       "      <th></th>\n",
       "      <th></th>\n",
       "      <th></th>\n",
       "      <th></th>\n",
       "      <th></th>\n",
       "      <th></th>\n",
       "      <th></th>\n",
       "      <th></th>\n",
       "      <th></th>\n",
       "    </tr>\n",
       "  </thead>\n",
       "  <tbody>\n",
       "    <tr>\n",
       "      <th>2024-01-26</th>\n",
       "      <td>136.73</td>\n",
       "      <td>136.85</td>\n",
       "      <td>136.22</td>\n",
       "      <td>136.56</td>\n",
       "      <td>5759100</td>\n",
       "      <td>0.372998</td>\n",
       "      <td>0.124333</td>\n",
       "      <td>-0.087764</td>\n",
       "      <td>0.460358</td>\n",
       "      <td>-0.249596</td>\n",
       "      <td>...</td>\n",
       "      <td>-0.07250</td>\n",
       "      <td>0.8860</td>\n",
       "      <td>4.5428</td>\n",
       "      <td>7.5483</td>\n",
       "      <td>7.78660</td>\n",
       "      <td>4.61530</td>\n",
       "      <td>3.0055</td>\n",
       "      <td>3.24380</td>\n",
       "      <td>0.000952</td>\n",
       "      <td>13.26</td>\n",
       "    </tr>\n",
       "    <tr>\n",
       "      <th>2024-01-29</th>\n",
       "      <td>136.69</td>\n",
       "      <td>137.54</td>\n",
       "      <td>136.60</td>\n",
       "      <td>137.53</td>\n",
       "      <td>6229600</td>\n",
       "      <td>0.065842</td>\n",
       "      <td>-0.614529</td>\n",
       "      <td>-0.621845</td>\n",
       "      <td>0.683438</td>\n",
       "      <td>-0.680820</td>\n",
       "      <td>...</td>\n",
       "      <td>0.79250</td>\n",
       "      <td>1.5608</td>\n",
       "      <td>5.2586</td>\n",
       "      <td>8.4282</td>\n",
       "      <td>8.71730</td>\n",
       "      <td>4.46610</td>\n",
       "      <td>3.1696</td>\n",
       "      <td>3.45870</td>\n",
       "      <td>0.001600</td>\n",
       "      <td>13.60</td>\n",
       "    </tr>\n",
       "    <tr>\n",
       "      <th>2024-01-30</th>\n",
       "      <td>137.75</td>\n",
       "      <td>138.08</td>\n",
       "      <td>137.09</td>\n",
       "      <td>137.84</td>\n",
       "      <td>5940300</td>\n",
       "      <td>0.479129</td>\n",
       "      <td>-0.065336</td>\n",
       "      <td>-0.239564</td>\n",
       "      <td>0.716976</td>\n",
       "      <td>-0.547086</td>\n",
       "      <td>...</td>\n",
       "      <td>0.95625</td>\n",
       "      <td>1.6268</td>\n",
       "      <td>5.3102</td>\n",
       "      <td>8.6380</td>\n",
       "      <td>8.99485</td>\n",
       "      <td>4.35395</td>\n",
       "      <td>3.3278</td>\n",
       "      <td>3.68465</td>\n",
       "      <td>0.007618</td>\n",
       "      <td>13.31</td>\n",
       "    </tr>\n",
       "    <tr>\n",
       "      <th>2024-01-31</th>\n",
       "      <td>138.89</td>\n",
       "      <td>139.00</td>\n",
       "      <td>137.62</td>\n",
       "      <td>137.65</td>\n",
       "      <td>10223100</td>\n",
       "      <td>0.914393</td>\n",
       "      <td>0.892793</td>\n",
       "      <td>-0.079199</td>\n",
       "      <td>0.992806</td>\n",
       "      <td>-0.021799</td>\n",
       "      <td>...</td>\n",
       "      <td>0.65375</td>\n",
       "      <td>1.2268</td>\n",
       "      <td>4.8762</td>\n",
       "      <td>8.3554</td>\n",
       "      <td>8.76805</td>\n",
       "      <td>4.22245</td>\n",
       "      <td>3.4792</td>\n",
       "      <td>3.89185</td>\n",
       "      <td>0.001235</td>\n",
       "      <td>14.35</td>\n",
       "    </tr>\n",
       "    <tr>\n",
       "      <th>2024-02-01</th>\n",
       "      <td>137.82</td>\n",
       "      <td>139.44</td>\n",
       "      <td>137.15</td>\n",
       "      <td>139.44</td>\n",
       "      <td>8503600</td>\n",
       "      <td>0.486141</td>\n",
       "      <td>-1.175446</td>\n",
       "      <td>-1.175446</td>\n",
       "      <td>1.642283</td>\n",
       "      <td>-1.669705</td>\n",
       "      <td>...</td>\n",
       "      <td>2.18250</td>\n",
       "      <td>2.7468</td>\n",
       "      <td>6.3814</td>\n",
       "      <td>10.0349</td>\n",
       "      <td>10.51180</td>\n",
       "      <td>4.19890</td>\n",
       "      <td>3.6535</td>\n",
       "      <td>4.13040</td>\n",
       "      <td>-0.000359</td>\n",
       "      <td>13.88</td>\n",
       "    </tr>\n",
       "  </tbody>\n",
       "</table>\n",
       "<p>5 rows × 36 columns</p>\n",
       "</div>"
      ],
      "text/plain": [
       "              Open    High     Low   Close    Volume  open_low  open_close  \\\n",
       "Date                                                                         \n",
       "2024-01-26  136.73  136.85  136.22  136.56   5759100  0.372998    0.124333   \n",
       "2024-01-29  136.69  137.54  136.60  137.53   6229600  0.065842   -0.614529   \n",
       "2024-01-30  137.75  138.08  137.09  137.84   5940300  0.479129   -0.065336   \n",
       "2024-01-31  138.89  139.00  137.62  137.65  10223100  0.914393    0.892793   \n",
       "2024-02-01  137.82  139.44  137.15  139.44   8503600  0.486141   -1.175446   \n",
       "\n",
       "            open_high  high_low  low_close  ...  diff_Close_8  diff_Close_25  \\\n",
       "Date                                        ...                                \n",
       "2024-01-26  -0.087764  0.460358  -0.249596  ...      -0.07250         0.8860   \n",
       "2024-01-29  -0.621845  0.683438  -0.680820  ...       0.79250         1.5608   \n",
       "2024-01-30  -0.239564  0.716976  -0.547086  ...       0.95625         1.6268   \n",
       "2024-01-31  -0.079199  0.992806  -0.021799  ...       0.65375         1.2268   \n",
       "2024-02-01  -1.175446  1.642283  -1.669705  ...       2.18250         2.7468   \n",
       "\n",
       "            diff_Close_50  diff_Close_100  diff_Close_200  diff_8_50  \\\n",
       "Date                                                                   \n",
       "2024-01-26         4.5428          7.5483         7.78660    4.61530   \n",
       "2024-01-29         5.2586          8.4282         8.71730    4.46610   \n",
       "2024-01-30         5.3102          8.6380         8.99485    4.35395   \n",
       "2024-01-31         4.8762          8.3554         8.76805    4.22245   \n",
       "2024-02-01         6.3814         10.0349        10.51180    4.19890   \n",
       "\n",
       "            diff_50_100  diff_50_200  overnight_pct  ^VIX_level  \n",
       "Date                                                             \n",
       "2024-01-26       3.0055      3.24380       0.000952       13.26  \n",
       "2024-01-29       3.1696      3.45870       0.001600       13.60  \n",
       "2024-01-30       3.3278      3.68465       0.007618       13.31  \n",
       "2024-01-31       3.4792      3.89185       0.001235       14.35  \n",
       "2024-02-01       3.6535      4.13040      -0.000359       13.88  \n",
       "\n",
       "[5 rows x 36 columns]"
      ]
     },
     "execution_count": 2,
     "metadata": {},
     "output_type": "execute_result"
    }
   ],
   "source": [
    "ticker = 'XLV'\n",
    "time_period = '120mo'\n",
    "\n",
    "df = pf.downlaod_symbol_data(ticker, period= time_period)\n",
    "try:\n",
    "    df = df.drop(columns=['Stock Splits', 'Dividends', 'Capital Gains'])\n",
    "except KeyError:\n",
    "    print(\"Columns not available (see above line of code)\")\n",
    "    \n",
    "df = pf.create_momentum_feat(df, symbol=ticker) ### need to inspect in more detail how the create momemntum features work and the shift in this case\n",
    "df = pf.technical_indicators(df,MA_DIVERGENCE=True)\n",
    "df = pf.format_idx_date(df)\n",
    "\n",
    "#df['prev_close'] = df['Close'].shift(1)\n",
    "#df['tom_open'] = df['Open'].shift(-1)\n",
    "\n",
    "df['overnight_pct'] = (df['Open'].shift(-1) - df['Close']) / df['Close']\n",
    "#df['overnight_pct'] = (df['Open'] - df['Close'].shift(1)) / df['Close'].shift(1) WRONG - OVERFITTING!\n",
    "\n",
    "df = pf.add_market_feature('^VIX', time_period=time_period, data = df, price=True)\n",
    "\n",
    "df = df[df.index <= '2024-02-01']\n",
    "\n",
    "df = df.dropna()\n",
    "\n",
    "df.tail()"
   ]
  },
  {
   "cell_type": "code",
   "execution_count": 3,
   "metadata": {},
   "outputs": [
    {
     "name": "stdout",
     "output_type": "stream",
     "text": [
      "Start date of dataframe:  2016-03-09 00:00:00\n",
      "End date of dataframe:  2024-02-01 00:00:00\n"
     ]
    }
   ],
   "source": [
    "print('Start date of dataframe: ', df.index.min())\n",
    "print('End date of dataframe: ', df.index.max())"
   ]
  },
  {
   "cell_type": "code",
   "execution_count": 4,
   "metadata": {},
   "outputs": [],
   "source": [
    "y = df.pop('overnight_pct')\n",
    "X = df.copy()\n",
    "X = X.drop(columns= ['Open', 'High', 'Low', 'Close',])\n",
    "\n",
    "# Split data into train (60%), validation (20%), and test (20%) sets\n",
    "X_train, X_temp, y_train, y_temp = train_test_split(X, y, test_size=0.4, random_state=42)\n",
    "X_val, X_test, y_val, y_test = train_test_split(X_temp, y_temp, test_size=0.5, random_state=42)\n"
   ]
  },
  {
   "cell_type": "code",
   "execution_count": 5,
   "metadata": {},
   "outputs": [
    {
     "data": {
      "text/plain": [
       "Index(['Volume', 'open_low', 'open_close', 'open_high', 'high_low',\n",
       "       'low_close', 'high_close', 'gap', 'XLV_mom1', 'XLV_mom2', 'XLV_mom3',\n",
       "       'XLV_mom4', 'XLV_mom5', 'XLV_mom10', 'XLV_mom15', 'XLV_mom20',\n",
       "       'XLV_mom60', 'XLV_mom120', 'XLV_mom180', 'XLV_mom240', 'ATR', 'MACD',\n",
       "       'diff_Close_8', 'diff_Close_25', 'diff_Close_50', 'diff_Close_100',\n",
       "       'diff_Close_200', 'diff_8_50', 'diff_50_100', 'diff_50_200',\n",
       "       '^VIX_level'],\n",
       "      dtype='object')"
      ]
     },
     "execution_count": 5,
     "metadata": {},
     "output_type": "execute_result"
    }
   ],
   "source": [
    "X.columns"
   ]
  },
  {
   "cell_type": "code",
   "execution_count": 6,
   "metadata": {},
   "outputs": [],
   "source": [
    "model_columns = pd.DataFrame(X.columns, columns=['features'])\n",
    "\n",
    "model_columns.to_csv(directory + f'/model_features/{ticker}_features_{len(X.columns)}.csv', index = False)\n"
   ]
  },
  {
   "cell_type": "code",
   "execution_count": 7,
   "metadata": {},
   "outputs": [
    {
     "name": "stdout",
     "output_type": "stream",
     "text": [
      "Fitting 10 folds for each of 81 candidates, totalling 810 fits\n",
      "Best Parameters: {'max_depth': 10, 'min_samples_leaf': 2, 'min_samples_split': 2, 'n_estimators': 200}\n"
     ]
    }
   ],
   "source": [
    "# Define Random Forest model\n",
    "rf = RandomForestRegressor(random_state=42)\n",
    "\n",
    "# Grid Search for best hyperparameters\n",
    "param_grid = {\n",
    "    \"n_estimators\": [50, 100, 200],\n",
    "    \"max_depth\": [None, 10, 20],\n",
    "    \"min_samples_split\": [2, 5, 10],\n",
    "    \"min_samples_leaf\": [1, 2, 4]\n",
    "}\n",
    "\n",
    "grid_search = GridSearchCV(rf, param_grid, cv=10, scoring='neg_mean_squared_error', n_jobs=-1, verbose=1)\n",
    "grid_search.fit(X_train, y_train)\n",
    "\n",
    "# Best parameters from Grid Search\n",
    "best_rf = grid_search.best_estimator_\n",
    "print(\"Best Parameters:\", grid_search.best_params_)"
   ]
  },
  {
   "cell_type": "code",
   "execution_count": 8,
   "metadata": {},
   "outputs": [
    {
     "name": "stdout",
     "output_type": "stream",
     "text": [
      "10-Fold CV RMSE: 0.0061 ± 0.0012\n"
     ]
    }
   ],
   "source": [
    "# Cross-validation with 10-folds\n",
    "cv_scores = cross_val_score(best_rf, X_train, y_train, cv=10, scoring='neg_mean_squared_error')\n",
    "rmse_cv = np.sqrt(-cv_scores)\n",
    "print(f\"10-Fold CV RMSE: {rmse_cv.mean():.4f} ± {rmse_cv.std():.4f}\")"
   ]
  },
  {
   "cell_type": "code",
   "execution_count": 9,
   "metadata": {},
   "outputs": [
    {
     "name": "stdout",
     "output_type": "stream",
     "text": [
      "Validation RMSE: 0.0066\n"
     ]
    }
   ],
   "source": [
    "# Evaluate on validation set\n",
    "y_val_pred = best_rf.predict(X_val)\n",
    "rmse_val = np.sqrt(mean_squared_error(y_val, y_val_pred))\n",
    "print(f\"Validation RMSE: {rmse_val:.4f}\")"
   ]
  },
  {
   "cell_type": "code",
   "execution_count": 10,
   "metadata": {},
   "outputs": [
    {
     "data": {
      "text/html": [
       "<div>\n",
       "<style scoped>\n",
       "    .dataframe tbody tr th:only-of-type {\n",
       "        vertical-align: middle;\n",
       "    }\n",
       "\n",
       "    .dataframe tbody tr th {\n",
       "        vertical-align: top;\n",
       "    }\n",
       "\n",
       "    .dataframe thead th {\n",
       "        text-align: right;\n",
       "    }\n",
       "</style>\n",
       "<table border=\"1\" class=\"dataframe\">\n",
       "  <thead>\n",
       "    <tr style=\"text-align: right;\">\n",
       "      <th></th>\n",
       "      <th>Volume</th>\n",
       "      <th>open_low</th>\n",
       "      <th>open_close</th>\n",
       "      <th>open_high</th>\n",
       "      <th>high_low</th>\n",
       "      <th>low_close</th>\n",
       "      <th>high_close</th>\n",
       "      <th>gap</th>\n",
       "      <th>XLV_mom1</th>\n",
       "      <th>XLV_mom2</th>\n",
       "      <th>...</th>\n",
       "      <th>MACD</th>\n",
       "      <th>diff_Close_8</th>\n",
       "      <th>diff_Close_25</th>\n",
       "      <th>diff_Close_50</th>\n",
       "      <th>diff_Close_100</th>\n",
       "      <th>diff_Close_200</th>\n",
       "      <th>diff_8_50</th>\n",
       "      <th>diff_50_100</th>\n",
       "      <th>diff_50_200</th>\n",
       "      <th>^VIX_level</th>\n",
       "    </tr>\n",
       "    <tr>\n",
       "      <th>Date</th>\n",
       "      <th></th>\n",
       "      <th></th>\n",
       "      <th></th>\n",
       "      <th></th>\n",
       "      <th></th>\n",
       "      <th></th>\n",
       "      <th></th>\n",
       "      <th></th>\n",
       "      <th></th>\n",
       "      <th></th>\n",
       "      <th></th>\n",
       "      <th></th>\n",
       "      <th></th>\n",
       "      <th></th>\n",
       "      <th></th>\n",
       "      <th></th>\n",
       "      <th></th>\n",
       "      <th></th>\n",
       "      <th></th>\n",
       "      <th></th>\n",
       "      <th></th>\n",
       "    </tr>\n",
       "  </thead>\n",
       "  <tbody>\n",
       "    <tr>\n",
       "      <th>2021-08-24</th>\n",
       "      <td>6548100</td>\n",
       "      <td>0.638779</td>\n",
       "      <td>0.358339</td>\n",
       "      <td>-0.007790</td>\n",
       "      <td>0.646518</td>\n",
       "      <td>-0.282242</td>\n",
       "      <td>-0.366101</td>\n",
       "      <td>0.000000</td>\n",
       "      <td>-0.36</td>\n",
       "      <td>-0.32</td>\n",
       "      <td>...</td>\n",
       "      <td>0.021613</td>\n",
       "      <td>0.19750</td>\n",
       "      <td>2.3604</td>\n",
       "      <td>5.4056</td>\n",
       "      <td>9.3348</td>\n",
       "      <td>15.41605</td>\n",
       "      <td>5.20810</td>\n",
       "      <td>3.9292</td>\n",
       "      <td>10.01045</td>\n",
       "      <td>17.22</td>\n",
       "    </tr>\n",
       "    <tr>\n",
       "      <th>2021-01-13</th>\n",
       "      <td>5259600</td>\n",
       "      <td>0.366569</td>\n",
       "      <td>-0.320748</td>\n",
       "      <td>-0.668988</td>\n",
       "      <td>1.028675</td>\n",
       "      <td>-0.689845</td>\n",
       "      <td>-0.345926</td>\n",
       "      <td>-0.054955</td>\n",
       "      <td>0.27</td>\n",
       "      <td>-0.82</td>\n",
       "      <td>...</td>\n",
       "      <td>0.360671</td>\n",
       "      <td>0.93125</td>\n",
       "      <td>3.6136</td>\n",
       "      <td>5.3352</td>\n",
       "      <td>8.1899</td>\n",
       "      <td>12.11135</td>\n",
       "      <td>4.40395</td>\n",
       "      <td>2.8547</td>\n",
       "      <td>6.77615</td>\n",
       "      <td>22.21</td>\n",
       "    </tr>\n",
       "    <tr>\n",
       "      <th>2022-07-19</th>\n",
       "      <td>6585700</td>\n",
       "      <td>0.430090</td>\n",
       "      <td>-0.632963</td>\n",
       "      <td>-0.803376</td>\n",
       "      <td>1.223635</td>\n",
       "      <td>-1.067645</td>\n",
       "      <td>-0.169055</td>\n",
       "      <td>1.066186</td>\n",
       "      <td>1.71</td>\n",
       "      <td>-0.44</td>\n",
       "      <td>...</td>\n",
       "      <td>0.077453</td>\n",
       "      <td>0.62000</td>\n",
       "      <td>2.7424</td>\n",
       "      <td>1.6474</td>\n",
       "      <td>-1.1678</td>\n",
       "      <td>-1.35720</td>\n",
       "      <td>1.02740</td>\n",
       "      <td>-2.8152</td>\n",
       "      <td>-3.00460</td>\n",
       "      <td>24.50</td>\n",
       "    </tr>\n",
       "    <tr>\n",
       "      <th>2018-11-02</th>\n",
       "      <td>12953000</td>\n",
       "      <td>2.217295</td>\n",
       "      <td>1.576743</td>\n",
       "      <td>-0.172456</td>\n",
       "      <td>2.385637</td>\n",
       "      <td>-0.655077</td>\n",
       "      <td>-1.746188</td>\n",
       "      <td>0.957592</td>\n",
       "      <td>-0.63</td>\n",
       "      <td>0.63</td>\n",
       "      <td>...</td>\n",
       "      <td>-0.099559</td>\n",
       "      <td>0.77375</td>\n",
       "      <td>-1.9396</td>\n",
       "      <td>-2.6334</td>\n",
       "      <td>-0.3619</td>\n",
       "      <td>2.64900</td>\n",
       "      <td>-3.40715</td>\n",
       "      <td>2.2715</td>\n",
       "      <td>5.28240</td>\n",
       "      <td>19.51</td>\n",
       "    </tr>\n",
       "    <tr>\n",
       "      <th>2017-07-06</th>\n",
       "      <td>6367700</td>\n",
       "      <td>1.002147</td>\n",
       "      <td>0.858984</td>\n",
       "      <td>-0.186113</td>\n",
       "      <td>1.186053</td>\n",
       "      <td>-0.144613</td>\n",
       "      <td>-1.043155</td>\n",
       "      <td>-0.427655</td>\n",
       "      <td>-1.28</td>\n",
       "      <td>-0.70</td>\n",
       "      <td>...</td>\n",
       "      <td>-0.121095</td>\n",
       "      <td>-0.67875</td>\n",
       "      <td>0.3620</td>\n",
       "      <td>1.7654</td>\n",
       "      <td>2.9355</td>\n",
       "      <td>5.64290</td>\n",
       "      <td>2.44415</td>\n",
       "      <td>1.1701</td>\n",
       "      <td>3.87750</td>\n",
       "      <td>12.54</td>\n",
       "    </tr>\n",
       "  </tbody>\n",
       "</table>\n",
       "<p>5 rows × 31 columns</p>\n",
       "</div>"
      ],
      "text/plain": [
       "              Volume  open_low  open_close  open_high  high_low  low_close  \\\n",
       "Date                                                                         \n",
       "2021-08-24   6548100  0.638779    0.358339  -0.007790  0.646518  -0.282242   \n",
       "2021-01-13   5259600  0.366569   -0.320748  -0.668988  1.028675  -0.689845   \n",
       "2022-07-19   6585700  0.430090   -0.632963  -0.803376  1.223635  -1.067645   \n",
       "2018-11-02  12953000  2.217295    1.576743  -0.172456  2.385637  -0.655077   \n",
       "2017-07-06   6367700  1.002147    0.858984  -0.186113  1.186053  -0.144613   \n",
       "\n",
       "            high_close       gap  XLV_mom1  XLV_mom2  ...      MACD  \\\n",
       "Date                                                  ...             \n",
       "2021-08-24   -0.366101  0.000000     -0.36     -0.32  ...  0.021613   \n",
       "2021-01-13   -0.345926 -0.054955      0.27     -0.82  ...  0.360671   \n",
       "2022-07-19   -0.169055  1.066186      1.71     -0.44  ...  0.077453   \n",
       "2018-11-02   -1.746188  0.957592     -0.63      0.63  ... -0.099559   \n",
       "2017-07-06   -1.043155 -0.427655     -1.28     -0.70  ... -0.121095   \n",
       "\n",
       "            diff_Close_8  diff_Close_25  diff_Close_50  diff_Close_100  \\\n",
       "Date                                                                     \n",
       "2021-08-24       0.19750         2.3604         5.4056          9.3348   \n",
       "2021-01-13       0.93125         3.6136         5.3352          8.1899   \n",
       "2022-07-19       0.62000         2.7424         1.6474         -1.1678   \n",
       "2018-11-02       0.77375        -1.9396        -2.6334         -0.3619   \n",
       "2017-07-06      -0.67875         0.3620         1.7654          2.9355   \n",
       "\n",
       "            diff_Close_200  diff_8_50  diff_50_100  diff_50_200  ^VIX_level  \n",
       "Date                                                                         \n",
       "2021-08-24        15.41605    5.20810       3.9292     10.01045       17.22  \n",
       "2021-01-13        12.11135    4.40395       2.8547      6.77615       22.21  \n",
       "2022-07-19        -1.35720    1.02740      -2.8152     -3.00460       24.50  \n",
       "2018-11-02         2.64900   -3.40715       2.2715      5.28240       19.51  \n",
       "2017-07-06         5.64290    2.44415       1.1701      3.87750       12.54  \n",
       "\n",
       "[5 rows x 31 columns]"
      ]
     },
     "execution_count": 10,
     "metadata": {},
     "output_type": "execute_result"
    }
   ],
   "source": [
    "X_val.head()"
   ]
  },
  {
   "cell_type": "code",
   "execution_count": 11,
   "metadata": {},
   "outputs": [
    {
     "name": "stdout",
     "output_type": "stream",
     "text": [
      "Test RMSE: 0.0055\n"
     ]
    }
   ],
   "source": [
    "# Final evaluation on test set\n",
    "y_test_pred = best_rf.predict(X_test)\n",
    "rmse_test = np.sqrt(mean_squared_error(y_test, y_test_pred))\n",
    "print(f\"Test RMSE: {rmse_test:.4f}\")"
   ]
  },
  {
   "cell_type": "code",
   "execution_count": 12,
   "metadata": {},
   "outputs": [
    {
     "ename": "NameError",
     "evalue": "name 'cwd' is not defined",
     "output_type": "error",
     "traceback": [
      "\u001b[1;31m---------------------------------------------------------------------------\u001b[0m",
      "\u001b[1;31mNameError\u001b[0m                                 Traceback (most recent call last)",
      "Cell \u001b[1;32mIn[12], line 1\u001b[0m\n\u001b[1;32m----> 1\u001b[0m os\u001b[38;5;241m.\u001b[39mchdir(cwd\u001b[38;5;241m.\u001b[39mreplace(\u001b[38;5;124m'\u001b[39m\u001b[38;5;124mmodule_1\u001b[39m\u001b[38;5;124m'\u001b[39m, \u001b[38;5;124m'\u001b[39m\u001b[38;5;124mStrat_7\u001b[39m\u001b[38;5;124m\\\u001b[39m\u001b[38;5;124mmodels\u001b[39m\u001b[38;5;124m'\u001b[39m))\n",
      "\u001b[1;31mNameError\u001b[0m: name 'cwd' is not defined"
     ]
    }
   ],
   "source": [
    "os.chdir(cwd.replace('module_1', 'Strat_7\\models'))"
   ]
  },
  {
   "cell_type": "code",
   "execution_count": null,
   "metadata": {},
   "outputs": [],
   "source": [
    "os.getcwd() + '\\models'"
   ]
  },
  {
   "cell_type": "code",
   "execution_count": null,
   "metadata": {},
   "outputs": [],
   "source": [
    "# Save the best model\n",
    "os.chdir(os.getcwd() + '\\models')\n",
    "joblib.dump(best_rf, f\"{ticker}_overnight_regression_random_forest.pkl\")\n",
    "print(f\"Model saved as {ticker}_overnight_regression_random_forest.pkl\")\n"
   ]
  },
  {
   "cell_type": "markdown",
   "metadata": {},
   "source": [
    "\n",
    "# Save the best model\n",
    "joblib.dump(best_rf, \"best_random_forest.pkl\")\n",
    "print(\"Model saved as best_random_forest.pkl\")\n",
    "\n",
    "# Load the model for future use\n",
    "loaded_model = joblib.load(\"best_random_forest.pkl\")\n",
    "y_loaded_pred = loaded_model.predict(X_test)"
   ]
  },
  {
   "cell_type": "markdown",
   "metadata": {},
   "source": [
    "#### BACKTESTING"
   ]
  },
  {
   "cell_type": "code",
   "execution_count": null,
   "metadata": {},
   "outputs": [],
   "source": [
    "#ticker = 'SPY'\n",
    "\n",
    "df1 = pf.downlaod_symbol_data(ticker, period= '360mo')\n",
    "try:\n",
    "    df1 = df1.drop(columns=['Stock Splits', 'Dividends', 'Capital Gains'])\n",
    "except KeyError:\n",
    "    print(\"Columns not available (see above line of code)\")\n",
    "    \n",
    "df1 = pf.create_momentum_feat(df1, symbol=ticker) ### need to inspect in more detail how the create momemntum features work and the shift in this case\n",
    "df1 = pf.technical_indicators(df1,MA_DIVERGENCE=True)\n",
    "df1 = pf.format_idx_date(df1)\n",
    "df1 = pf.add_market_feature('^VIX', time_period='360mo', data = df1, price=True)\n",
    "\n",
    "df1 = df1.dropna()\n",
    "\n",
    "model_start_date = df.index.min()\n",
    "\n",
    "df1 = df1[df1.index < model_start_date]\n",
    "\n",
    "df1.head()"
   ]
  },
  {
   "cell_type": "code",
   "execution_count": null,
   "metadata": {},
   "outputs": [],
   "source": [
    "X.columns"
   ]
  },
  {
   "cell_type": "code",
   "execution_count": null,
   "metadata": {},
   "outputs": [],
   "source": [
    "df2 = df1[X.columns]\n",
    "\n",
    "df2.head()"
   ]
  },
  {
   "cell_type": "code",
   "execution_count": null,
   "metadata": {},
   "outputs": [],
   "source": [
    "#os.chdir(cwd.replace('module_1', 'Strat_7\\models'))\n",
    "os.getcwd()"
   ]
  },
  {
   "cell_type": "code",
   "execution_count": null,
   "metadata": {},
   "outputs": [],
   "source": [
    "best_rf = joblib.load(f\"{ticker}_overnight_regression_random_forest.pkl\")"
   ]
  },
  {
   "cell_type": "code",
   "execution_count": null,
   "metadata": {},
   "outputs": [],
   "source": [
    "df1['predictions'] = best_rf.predict(df2)\n",
    "df1['overnight_pct'] = (df1['Open'].shift(-1) - df1['Close']) / df1['Close']\n",
    "df1['action'] = np.where(df1['predictions'] > 0, 'BUY', 'SELL')\n",
    "df1.head()"
   ]
  },
  {
   "cell_type": "code",
   "execution_count": null,
   "metadata": {},
   "outputs": [],
   "source": [
    "df1 = df1.dropna()\n",
    "df1['prev_close'] = df1['Close'].shift()\n",
    "df1['tom_open'] = df1['Open'].shift(-1)\n",
    "\n",
    "cols = df1.columns\n",
    "cols = [i for i in cols if i not in X.columns]\n",
    "\n",
    "df1 = df1[cols]\n",
    "\n",
    "df1.head()"
   ]
  },
  {
   "cell_type": "code",
   "execution_count": null,
   "metadata": {},
   "outputs": [],
   "source": [
    "import matplotlib.pyplot as plt \n",
    "\n",
    "df1['error'] = df1['predictions'] - df1['overnight_pct']\n",
    "\n",
    "plt.figure(figsize=[10,7])\n",
    "plt.plot(df1.index, df1['error'] , color = 'b')\n",
    "plt.title('Overning Error in PCT points')\n",
    "plt.xlabel('Date')\n",
    "plt.ylabel('Pct Difference')"
   ]
  },
  {
   "cell_type": "code",
   "execution_count": null,
   "metadata": {},
   "outputs": [],
   "source": [
    "df1.head()"
   ]
  },
  {
   "cell_type": "code",
   "execution_count": null,
   "metadata": {},
   "outputs": [],
   "source": [
    "df1['return'] = np.where(df1['action'] == 'SELL', df1['overnight_pct'] * (-1), df1['overnight_pct'])\n",
    "df1.head()"
   ]
  },
  {
   "cell_type": "code",
   "execution_count": null,
   "metadata": {},
   "outputs": [],
   "source": [
    "df1['cum_ret'] = df1['return'].cumsum()\n",
    "\n",
    "plt.figure(figsize=[10,7])\n",
    "plt.plot(df1.index, df1['cum_ret'] , color = 'b')\n",
    "plt.title('Backtest Cummulative Return PCT')\n",
    "plt.xlabel('Date')\n",
    "plt.ylabel('Cummulative Return PCT')"
   ]
  },
  {
   "cell_type": "code",
   "execution_count": null,
   "metadata": {},
   "outputs": [],
   "source": [
    "##### LOSSES\n",
    "df1[df1['return'] < 0]"
   ]
  },
  {
   "cell_type": "code",
   "execution_count": null,
   "metadata": {},
   "outputs": [],
   "source": [
    "\n",
    "#####   MAX DRAWDOWN\n",
    "#from calculateMaxDD import calculateMaxDD\n",
    "\n",
    "cum_ret = np.cumprod(1+ df1['return']) - 1\n",
    "maxDrawdown, maxDrawdownDuration, startDrawdownDay=calculateMaxDD.calculateMaxDD(cum_ret.values)\n",
    "\n",
    "#####   SHARPE RATIO\n",
    "sharpe_ratio = round(np.sqrt(252) * np.mean(df1['return']) / np.std(df1['return']),2)\n",
    "\n",
    "#####   AVG YEARLY RETURN AND STD\n",
    "mean_ret = df1['return'].mean() * 252\n",
    "std = df1['return'].std()*np.sqrt(252)\n",
    "\n",
    "print(f'Sharpe Ratio: {sharpe_ratio}')\n",
    "print(f'Maximum Drawdown: {round(maxDrawdown,4)}')\n",
    "print(f'Max Drawdown Duration: {maxDrawdownDuration} days' )\n",
    "print(f'Start day Drawdown: {startDrawdownDay}')\n",
    "print(f\"Average Yearly Return: {round(mean_ret*100, 2)} %\")"
   ]
  },
  {
   "cell_type": "code",
   "execution_count": null,
   "metadata": {},
   "outputs": [],
   "source": [
    "rets = df1[['return']]\n",
    "rets.to_csv(directory + '\\strat_returns' + f'\\{ticker}.csv')"
   ]
  },
  {
   "cell_type": "code",
   "execution_count": null,
   "metadata": {},
   "outputs": [],
   "source": [
    "directory"
   ]
  },
  {
   "cell_type": "code",
   "execution_count": null,
   "metadata": {},
   "outputs": [],
   "source": [
    "df1.predictions.describe()"
   ]
  }
 ],
 "metadata": {
  "kernelspec": {
   "display_name": "pytorch",
   "language": "python",
   "name": "python3"
  },
  "language_info": {
   "codemirror_mode": {
    "name": "ipython",
    "version": 3
   },
   "file_extension": ".py",
   "mimetype": "text/x-python",
   "name": "python",
   "nbconvert_exporter": "python",
   "pygments_lexer": "ipython3",
   "version": "3.11.5"
  }
 },
 "nbformat": 4,
 "nbformat_minor": 2
}
