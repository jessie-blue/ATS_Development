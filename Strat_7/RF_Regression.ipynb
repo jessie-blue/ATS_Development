{
 "cells": [
  {
   "cell_type": "code",
   "execution_count": null,
   "metadata": {},
   "outputs": [],
   "source": [
    "import os \n",
    "import pandas as pd\n",
    "import numpy as np\n",
    "\n",
    "directory = os.getcwd()\n",
    "\n",
    "cwd = directory.replace('Strat_7', '\\module_1')\n",
    "os.chdir(cwd)\n",
    "\n",
    "import Preprocessing_functions as pf \n",
    "import calculateMaxDD \n",
    "from sklearn.datasets import fetch_california_housing\n",
    "from sklearn.model_selection import train_test_split, GridSearchCV, cross_val_score\n",
    "from sklearn.ensemble import RandomForestRegressor\n",
    "from sklearn.metrics import mean_squared_error\n",
    "import joblib\n",
    "os.getcwd()"
   ]
  },
  {
   "cell_type": "code",
   "execution_count": null,
   "metadata": {},
   "outputs": [],
   "source": [
    "ticker = 'QQQ'\n",
    "\n",
    "df = pf.downlaod_symbol_data(ticker, period= '120mo')\n",
    "try:\n",
    "    df = df.drop(columns=['Stock Splits', 'Dividends', 'Capital Gains'])\n",
    "except KeyError:\n",
    "    print(\"Columns not available (see above line of code)\")\n",
    "    \n",
    "df = pf.create_momentum_feat(df, symbol=ticker) ### need to inspect in more detail how the create momemntum features work and the shift in this case\n",
    "df = pf.technical_indicators(df,MA_DIVERGENCE=True)\n",
    "df = pf.format_idx_date(df)\n",
    "\n",
    "#df['prev_close'] = df['Close'].shift(1)\n",
    "#df['tom_open'] = df['Open'].shift(-1)\n",
    "\n",
    "df['overnight_pct'] = (df['Open'].shift(-1) - df['Close']) / df['Close']\n",
    "#df['overnight_pct'] = (df['Open'] - df['Close'].shift(1)) / df['Close'].shift(1) WRONG - OVERFITTING!\n",
    "\n",
    "df = df[df.index <= '2024-02-01']\n",
    "\n",
    "df = df.dropna()\n",
    "\n",
    "df.tail()"
   ]
  },
  {
   "cell_type": "code",
   "execution_count": null,
   "metadata": {},
   "outputs": [],
   "source": [
    "print('Start date of dataframe: ', df.index.min())\n",
    "print('End date of dataframe: ', df.index.max())"
   ]
  },
  {
   "cell_type": "code",
   "execution_count": null,
   "metadata": {},
   "outputs": [],
   "source": [
    "y = df.pop('overnight_pct')\n",
    "X = df.copy()\n",
    "X = X.drop(columns= ['Open', 'High', 'Low', 'Close',])\n",
    "\n",
    "# Split data into train (60%), validation (20%), and test (20%) sets\n",
    "X_train, X_temp, y_train, y_temp = train_test_split(X, y, test_size=0.4, random_state=42)\n",
    "X_val, X_test, y_val, y_test = train_test_split(X_temp, y_temp, test_size=0.5, random_state=42)\n"
   ]
  },
  {
   "cell_type": "code",
   "execution_count": null,
   "metadata": {},
   "outputs": [],
   "source": [
    "X.columns"
   ]
  },
  {
   "cell_type": "code",
   "execution_count": null,
   "metadata": {},
   "outputs": [],
   "source": [
    "model_columns = pd.DataFrame(X.columns, columns=['features'])\n",
    "\n",
    "model_columns.to_csv(directory + f'/model_features/{ticker}_features_{len(X.columns)}.csv', index = False)\n"
   ]
  },
  {
   "cell_type": "code",
   "execution_count": null,
   "metadata": {},
   "outputs": [],
   "source": [
    "# Define Random Forest model\n",
    "rf = RandomForestRegressor(random_state=42)\n",
    "\n",
    "# Grid Search for best hyperparameters\n",
    "param_grid = {\n",
    "    \"n_estimators\": [50, 100, 200],\n",
    "    \"max_depth\": [None, 10, 20],\n",
    "    \"min_samples_split\": [2, 5, 10],\n",
    "    \"min_samples_leaf\": [1, 2, 4]\n",
    "}\n",
    "\n",
    "grid_search = GridSearchCV(rf, param_grid, cv=10, scoring='neg_mean_squared_error', n_jobs=-1, verbose=1)\n",
    "grid_search.fit(X_train, y_train)\n",
    "\n",
    "# Best parameters from Grid Search\n",
    "best_rf = grid_search.best_estimator_\n",
    "print(\"Best Parameters:\", grid_search.best_params_)"
   ]
  },
  {
   "cell_type": "code",
   "execution_count": null,
   "metadata": {},
   "outputs": [],
   "source": [
    "# Cross-validation with 10-folds\n",
    "cv_scores = cross_val_score(best_rf, X_train, y_train, cv=10, scoring='neg_mean_squared_error')\n",
    "rmse_cv = np.sqrt(-cv_scores)\n",
    "print(f\"10-Fold CV RMSE: {rmse_cv.mean():.4f} ± {rmse_cv.std():.4f}\")"
   ]
  },
  {
   "cell_type": "code",
   "execution_count": null,
   "metadata": {},
   "outputs": [],
   "source": [
    "# Evaluate on validation set\n",
    "y_val_pred = best_rf.predict(X_val)\n",
    "rmse_val = np.sqrt(mean_squared_error(y_val, y_val_pred))\n",
    "print(f\"Validation RMSE: {rmse_val:.4f}\")"
   ]
  },
  {
   "cell_type": "code",
   "execution_count": null,
   "metadata": {},
   "outputs": [],
   "source": [
    "X_val.head()"
   ]
  },
  {
   "cell_type": "code",
   "execution_count": null,
   "metadata": {},
   "outputs": [],
   "source": [
    "# Final evaluation on test set\n",
    "y_test_pred = best_rf.predict(X_test)\n",
    "rmse_test = np.sqrt(mean_squared_error(y_test, y_test_pred))\n",
    "print(f\"Test RMSE: {rmse_test:.4f}\")"
   ]
  },
  {
   "cell_type": "code",
   "execution_count": null,
   "metadata": {},
   "outputs": [],
   "source": [
    "os.chdir(cwd.replace('module_1', 'Strat_7\\models'))"
   ]
  },
  {
   "cell_type": "code",
   "execution_count": null,
   "metadata": {},
   "outputs": [],
   "source": [
    "os.getcwd()"
   ]
  },
  {
   "cell_type": "code",
   "execution_count": null,
   "metadata": {},
   "outputs": [],
   "source": [
    "# Save the best model\n",
    "os.chdir(cwd.replace('module_1', 'Strat_7\\models'))\n",
    "joblib.dump(best_rf, f\"{ticker}_overnight_regression_random_forest.pkl\")\n",
    "print(f\"Model saved as {ticker}_overnight_regression_random_forest.pkl\")\n"
   ]
  },
  {
   "cell_type": "markdown",
   "metadata": {},
   "source": [
    "\n",
    "# Save the best model\n",
    "joblib.dump(best_rf, \"best_random_forest.pkl\")\n",
    "print(\"Model saved as best_random_forest.pkl\")\n",
    "\n",
    "# Load the model for future use\n",
    "loaded_model = joblib.load(\"best_random_forest.pkl\")\n",
    "y_loaded_pred = loaded_model.predict(X_test)"
   ]
  },
  {
   "cell_type": "markdown",
   "metadata": {},
   "source": [
    "#### BACKTESTING"
   ]
  },
  {
   "cell_type": "code",
   "execution_count": null,
   "metadata": {},
   "outputs": [],
   "source": [
    "#ticker = 'SPY'\n",
    "\n",
    "df1 = pf.downlaod_symbol_data(ticker, period= '360mo')\n",
    "try:\n",
    "    df1 = df1.drop(columns=['Stock Splits', 'Dividends', 'Capital Gains'])\n",
    "except KeyError:\n",
    "    print(\"Columns not available (see above line of code)\")\n",
    "    \n",
    "df1 = pf.create_momentum_feat(df1, symbol=ticker) ### need to inspect in more detail how the create momemntum features work and the shift in this case\n",
    "df1 = pf.technical_indicators(df1,MA_DIVERGENCE=True)\n",
    "df1 = pf.format_idx_date(df1)\n",
    "\n",
    "df1 = df1.dropna()\n",
    "\n",
    "model_start_date = df.index.min()\n",
    "\n",
    "df1 = df1[df1.index < model_start_date]\n",
    "\n",
    "df1.head()"
   ]
  },
  {
   "cell_type": "code",
   "execution_count": null,
   "metadata": {},
   "outputs": [],
   "source": [
    "X.columns"
   ]
  },
  {
   "cell_type": "code",
   "execution_count": null,
   "metadata": {},
   "outputs": [],
   "source": [
    "df2 = df1[X.columns]\n",
    "\n",
    "df2.head()"
   ]
  },
  {
   "cell_type": "code",
   "execution_count": null,
   "metadata": {},
   "outputs": [],
   "source": [
    "os.chdir(cwd.replace('module_1', 'Strat_7\\models'))\n",
    "os.getcwd()"
   ]
  },
  {
   "cell_type": "code",
   "execution_count": null,
   "metadata": {},
   "outputs": [],
   "source": [
    "best_rf = joblib.load(f\"{ticker}_overnight_regression_random_forest.pkl\")"
   ]
  },
  {
   "cell_type": "code",
   "execution_count": null,
   "metadata": {},
   "outputs": [],
   "source": [
    "df1['predictions'] = best_rf.predict(df2)\n",
    "df1['overnight_pct'] = (df1['Open'].shift(-1) - df1['Close']) / df1['Close']\n",
    "df1['action'] = np.where(df1['predictions'] > 0, 'BUY', 'SELL')\n",
    "df1.head()"
   ]
  },
  {
   "cell_type": "code",
   "execution_count": null,
   "metadata": {},
   "outputs": [],
   "source": [
    "df1 = df1.dropna()\n",
    "df1['prev_close'] = df1['Close'].shift()\n",
    "df1['tom_open'] = df1['Open'].shift(-1)\n",
    "\n",
    "cols = df1.columns\n",
    "cols = [i for i in cols if i not in X.columns]\n",
    "\n",
    "df1 = df1[cols]\n",
    "\n",
    "df1.head()"
   ]
  },
  {
   "cell_type": "code",
   "execution_count": null,
   "metadata": {},
   "outputs": [],
   "source": [
    "import matplotlib.pyplot as plt \n",
    "\n",
    "df1['error'] = df1['predictions'] - df1['overnight_pct']\n",
    "\n",
    "plt.figure(figsize=[10,7])\n",
    "plt.plot(df1.index, df1['error'] , color = 'b')\n",
    "plt.title('Overning Error in PCT points')\n",
    "plt.xlabel('Date')\n",
    "plt.ylabel('Pct Difference')"
   ]
  },
  {
   "cell_type": "code",
   "execution_count": null,
   "metadata": {},
   "outputs": [],
   "source": [
    "df1.head()"
   ]
  },
  {
   "cell_type": "code",
   "execution_count": null,
   "metadata": {},
   "outputs": [],
   "source": [
    "df1['return'] = np.where(df1['action'] == 'SELL', df1['overnight_pct'] * (-1), df1['overnight_pct'])\n",
    "df1.head()"
   ]
  },
  {
   "cell_type": "code",
   "execution_count": null,
   "metadata": {},
   "outputs": [],
   "source": [
    "df1['cum_ret'] = df1['return'].cumsum()\n",
    "\n",
    "plt.figure(figsize=[10,7])\n",
    "plt.plot(df1.index, df1['cum_ret'] , color = 'b')\n",
    "plt.title('Backtest Cummulative Return PCT')\n",
    "plt.xlabel('Date')\n",
    "plt.ylabel('Cummulative Return PCT')"
   ]
  },
  {
   "cell_type": "code",
   "execution_count": null,
   "metadata": {},
   "outputs": [],
   "source": [
    "##### LOSSES\n",
    "df1[df1['return'] < 0]"
   ]
  },
  {
   "cell_type": "code",
   "execution_count": null,
   "metadata": {},
   "outputs": [],
   "source": [
    "\n",
    "#####   MAX DRAWDOWN\n",
    "#from calculateMaxDD import calculateMaxDD\n",
    "\n",
    "cum_ret = np.cumprod(1+ df1['return']) - 1\n",
    "maxDrawdown, maxDrawdownDuration, startDrawdownDay=calculateMaxDD.calculateMaxDD(cum_ret.values)\n",
    "\n",
    "#####   SHARPE RATIO\n",
    "sharpe_ratio = round(np.sqrt(252) * np.mean(df1['return']) / np.std(df1['return']),2)\n",
    "\n",
    "#####   AVG YEARLY RETURN AND STD\n",
    "mean_ret = df1['return'].mean() * 252\n",
    "std = df1['return'].std()*np.sqrt(252)\n",
    "\n",
    "print(f'Sharpe Ratio: {sharpe_ratio}')\n",
    "print(f'Maximum Drawdown: {round(maxDrawdown,4)}')\n",
    "print(f'Max Drawdown Duration: {maxDrawdownDuration} days' )\n",
    "print(f'Start day Drawdown: {startDrawdownDay}')\n",
    "print(f\"Average Yearly Return: {round(mean_ret*100, 2)} %\")"
   ]
  },
  {
   "cell_type": "code",
   "execution_count": null,
   "metadata": {},
   "outputs": [],
   "source": [
    "rets = df1[['return']]\n",
    "rets.to_csv(directory + '\\strat_returns' + f'\\{ticker}.csv')"
   ]
  },
  {
   "cell_type": "code",
   "execution_count": null,
   "metadata": {},
   "outputs": [],
   "source": [
    "directory"
   ]
  },
  {
   "cell_type": "code",
   "execution_count": null,
   "metadata": {},
   "outputs": [],
   "source": [
    "df1.predictions.describe()"
   ]
  },
  {
   "cell_type": "code",
   "execution_count": null,
   "metadata": {},
   "outputs": [],
   "source": []
  }
 ],
 "metadata": {
  "kernelspec": {
   "display_name": "pytorch",
   "language": "python",
   "name": "python3"
  },
  "language_info": {
   "codemirror_mode": {
    "name": "ipython",
    "version": 3
   },
   "file_extension": ".py",
   "mimetype": "text/x-python",
   "name": "python",
   "nbconvert_exporter": "python",
   "pygments_lexer": "ipython3",
   "version": "3.11.5"
  }
 },
 "nbformat": 4,
 "nbformat_minor": 2
}
