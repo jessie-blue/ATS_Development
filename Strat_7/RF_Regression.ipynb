{
 "cells": [
  {
   "cell_type": "code",
   "execution_count": 1,
   "metadata": {},
   "outputs": [
    {
     "data": {
      "text/plain": [
       "'c:\\\\Users\\\\User\\\\Documents\\\\ATS_Development\\\\module_1'"
      ]
     },
     "execution_count": 1,
     "metadata": {},
     "output_type": "execute_result"
    }
   ],
   "source": [
    "import os \n",
    "import pandas as pd\n",
    "import numpy as np\n",
    "\n",
    "directory = os.getcwd()\n",
    "\n",
    "cwd = directory.replace('Strat_7', '\\module_1')\n",
    "os.chdir(cwd)\n",
    "\n",
    "import Preprocessing_functions as pf \n",
    "import calculateMaxDD \n",
    "from sklearn.datasets import fetch_california_housing\n",
    "from sklearn.model_selection import train_test_split, GridSearchCV, cross_val_score\n",
    "from sklearn.ensemble import RandomForestRegressor\n",
    "from sklearn.metrics import mean_squared_error\n",
    "import joblib\n",
    "os.getcwd()"
   ]
  },
  {
   "cell_type": "code",
   "execution_count": 2,
   "metadata": {},
   "outputs": [
    {
     "data": {
      "text/html": [
       "<div>\n",
       "<style scoped>\n",
       "    .dataframe tbody tr th:only-of-type {\n",
       "        vertical-align: middle;\n",
       "    }\n",
       "\n",
       "    .dataframe tbody tr th {\n",
       "        vertical-align: top;\n",
       "    }\n",
       "\n",
       "    .dataframe thead th {\n",
       "        text-align: right;\n",
       "    }\n",
       "</style>\n",
       "<table border=\"1\" class=\"dataframe\">\n",
       "  <thead>\n",
       "    <tr style=\"text-align: right;\">\n",
       "      <th></th>\n",
       "      <th>Open</th>\n",
       "      <th>High</th>\n",
       "      <th>Low</th>\n",
       "      <th>Close</th>\n",
       "      <th>Volume</th>\n",
       "      <th>open_low</th>\n",
       "      <th>open_close</th>\n",
       "      <th>open_high</th>\n",
       "      <th>high_low</th>\n",
       "      <th>low_close</th>\n",
       "      <th>...</th>\n",
       "      <th>MACD</th>\n",
       "      <th>diff_Close_8</th>\n",
       "      <th>diff_Close_25</th>\n",
       "      <th>diff_Close_50</th>\n",
       "      <th>diff_Close_100</th>\n",
       "      <th>diff_Close_200</th>\n",
       "      <th>diff_8_50</th>\n",
       "      <th>diff_50_100</th>\n",
       "      <th>diff_50_200</th>\n",
       "      <th>overnight_pct</th>\n",
       "    </tr>\n",
       "    <tr>\n",
       "      <th>Date</th>\n",
       "      <th></th>\n",
       "      <th></th>\n",
       "      <th></th>\n",
       "      <th></th>\n",
       "      <th></th>\n",
       "      <th></th>\n",
       "      <th></th>\n",
       "      <th></th>\n",
       "      <th></th>\n",
       "      <th></th>\n",
       "      <th></th>\n",
       "      <th></th>\n",
       "      <th></th>\n",
       "      <th></th>\n",
       "      <th></th>\n",
       "      <th></th>\n",
       "      <th></th>\n",
       "      <th></th>\n",
       "      <th></th>\n",
       "      <th></th>\n",
       "      <th></th>\n",
       "    </tr>\n",
       "  </thead>\n",
       "  <tbody>\n",
       "    <tr>\n",
       "      <th>2024-01-26</th>\n",
       "      <td>421.93</td>\n",
       "      <td>423.69</td>\n",
       "      <td>420.65</td>\n",
       "      <td>421.31</td>\n",
       "      <td>37137000</td>\n",
       "      <td>0.303368</td>\n",
       "      <td>0.146944</td>\n",
       "      <td>-0.417131</td>\n",
       "      <td>0.717506</td>\n",
       "      <td>-0.156900</td>\n",
       "      <td>...</td>\n",
       "      <td>1.132469</td>\n",
       "      <td>3.47125</td>\n",
       "      <td>13.1064</td>\n",
       "      <td>22.5506</td>\n",
       "      <td>41.3632</td>\n",
       "      <td>56.42015</td>\n",
       "      <td>19.07935</td>\n",
       "      <td>18.8126</td>\n",
       "      <td>33.86955</td>\n",
       "      <td>0.001068</td>\n",
       "    </tr>\n",
       "    <tr>\n",
       "      <th>2024-01-29</th>\n",
       "      <td>421.76</td>\n",
       "      <td>425.82</td>\n",
       "      <td>421.11</td>\n",
       "      <td>425.62</td>\n",
       "      <td>38694700</td>\n",
       "      <td>0.154116</td>\n",
       "      <td>-0.915212</td>\n",
       "      <td>-0.962633</td>\n",
       "      <td>1.106101</td>\n",
       "      <td>-1.070979</td>\n",
       "      <td>...</td>\n",
       "      <td>1.134347</td>\n",
       "      <td>5.17875</td>\n",
       "      <td>16.4112</td>\n",
       "      <td>25.9900</td>\n",
       "      <td>45.1605</td>\n",
       "      <td>60.14970</td>\n",
       "      <td>20.81125</td>\n",
       "      <td>19.1705</td>\n",
       "      <td>34.15970</td>\n",
       "      <td>-0.002443</td>\n",
       "    </tr>\n",
       "    <tr>\n",
       "      <th>2024-01-30</th>\n",
       "      <td>424.58</td>\n",
       "      <td>425.15</td>\n",
       "      <td>421.87</td>\n",
       "      <td>422.79</td>\n",
       "      <td>36739000</td>\n",
       "      <td>0.638278</td>\n",
       "      <td>0.421593</td>\n",
       "      <td>-0.134250</td>\n",
       "      <td>0.771492</td>\n",
       "      <td>-0.218077</td>\n",
       "      <td>...</td>\n",
       "      <td>0.838687</td>\n",
       "      <td>0.81875</td>\n",
       "      <td>12.8756</td>\n",
       "      <td>22.3518</td>\n",
       "      <td>41.8131</td>\n",
       "      <td>56.78375</td>\n",
       "      <td>21.53305</td>\n",
       "      <td>19.4613</td>\n",
       "      <td>34.43195</td>\n",
       "      <td>-0.010478</td>\n",
       "    </tr>\n",
       "    <tr>\n",
       "      <th>2024-01-31</th>\n",
       "      <td>418.36</td>\n",
       "      <td>420.37</td>\n",
       "      <td>414.33</td>\n",
       "      <td>414.51</td>\n",
       "      <td>64010600</td>\n",
       "      <td>0.963285</td>\n",
       "      <td>0.920260</td>\n",
       "      <td>-0.480447</td>\n",
       "      <td>1.436829</td>\n",
       "      <td>-0.043444</td>\n",
       "      <td>...</td>\n",
       "      <td>0.022316</td>\n",
       "      <td>-6.93875</td>\n",
       "      <td>4.2452</td>\n",
       "      <td>13.4356</td>\n",
       "      <td>33.0720</td>\n",
       "      <td>48.00620</td>\n",
       "      <td>20.37435</td>\n",
       "      <td>19.6364</td>\n",
       "      <td>34.57060</td>\n",
       "      <td>0.004367</td>\n",
       "    </tr>\n",
       "    <tr>\n",
       "      <th>2024-02-01</th>\n",
       "      <td>416.32</td>\n",
       "      <td>419.88</td>\n",
       "      <td>415.34</td>\n",
       "      <td>419.39</td>\n",
       "      <td>51008600</td>\n",
       "      <td>0.235396</td>\n",
       "      <td>-0.737414</td>\n",
       "      <td>-0.855111</td>\n",
       "      <td>1.081261</td>\n",
       "      <td>-0.975105</td>\n",
       "      <td>...</td>\n",
       "      <td>-0.237841</td>\n",
       "      <td>-2.07750</td>\n",
       "      <td>8.6792</td>\n",
       "      <td>17.5836</td>\n",
       "      <td>37.4472</td>\n",
       "      <td>52.36560</td>\n",
       "      <td>19.66110</td>\n",
       "      <td>19.8636</td>\n",
       "      <td>34.78200</td>\n",
       "      <td>0.004554</td>\n",
       "    </tr>\n",
       "  </tbody>\n",
       "</table>\n",
       "<p>5 rows × 35 columns</p>\n",
       "</div>"
      ],
      "text/plain": [
       "              Open    High     Low   Close    Volume  open_low  open_close  \\\n",
       "Date                                                                         \n",
       "2024-01-26  421.93  423.69  420.65  421.31  37137000  0.303368    0.146944   \n",
       "2024-01-29  421.76  425.82  421.11  425.62  38694700  0.154116   -0.915212   \n",
       "2024-01-30  424.58  425.15  421.87  422.79  36739000  0.638278    0.421593   \n",
       "2024-01-31  418.36  420.37  414.33  414.51  64010600  0.963285    0.920260   \n",
       "2024-02-01  416.32  419.88  415.34  419.39  51008600  0.235396   -0.737414   \n",
       "\n",
       "            open_high  high_low  low_close  ...      MACD  diff_Close_8  \\\n",
       "Date                                        ...                           \n",
       "2024-01-26  -0.417131  0.717506  -0.156900  ...  1.132469       3.47125   \n",
       "2024-01-29  -0.962633  1.106101  -1.070979  ...  1.134347       5.17875   \n",
       "2024-01-30  -0.134250  0.771492  -0.218077  ...  0.838687       0.81875   \n",
       "2024-01-31  -0.480447  1.436829  -0.043444  ...  0.022316      -6.93875   \n",
       "2024-02-01  -0.855111  1.081261  -0.975105  ... -0.237841      -2.07750   \n",
       "\n",
       "            diff_Close_25  diff_Close_50  diff_Close_100  diff_Close_200  \\\n",
       "Date                                                                       \n",
       "2024-01-26        13.1064        22.5506         41.3632        56.42015   \n",
       "2024-01-29        16.4112        25.9900         45.1605        60.14970   \n",
       "2024-01-30        12.8756        22.3518         41.8131        56.78375   \n",
       "2024-01-31         4.2452        13.4356         33.0720        48.00620   \n",
       "2024-02-01         8.6792        17.5836         37.4472        52.36560   \n",
       "\n",
       "            diff_8_50  diff_50_100  diff_50_200  overnight_pct  \n",
       "Date                                                            \n",
       "2024-01-26   19.07935      18.8126     33.86955       0.001068  \n",
       "2024-01-29   20.81125      19.1705     34.15970      -0.002443  \n",
       "2024-01-30   21.53305      19.4613     34.43195      -0.010478  \n",
       "2024-01-31   20.37435      19.6364     34.57060       0.004367  \n",
       "2024-02-01   19.66110      19.8636     34.78200       0.004554  \n",
       "\n",
       "[5 rows x 35 columns]"
      ]
     },
     "execution_count": 2,
     "metadata": {},
     "output_type": "execute_result"
    }
   ],
   "source": [
    "ticker = 'QQQ'\n",
    "\n",
    "df = pf.downlaod_symbol_data(ticker, period= '120mo')\n",
    "try:\n",
    "    df = df.drop(columns=['Stock Splits', 'Dividends', 'Capital Gains'])\n",
    "except KeyError:\n",
    "    print(\"Columns not available (see above line of code)\")\n",
    "    \n",
    "df = pf.create_momentum_feat(df, symbol=ticker) ### need to inspect in more detail how the create momemntum features work and the shift in this case\n",
    "df = pf.technical_indicators(df,MA_DIVERGENCE=True)\n",
    "df = pf.format_idx_date(df)\n",
    "\n",
    "#df['prev_close'] = df['Close'].shift(1)\n",
    "#df['tom_open'] = df['Open'].shift(-1)\n",
    "\n",
    "df['overnight_pct'] = (df['Open'].shift(-1) - df['Close']) / df['Close']\n",
    "#df['overnight_pct'] = (df['Open'] - df['Close'].shift(1)) / df['Close'].shift(1) WRONG - OVERFITTING!\n",
    "\n",
    "df = df[df.index <= '2024-02-01']\n",
    "\n",
    "df = df.dropna()\n",
    "\n",
    "df.tail()"
   ]
  },
  {
   "cell_type": "code",
   "execution_count": 6,
   "metadata": {},
   "outputs": [
    {
     "ename": "ModuleNotFoundError",
     "evalue": "No module named 'ALGO_KT1'",
     "output_type": "error",
     "traceback": [
      "\u001b[1;31m---------------------------------------------------------------------------\u001b[0m",
      "\u001b[1;31mModuleNotFoundError\u001b[0m                       Traceback (most recent call last)",
      "Cell \u001b[1;32mIn[6], line 1\u001b[0m\n\u001b[1;32m----> 1\u001b[0m pf\u001b[38;5;241m.\u001b[39madd_market_feature(\u001b[38;5;124m'\u001b[39m\u001b[38;5;124m^VIX\u001b[39m\u001b[38;5;124m'\u001b[39m, time_period\u001b[38;5;241m=\u001b[39m\u001b[38;5;124m'\u001b[39m\u001b[38;5;124m120mo\u001b[39m\u001b[38;5;124m'\u001b[39m, data\u001b[38;5;241m=\u001b[39mdf)\n",
      "File \u001b[1;32mc:\\Users\\User\\Documents\\ATS_Development\\module_1\\Preprocessing_functions.py:485\u001b[0m, in \u001b[0;36madd_market_feature\u001b[1;34m(symbol, time_period, data)\u001b[0m\n\u001b[0;32m    484\u001b[0m \u001b[38;5;28;01mdef\u001b[39;00m \u001b[38;5;21madd_market_feature\u001b[39m(symbol, time_period, data):\n\u001b[1;32m--> 485\u001b[0m     \u001b[38;5;28;01mfrom\u001b[39;00m \u001b[38;5;21;01mALGO_KT1\u001b[39;00m \u001b[38;5;28;01mimport\u001b[39;00m Preprocessing_functions \u001b[38;5;28;01mas\u001b[39;00m pf \n\u001b[0;32m    486\u001b[0m     feature \u001b[38;5;241m=\u001b[39m pf\u001b[38;5;241m.\u001b[39mdownlaod_symbol_data(symbol, period\u001b[38;5;241m=\u001b[39mtime_period)\n\u001b[0;32m    487\u001b[0m     feature[\u001b[38;5;124mf\u001b[39m\u001b[38;5;124m'\u001b[39m\u001b[38;5;132;01m{\u001b[39;00msymbol\u001b[38;5;132;01m}\u001b[39;00m\u001b[38;5;124m_return\u001b[39m\u001b[38;5;124m'\u001b[39m] \u001b[38;5;241m=\u001b[39m feature[\u001b[38;5;124m'\u001b[39m\u001b[38;5;124mClose\u001b[39m\u001b[38;5;124m'\u001b[39m]\u001b[38;5;241m.\u001b[39mpct_change() \n",
      "\u001b[1;31mModuleNotFoundError\u001b[0m: No module named 'ALGO_KT1'"
     ]
    }
   ],
   "source": [
    "pf.add_market_feature('^VIX', time_period='120mo', data=df)\n"
   ]
  },
  {
   "cell_type": "code",
   "execution_count": null,
   "metadata": {},
   "outputs": [],
   "source": [
    "print('Start date of dataframe: ', df.index.min())\n",
    "print('End date of dataframe: ', df.index.max())"
   ]
  },
  {
   "cell_type": "code",
   "execution_count": null,
   "metadata": {},
   "outputs": [],
   "source": [
    "y = df.pop('overnight_pct')\n",
    "X = df.copy()\n",
    "X = X.drop(columns= ['Open', 'High', 'Low', 'Close',])\n",
    "\n",
    "# Split data into train (60%), validation (20%), and test (20%) sets\n",
    "X_train, X_temp, y_train, y_temp = train_test_split(X, y, test_size=0.4, random_state=42)\n",
    "X_val, X_test, y_val, y_test = train_test_split(X_temp, y_temp, test_size=0.5, random_state=42)\n"
   ]
  },
  {
   "cell_type": "code",
   "execution_count": null,
   "metadata": {},
   "outputs": [],
   "source": [
    "X.columns"
   ]
  },
  {
   "cell_type": "code",
   "execution_count": null,
   "metadata": {},
   "outputs": [],
   "source": [
    "model_columns = pd.DataFrame(X.columns, columns=['features'])\n",
    "\n",
    "model_columns.to_csv(directory + f'/model_features/{ticker}_features_{len(X.columns)}.csv', index = False)\n"
   ]
  },
  {
   "cell_type": "code",
   "execution_count": null,
   "metadata": {},
   "outputs": [],
   "source": [
    "# Define Random Forest model\n",
    "rf = RandomForestRegressor(random_state=42)\n",
    "\n",
    "# Grid Search for best hyperparameters\n",
    "param_grid = {\n",
    "    \"n_estimators\": [50, 100, 200],\n",
    "    \"max_depth\": [None, 10, 20],\n",
    "    \"min_samples_split\": [2, 5, 10],\n",
    "    \"min_samples_leaf\": [1, 2, 4]\n",
    "}\n",
    "\n",
    "grid_search = GridSearchCV(rf, param_grid, cv=10, scoring='neg_mean_squared_error', n_jobs=-1, verbose=1)\n",
    "grid_search.fit(X_train, y_train)\n",
    "\n",
    "# Best parameters from Grid Search\n",
    "best_rf = grid_search.best_estimator_\n",
    "print(\"Best Parameters:\", grid_search.best_params_)"
   ]
  },
  {
   "cell_type": "code",
   "execution_count": null,
   "metadata": {},
   "outputs": [],
   "source": [
    "# Cross-validation with 10-folds\n",
    "cv_scores = cross_val_score(best_rf, X_train, y_train, cv=10, scoring='neg_mean_squared_error')\n",
    "rmse_cv = np.sqrt(-cv_scores)\n",
    "print(f\"10-Fold CV RMSE: {rmse_cv.mean():.4f} ± {rmse_cv.std():.4f}\")"
   ]
  },
  {
   "cell_type": "code",
   "execution_count": null,
   "metadata": {},
   "outputs": [],
   "source": [
    "# Evaluate on validation set\n",
    "y_val_pred = best_rf.predict(X_val)\n",
    "rmse_val = np.sqrt(mean_squared_error(y_val, y_val_pred))\n",
    "print(f\"Validation RMSE: {rmse_val:.4f}\")"
   ]
  },
  {
   "cell_type": "code",
   "execution_count": null,
   "metadata": {},
   "outputs": [],
   "source": [
    "X_val.head()"
   ]
  },
  {
   "cell_type": "code",
   "execution_count": null,
   "metadata": {},
   "outputs": [],
   "source": [
    "# Final evaluation on test set\n",
    "y_test_pred = best_rf.predict(X_test)\n",
    "rmse_test = np.sqrt(mean_squared_error(y_test, y_test_pred))\n",
    "print(f\"Test RMSE: {rmse_test:.4f}\")"
   ]
  },
  {
   "cell_type": "code",
   "execution_count": null,
   "metadata": {},
   "outputs": [],
   "source": [
    "os.chdir(cwd.replace('module_1', 'Strat_7\\models'))"
   ]
  },
  {
   "cell_type": "code",
   "execution_count": null,
   "metadata": {},
   "outputs": [],
   "source": [
    "os.getcwd()"
   ]
  },
  {
   "cell_type": "code",
   "execution_count": null,
   "metadata": {},
   "outputs": [],
   "source": [
    "# Save the best model\n",
    "os.chdir(cwd.replace('module_1', 'Strat_7\\models'))\n",
    "joblib.dump(best_rf, f\"{ticker}_overnight_regression_random_forest.pkl\")\n",
    "print(f\"Model saved as {ticker}_overnight_regression_random_forest.pkl\")\n"
   ]
  },
  {
   "cell_type": "markdown",
   "metadata": {},
   "source": [
    "\n",
    "# Save the best model\n",
    "joblib.dump(best_rf, \"best_random_forest.pkl\")\n",
    "print(\"Model saved as best_random_forest.pkl\")\n",
    "\n",
    "# Load the model for future use\n",
    "loaded_model = joblib.load(\"best_random_forest.pkl\")\n",
    "y_loaded_pred = loaded_model.predict(X_test)"
   ]
  },
  {
   "cell_type": "markdown",
   "metadata": {},
   "source": [
    "#### BACKTESTING"
   ]
  },
  {
   "cell_type": "code",
   "execution_count": null,
   "metadata": {},
   "outputs": [],
   "source": [
    "#ticker = 'SPY'\n",
    "\n",
    "df1 = pf.downlaod_symbol_data(ticker, period= '360mo')\n",
    "try:\n",
    "    df1 = df1.drop(columns=['Stock Splits', 'Dividends', 'Capital Gains'])\n",
    "except KeyError:\n",
    "    print(\"Columns not available (see above line of code)\")\n",
    "    \n",
    "df1 = pf.create_momentum_feat(df1, symbol=ticker) ### need to inspect in more detail how the create momemntum features work and the shift in this case\n",
    "df1 = pf.technical_indicators(df1,MA_DIVERGENCE=True)\n",
    "df1 = pf.format_idx_date(df1)\n",
    "\n",
    "df1 = df1.dropna()\n",
    "\n",
    "model_start_date = df.index.min()\n",
    "\n",
    "df1 = df1[df1.index < model_start_date]\n",
    "\n",
    "df1.head()"
   ]
  },
  {
   "cell_type": "code",
   "execution_count": null,
   "metadata": {},
   "outputs": [],
   "source": [
    "X.columns"
   ]
  },
  {
   "cell_type": "code",
   "execution_count": null,
   "metadata": {},
   "outputs": [],
   "source": [
    "df2 = df1[X.columns]\n",
    "\n",
    "df2.head()"
   ]
  },
  {
   "cell_type": "code",
   "execution_count": null,
   "metadata": {},
   "outputs": [],
   "source": [
    "os.chdir(cwd.replace('module_1', 'Strat_7\\models'))\n",
    "os.getcwd()"
   ]
  },
  {
   "cell_type": "code",
   "execution_count": null,
   "metadata": {},
   "outputs": [],
   "source": [
    "best_rf = joblib.load(f\"{ticker}_overnight_regression_random_forest.pkl\")"
   ]
  },
  {
   "cell_type": "code",
   "execution_count": null,
   "metadata": {},
   "outputs": [],
   "source": [
    "df1['predictions'] = best_rf.predict(df2)\n",
    "df1['overnight_pct'] = (df1['Open'].shift(-1) - df1['Close']) / df1['Close']\n",
    "df1['action'] = np.where(df1['predictions'] > 0, 'BUY', 'SELL')\n",
    "df1.head()"
   ]
  },
  {
   "cell_type": "code",
   "execution_count": null,
   "metadata": {},
   "outputs": [],
   "source": [
    "df1 = df1.dropna()\n",
    "df1['prev_close'] = df1['Close'].shift()\n",
    "df1['tom_open'] = df1['Open'].shift(-1)\n",
    "\n",
    "cols = df1.columns\n",
    "cols = [i for i in cols if i not in X.columns]\n",
    "\n",
    "df1 = df1[cols]\n",
    "\n",
    "df1.head()"
   ]
  },
  {
   "cell_type": "code",
   "execution_count": null,
   "metadata": {},
   "outputs": [],
   "source": [
    "import matplotlib.pyplot as plt \n",
    "\n",
    "df1['error'] = df1['predictions'] - df1['overnight_pct']\n",
    "\n",
    "plt.figure(figsize=[10,7])\n",
    "plt.plot(df1.index, df1['error'] , color = 'b')\n",
    "plt.title('Overning Error in PCT points')\n",
    "plt.xlabel('Date')\n",
    "plt.ylabel('Pct Difference')"
   ]
  },
  {
   "cell_type": "code",
   "execution_count": null,
   "metadata": {},
   "outputs": [],
   "source": [
    "df1.head()"
   ]
  },
  {
   "cell_type": "code",
   "execution_count": null,
   "metadata": {},
   "outputs": [],
   "source": [
    "df1['return'] = np.where(df1['action'] == 'SELL', df1['overnight_pct'] * (-1), df1['overnight_pct'])\n",
    "df1.head()"
   ]
  },
  {
   "cell_type": "code",
   "execution_count": null,
   "metadata": {},
   "outputs": [],
   "source": [
    "df1['cum_ret'] = df1['return'].cumsum()\n",
    "\n",
    "plt.figure(figsize=[10,7])\n",
    "plt.plot(df1.index, df1['cum_ret'] , color = 'b')\n",
    "plt.title('Backtest Cummulative Return PCT')\n",
    "plt.xlabel('Date')\n",
    "plt.ylabel('Cummulative Return PCT')"
   ]
  },
  {
   "cell_type": "code",
   "execution_count": null,
   "metadata": {},
   "outputs": [],
   "source": [
    "##### LOSSES\n",
    "df1[df1['return'] < 0]"
   ]
  },
  {
   "cell_type": "code",
   "execution_count": null,
   "metadata": {},
   "outputs": [],
   "source": [
    "\n",
    "#####   MAX DRAWDOWN\n",
    "#from calculateMaxDD import calculateMaxDD\n",
    "\n",
    "cum_ret = np.cumprod(1+ df1['return']) - 1\n",
    "maxDrawdown, maxDrawdownDuration, startDrawdownDay=calculateMaxDD.calculateMaxDD(cum_ret.values)\n",
    "\n",
    "#####   SHARPE RATIO\n",
    "sharpe_ratio = round(np.sqrt(252) * np.mean(df1['return']) / np.std(df1['return']),2)\n",
    "\n",
    "#####   AVG YEARLY RETURN AND STD\n",
    "mean_ret = df1['return'].mean() * 252\n",
    "std = df1['return'].std()*np.sqrt(252)\n",
    "\n",
    "print(f'Sharpe Ratio: {sharpe_ratio}')\n",
    "print(f'Maximum Drawdown: {round(maxDrawdown,4)}')\n",
    "print(f'Max Drawdown Duration: {maxDrawdownDuration} days' )\n",
    "print(f'Start day Drawdown: {startDrawdownDay}')\n",
    "print(f\"Average Yearly Return: {round(mean_ret*100, 2)} %\")"
   ]
  },
  {
   "cell_type": "code",
   "execution_count": null,
   "metadata": {},
   "outputs": [],
   "source": [
    "rets = df1[['return']]\n",
    "rets.to_csv(directory + '\\strat_returns' + f'\\{ticker}.csv')"
   ]
  },
  {
   "cell_type": "code",
   "execution_count": null,
   "metadata": {},
   "outputs": [],
   "source": [
    "directory"
   ]
  },
  {
   "cell_type": "code",
   "execution_count": null,
   "metadata": {},
   "outputs": [],
   "source": [
    "df1.predictions.describe()"
   ]
  },
  {
   "cell_type": "code",
   "execution_count": null,
   "metadata": {},
   "outputs": [],
   "source": []
  }
 ],
 "metadata": {
  "kernelspec": {
   "display_name": "pytorch",
   "language": "python",
   "name": "python3"
  },
  "language_info": {
   "codemirror_mode": {
    "name": "ipython",
    "version": 3
   },
   "file_extension": ".py",
   "mimetype": "text/x-python",
   "name": "python",
   "nbconvert_exporter": "python",
   "pygments_lexer": "ipython3",
   "version": "3.11.5"
  }
 },
 "nbformat": 4,
 "nbformat_minor": 2
}
