{
 "cells": [
  {
   "cell_type": "code",
   "execution_count": 14,
   "metadata": {},
   "outputs": [
    {
     "name": "stdout",
     "output_type": "stream",
     "text": [
      "          date   ffr\n",
      "0   1954-07-01  0.80\n",
      "1   1954-08-01  1.22\n",
      "2   1954-09-01  1.07\n",
      "3   1954-10-01  0.85\n",
      "4   1954-11-01  0.83\n",
      "..         ...   ...\n",
      "835 2024-02-01  5.33\n",
      "836 2024-03-01  5.33\n",
      "837 2024-04-01  5.33\n",
      "838 2024-05-01  5.33\n",
      "839 2024-06-01  5.33\n",
      "\n",
      "[840 rows x 2 columns]\n"
     ]
    }
   ],
   "source": [
    "import requests\n",
    "import pandas as pd\n",
    "\n",
    "# Define your FRED API key\n",
    "API_KEY = \"dc6a0313beabf8a2845ed521ddb56d7b\"\n",
    "\n",
    "# Define the FRED API endpoint for FOMC meeting dates\n",
    "FRED_ENDPOINT = 'https://api.stlouisfed.org/fred/series/observations'\n",
    "\n",
    "# Parameters for the API request\n",
    "params = {\n",
    "    'series_id': 'FEDFUNDS',  # This series represents the federal funds rate, which is influenced by FOMC meetings\n",
    "    'api_key': API_KEY,\n",
    "    'file_type': 'json'\n",
    "}\n",
    "\n",
    "# Make the API request\n",
    "response = requests.get(FRED_ENDPOINT, params=params)\n",
    "\n",
    "# Check if the request was successful\n",
    "if response.status_code == 200:\n",
    "    data = response.json()\n",
    "    \n",
    "    # Extract observation dates\n",
    "    observations = data['observations']\n",
    "    \n",
    "    \n",
    "    # Create a DataFrame\n",
    "    #df = pd.DataFrame(dates, columns=['Date'])\n",
    "    df = pd.DataFrame(observations)\n",
    "    df = df[['date', 'value']]\n",
    "    df.columns = ['date', 'ffr']\n",
    "    df['date'] = pd.to_datetime(df['date'])\n",
    "    # Print the DataFrame\n",
    "    print(df)\n",
    "else:\n",
    "    print(f\"Error fetching data: {response.status_code}\")\n",
    "\n",
    "# Optionally, save the data to a CSV file\n",
    "#df.to_csv('fomc_meeting_dates.csv', index=False)\n"
   ]
  },
  {
   "cell_type": "code",
   "execution_count": 235,
   "metadata": {},
   "outputs": [],
   "source": [
    "def complete_month(month_abbr):\n",
    "  \"\"\"Completes a month name from its abbreviation.\n",
    "\n",
    "  Args:\n",
    "    month_abbr: The first three letters of a month name.\n",
    "\n",
    "  Returns:\n",
    "    The complete month name if found, otherwise None.\n",
    "  \"\"\"\n",
    "\n",
    "  for month_number, month_name in enumerate(calendar.month_name):\n",
    "    if month_name.lower().startswith(month_abbr.lower()):\n",
    "      return month_name\n",
    "  return None\n",
    "\n",
    "def month_str_to_num(month_str):\n",
    "  \"\"\"Converts a month string to its corresponding number.\n",
    "\n",
    "  Args:\n",
    "    month_str: The month name as a string (e.g., \"January\", \"Feb\").\n",
    "\n",
    "  Returns:\n",
    "    The month number (1-12) if found, otherwise None.\n",
    "  \"\"\"\n",
    "\n",
    "  month_str = month_str.lower()\n",
    "  for month_num, month_name in enumerate(calendar.month_name):\n",
    "    if month_name.lower().startswith(month_str):\n",
    "      return month_num\n",
    "  return None"
   ]
  },
  {
   "cell_type": "code",
   "execution_count": 269,
   "metadata": {},
   "outputs": [
    {
     "data": {
      "text/plain": [
       "{'January': ['30', '31'],\n",
       " 'March': ['19', '20*'],\n",
       " 'May': '1',\n",
       " 'June': ['11', '12*'],\n",
       " 'July': ['30', '31'],\n",
       " 'September': ['17', '18*'],\n",
       " 'November': ['6', '7'],\n",
       " 'December': ['17', '18*']}"
      ]
     },
     "execution_count": 269,
     "metadata": {},
     "output_type": "execute_result"
    }
   ],
   "source": [
    "from bs4 import BeautifulSoup\n",
    "import calendar\n",
    "import datetime\n",
    "import re \n",
    "import requests\n",
    "\n",
    "year = 2024 # in your code take the today date and extract the year to automate the entire process \n",
    "\n",
    "# URL of the FOMC meeting calendar page\n",
    "url = \"https://www.federalreserve.gov/monetarypolicy/fomccalendars.htm\"\n",
    "\n",
    "# Make a GET request to fetch the raw HTML content\n",
    "response = requests.get(url)\n",
    "\n",
    "# Check if the request was successful\n",
    "if response.status_code == 200:\n",
    "    # Parse the HTML content\n",
    "    soup = BeautifulSoup(response.content, 'html.parser')\n",
    "    \n",
    "    # Find the header with the text \"2024 FOMC Meetings\"\n",
    "    header = soup.find('h4', string=f\"{year} FOMC Meetings\")\n",
    "\n",
    "    parent_div1 = header.find_parent('div')\n",
    "\n",
    "    main_parent= parent_div1.find_parent('div')\n",
    "\n",
    "    months = main_parent.find_all('div', re.compile(\"fomc-meeting__month \"))\n",
    "    days = main_parent.find_all('div', \"fomc-meeting__date col-xs-4 col-sm-9 col-md-10 col-lg-1\")\n",
    "    \n",
    "    dates = {}\n",
    "    for i in range(len(months)):\n",
    "        \n",
    "        month = months[i].text\n",
    "        \n",
    "        if '/' in month:\n",
    "            m1, m2 = month.split(\"/\")\n",
    "            d1, d2 = days[i].text.split('-')\n",
    "            \n",
    "            #m1 = complete_month(m1)\n",
    "            m2 = complete_month(m2)\n",
    "            \n",
    "            #dates[m1] = d1 # just remove this line if not interested in day 1 of the FED \n",
    "            dates[m2] = d2\n",
    "            \n",
    "            continue\n",
    "        \n",
    "        else:\n",
    "            dates[months[i].text] = days[i].text.split('-')\n",
    "\n",
    "    #dates = pd.DataFrame(dates, index = [1,2] ,columns = dates.keys())\n",
    "    \n",
    "dates  \n",
    "    "
   ]
  },
  {
   "cell_type": "code",
   "execution_count": 270,
   "metadata": {},
   "outputs": [
    {
     "name": "stdout",
     "output_type": "stream",
     "text": [
      "today:  2024-08-01\n",
      "Month and Day:  (2024, 'August', 1)\n"
     ]
    }
   ],
   "source": [
    "today = datetime.date.today()\n",
    "month = calendar.month_name[today.month]\n",
    "day = today.day\n",
    "print(\"today: \", today)\n",
    "print(\"Month and Day: \",  (year, month, day ))"
   ]
  },
  {
   "cell_type": "code",
   "execution_count": 271,
   "metadata": {},
   "outputs": [
    {
     "name": "stdout",
     "output_type": "stream",
     "text": [
      "No FED in August.\n",
      "Fed Decision on September 18* 2024\n"
     ]
    }
   ],
   "source": [
    "\n",
    "try:\n",
    "    days = dates[month]\n",
    "    print(f'Fed Decision Day on {month}', days, year)\n",
    "    try:\n",
    "        #fed_decision_date = datetime.date(year, month_str_to_num(month),int(days[1].replace('*','')))\n",
    "        fed_decision_date = datetime.date(year, today.month, int(days[1].replace('*','')))\n",
    "    except IndexError:\n",
    "        #fed_decision_date = datetime.date(year, month_str_to_num(month),int(days[0].replace('*','')))\n",
    "        fed_decision_date = datetime.date(year, today.month, int(days[0].replace('*','')))\n",
    "    \n",
    "except KeyError:\n",
    "    print(f'No FED in {month}.')\n",
    "    next_month = calendar.month_name[(today + datetime.timedelta(days=32)).month]\n",
    "    days = dates[next_month]\n",
    "    try:\n",
    "        fed_decision_date = datetime.date(year, today.month + 1, int(days[1].replace('*','')))\n",
    "        print(f'Fed Decision on {next_month}', days[1], year)\n",
    "    except IndexError:\n",
    "        fed_decision_date = datetime.date(year, today.month + 1, int(days[0].replace('*','')))\n",
    "        print(f'Fed Decision on {next_month}', days[0], year)"
   ]
  },
  {
   "cell_type": "code",
   "execution_count": 272,
   "metadata": {},
   "outputs": [
    {
     "name": "stdout",
     "output_type": "stream",
     "text": [
      "Trading days until FED decision:  35\n",
      "Calendar Days until FED decision:  48\n"
     ]
    }
   ],
   "source": [
    "import datetime\n",
    "\n",
    "def count_weekdays(start_date, end_date):\n",
    "  \"\"\"Counts the number of weekdays between two dates.\n",
    "\n",
    "  Args:\n",
    "    start_date: The start date as a datetime.date object.\n",
    "    end_date: The end date as a datetime.date object.\n",
    "\n",
    "  Returns:\n",
    "    The number of weekdays between the two dates.\n",
    "  \"\"\"\n",
    "\n",
    "  delta = end_date - start_date\n",
    "  total_days = delta.days + 1  # Include both start and end dates\n",
    "\n",
    "  # Calculate the number of full weeks\n",
    "  full_weeks, remaining_days = divmod(total_days, 7)\n",
    "  weekdays = full_weeks * 5  # 5 weekdays per week\n",
    "\n",
    "  # Handle the remaining days\n",
    "  start_weekday = start_date.weekday()\n",
    "  end_weekday = end_date.weekday()\n",
    "\n",
    "  if start_weekday < 5:  # Start day is not a weekend\n",
    "    weekdays += min(end_weekday + 1, 5) - start_weekday\n",
    "  else:\n",
    "    weekdays += max(0, end_weekday - 4)\n",
    "\n",
    "  return weekdays\n",
    "\n",
    "num_weekdays = count_weekdays(today, fed_decision_date)\n",
    "print(\"Trading days until FED decision: \", num_weekdays) \n",
    "print('Calendar Days until FED decision: ', (fed_decision_date - today).days)\n"
   ]
  },
  {
   "cell_type": "code",
   "execution_count": null,
   "metadata": {},
   "outputs": [],
   "source": []
  },
  {
   "cell_type": "code",
   "execution_count": null,
   "metadata": {},
   "outputs": [],
   "source": []
  }
 ],
 "metadata": {
  "kernelspec": {
   "display_name": "pytorch",
   "language": "python",
   "name": "python3"
  },
  "language_info": {
   "codemirror_mode": {
    "name": "ipython",
    "version": 3
   },
   "file_extension": ".py",
   "mimetype": "text/x-python",
   "name": "python",
   "nbconvert_exporter": "python",
   "pygments_lexer": "ipython3",
   "version": "3.11.5"
  }
 },
 "nbformat": 4,
 "nbformat_minor": 2
}
