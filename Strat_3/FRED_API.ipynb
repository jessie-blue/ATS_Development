{
 "cells": [
  {
   "cell_type": "code",
   "execution_count": 14,
   "metadata": {},
   "outputs": [
    {
     "name": "stdout",
     "output_type": "stream",
     "text": [
      "          date   ffr\n",
      "0   1954-07-01  0.80\n",
      "1   1954-08-01  1.22\n",
      "2   1954-09-01  1.07\n",
      "3   1954-10-01  0.85\n",
      "4   1954-11-01  0.83\n",
      "..         ...   ...\n",
      "835 2024-02-01  5.33\n",
      "836 2024-03-01  5.33\n",
      "837 2024-04-01  5.33\n",
      "838 2024-05-01  5.33\n",
      "839 2024-06-01  5.33\n",
      "\n",
      "[840 rows x 2 columns]\n"
     ]
    }
   ],
   "source": [
    "import requests\n",
    "import pandas as pd\n",
    "\n",
    "# Define your FRED API key\n",
    "API_KEY = \"dc6a0313beabf8a2845ed521ddb56d7b\"\n",
    "\n",
    "# Define the FRED API endpoint for FOMC meeting dates\n",
    "FRED_ENDPOINT = 'https://api.stlouisfed.org/fred/series/observations'\n",
    "\n",
    "# Parameters for the API request\n",
    "params = {\n",
    "    'series_id': 'FEDFUNDS',  # This series represents the federal funds rate, which is influenced by FOMC meetings\n",
    "    'api_key': API_KEY,\n",
    "    'file_type': 'json'\n",
    "}\n",
    "\n",
    "# Make the API request\n",
    "response = requests.get(FRED_ENDPOINT, params=params)\n",
    "\n",
    "# Check if the request was successful\n",
    "if response.status_code == 200:\n",
    "    data = response.json()\n",
    "    \n",
    "    # Extract observation dates\n",
    "    observations = data['observations']\n",
    "    \n",
    "    \n",
    "    # Create a DataFrame\n",
    "    #df = pd.DataFrame(dates, columns=['Date'])\n",
    "    df = pd.DataFrame(observations)\n",
    "    df = df[['date', 'value']]\n",
    "    df.columns = ['date', 'ffr']\n",
    "    df['date'] = pd.to_datetime(df['date'])\n",
    "    # Print the DataFrame\n",
    "    print(df)\n",
    "else:\n",
    "    print(f\"Error fetching data: {response.status_code}\")\n",
    "\n",
    "# Optionally, save the data to a CSV file\n",
    "#df.to_csv('fomc_meeting_dates.csv', index=False)\n"
   ]
  },
  {
   "cell_type": "code",
   "execution_count": 15,
   "metadata": {},
   "outputs": [
    {
     "data": {
      "text/plain": [
       "date    datetime64[ns]\n",
       "ffr             object\n",
       "dtype: object"
      ]
     },
     "execution_count": 15,
     "metadata": {},
     "output_type": "execute_result"
    }
   ],
   "source": [
    "df.dtypes"
   ]
  },
  {
   "cell_type": "code",
   "execution_count": null,
   "metadata": {},
   "outputs": [],
   "source": []
  }
 ],
 "metadata": {
  "kernelspec": {
   "display_name": "pytorch",
   "language": "python",
   "name": "python3"
  },
  "language_info": {
   "codemirror_mode": {
    "name": "ipython",
    "version": 3
   },
   "file_extension": ".py",
   "mimetype": "text/x-python",
   "name": "python",
   "nbconvert_exporter": "python",
   "pygments_lexer": "ipython3",
   "version": "3.11.5"
  }
 },
 "nbformat": 4,
 "nbformat_minor": 2
}
