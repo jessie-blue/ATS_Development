{
 "cells": [
  {
   "cell_type": "markdown",
   "metadata": {},
   "source": [
    "##### This code takes data from KRAKEN Exchange and transoforms the data in a suitable format for work which is not downloaded from YahooFinance.\n",
    "\n",
    "- Notebook to be used with data which comes in a csv file format and not from an API"
   ]
  },
  {
   "cell_type": "code",
   "execution_count": 2,
   "metadata": {},
   "outputs": [],
   "source": [
    "import os \n",
    "import datetime\n",
    "import pandas as pd \n",
    "import numpy as np "
   ]
  },
  {
   "cell_type": "code",
   "execution_count": 3,
   "metadata": {},
   "outputs": [
    {
     "data": {
      "text/html": [
       "<div>\n",
       "<style scoped>\n",
       "    .dataframe tbody tr th:only-of-type {\n",
       "        vertical-align: middle;\n",
       "    }\n",
       "\n",
       "    .dataframe tbody tr th {\n",
       "        vertical-align: top;\n",
       "    }\n",
       "\n",
       "    .dataframe thead th {\n",
       "        text-align: right;\n",
       "    }\n",
       "</style>\n",
       "<table border=\"1\" class=\"dataframe\">\n",
       "  <thead>\n",
       "    <tr style=\"text-align: right;\">\n",
       "      <th></th>\n",
       "      <th>Timestamp</th>\n",
       "      <th>Open</th>\n",
       "      <th>High</th>\n",
       "      <th>Low</th>\n",
       "      <th>Close</th>\n",
       "      <th>Volume</th>\n",
       "      <th>Trades</th>\n",
       "      <th>datetime</th>\n",
       "    </tr>\n",
       "  </thead>\n",
       "  <tbody>\n",
       "    <tr>\n",
       "      <th>0</th>\n",
       "      <td>1381095000</td>\n",
       "      <td>122.00000</td>\n",
       "      <td>122.00000</td>\n",
       "      <td>122.00</td>\n",
       "      <td>122.00</td>\n",
       "      <td>0.100000</td>\n",
       "      <td>1</td>\n",
       "      <td>2013-10-06 21:30:00</td>\n",
       "    </tr>\n",
       "    <tr>\n",
       "      <th>1</th>\n",
       "      <td>1381178700</td>\n",
       "      <td>123.61000</td>\n",
       "      <td>123.61000</td>\n",
       "      <td>123.61</td>\n",
       "      <td>123.61</td>\n",
       "      <td>0.100000</td>\n",
       "      <td>1</td>\n",
       "      <td>2013-10-07 20:45:00</td>\n",
       "    </tr>\n",
       "    <tr>\n",
       "      <th>2</th>\n",
       "      <td>1381200300</td>\n",
       "      <td>123.91000</td>\n",
       "      <td>123.91000</td>\n",
       "      <td>123.90</td>\n",
       "      <td>123.90</td>\n",
       "      <td>1.991600</td>\n",
       "      <td>2</td>\n",
       "      <td>2013-10-08 02:45:00</td>\n",
       "    </tr>\n",
       "    <tr>\n",
       "      <th>3</th>\n",
       "      <td>1381209300</td>\n",
       "      <td>124.19000</td>\n",
       "      <td>124.19000</td>\n",
       "      <td>124.18</td>\n",
       "      <td>124.18</td>\n",
       "      <td>2.000000</td>\n",
       "      <td>2</td>\n",
       "      <td>2013-10-08 05:15:00</td>\n",
       "    </tr>\n",
       "    <tr>\n",
       "      <th>4</th>\n",
       "      <td>1381311000</td>\n",
       "      <td>124.01687</td>\n",
       "      <td>124.01687</td>\n",
       "      <td>123.84</td>\n",
       "      <td>123.84</td>\n",
       "      <td>2.823000</td>\n",
       "      <td>3</td>\n",
       "      <td>2013-10-09 09:30:00</td>\n",
       "    </tr>\n",
       "    <tr>\n",
       "      <th>...</th>\n",
       "      <td>...</td>\n",
       "      <td>...</td>\n",
       "      <td>...</td>\n",
       "      <td>...</td>\n",
       "      <td>...</td>\n",
       "      <td>...</td>\n",
       "      <td>...</td>\n",
       "      <td>...</td>\n",
       "    </tr>\n",
       "    <tr>\n",
       "      <th>95</th>\n",
       "      <td>1382627700</td>\n",
       "      <td>199.73000</td>\n",
       "      <td>199.73000</td>\n",
       "      <td>198.60</td>\n",
       "      <td>198.60</td>\n",
       "      <td>7.510070</td>\n",
       "      <td>7</td>\n",
       "      <td>2013-10-24 15:15:00</td>\n",
       "    </tr>\n",
       "    <tr>\n",
       "      <th>96</th>\n",
       "      <td>1382629500</td>\n",
       "      <td>198.00000</td>\n",
       "      <td>198.00000</td>\n",
       "      <td>198.00</td>\n",
       "      <td>198.00</td>\n",
       "      <td>3.000000</td>\n",
       "      <td>2</td>\n",
       "      <td>2013-10-24 15:45:00</td>\n",
       "    </tr>\n",
       "    <tr>\n",
       "      <th>97</th>\n",
       "      <td>1382630400</td>\n",
       "      <td>197.06000</td>\n",
       "      <td>197.06000</td>\n",
       "      <td>196.72</td>\n",
       "      <td>196.72</td>\n",
       "      <td>4.000000</td>\n",
       "      <td>4</td>\n",
       "      <td>2013-10-24 16:00:00</td>\n",
       "    </tr>\n",
       "    <tr>\n",
       "      <th>98</th>\n",
       "      <td>1382631300</td>\n",
       "      <td>192.91000</td>\n",
       "      <td>193.25000</td>\n",
       "      <td>192.91</td>\n",
       "      <td>193.25</td>\n",
       "      <td>1.469862</td>\n",
       "      <td>2</td>\n",
       "      <td>2013-10-24 16:15:00</td>\n",
       "    </tr>\n",
       "    <tr>\n",
       "      <th>99</th>\n",
       "      <td>1382632200</td>\n",
       "      <td>195.57000</td>\n",
       "      <td>195.57000</td>\n",
       "      <td>195.47</td>\n",
       "      <td>195.47</td>\n",
       "      <td>2.000000</td>\n",
       "      <td>2</td>\n",
       "      <td>2013-10-24 16:30:00</td>\n",
       "    </tr>\n",
       "  </tbody>\n",
       "</table>\n",
       "<p>100 rows × 8 columns</p>\n",
       "</div>"
      ],
      "text/plain": [
       "     Timestamp       Open       High     Low   Close    Volume  Trades  \\\n",
       "0   1381095000  122.00000  122.00000  122.00  122.00  0.100000       1   \n",
       "1   1381178700  123.61000  123.61000  123.61  123.61  0.100000       1   \n",
       "2   1381200300  123.91000  123.91000  123.90  123.90  1.991600       2   \n",
       "3   1381209300  124.19000  124.19000  124.18  124.18  2.000000       2   \n",
       "4   1381311000  124.01687  124.01687  123.84  123.84  2.823000       3   \n",
       "..         ...        ...        ...     ...     ...       ...     ...   \n",
       "95  1382627700  199.73000  199.73000  198.60  198.60  7.510070       7   \n",
       "96  1382629500  198.00000  198.00000  198.00  198.00  3.000000       2   \n",
       "97  1382630400  197.06000  197.06000  196.72  196.72  4.000000       4   \n",
       "98  1382631300  192.91000  193.25000  192.91  193.25  1.469862       2   \n",
       "99  1382632200  195.57000  195.57000  195.47  195.47  2.000000       2   \n",
       "\n",
       "              datetime  \n",
       "0  2013-10-06 21:30:00  \n",
       "1  2013-10-07 20:45:00  \n",
       "2  2013-10-08 02:45:00  \n",
       "3  2013-10-08 05:15:00  \n",
       "4  2013-10-09 09:30:00  \n",
       "..                 ...  \n",
       "95 2013-10-24 15:15:00  \n",
       "96 2013-10-24 15:45:00  \n",
       "97 2013-10-24 16:00:00  \n",
       "98 2013-10-24 16:15:00  \n",
       "99 2013-10-24 16:30:00  \n",
       "\n",
       "[100 rows x 8 columns]"
      ]
     },
     "execution_count": 3,
     "metadata": {},
     "output_type": "execute_result"
    }
   ],
   "source": [
    "columns = ['Timestamp','Open','High', 'Low', 'Close', 'Volume', 'Trades']\n",
    "\n",
    "df = pd.read_csv('data/BTC-USD/XBTUSD_15.csv', header = None, names = columns)\n",
    "df['datetime'] = pd.to_datetime(df['Timestamp'], unit='s')\n",
    "#df.columns = columns\n",
    "df.head(100)"
   ]
  },
  {
   "cell_type": "code",
   "execution_count": 4,
   "metadata": {},
   "outputs": [
    {
     "data": {
      "text/html": [
       "<div>\n",
       "<style scoped>\n",
       "    .dataframe tbody tr th:only-of-type {\n",
       "        vertical-align: middle;\n",
       "    }\n",
       "\n",
       "    .dataframe tbody tr th {\n",
       "        vertical-align: top;\n",
       "    }\n",
       "\n",
       "    .dataframe thead th {\n",
       "        text-align: right;\n",
       "    }\n",
       "</style>\n",
       "<table border=\"1\" class=\"dataframe\">\n",
       "  <thead>\n",
       "    <tr style=\"text-align: right;\">\n",
       "      <th></th>\n",
       "      <th>Timestamp</th>\n",
       "      <th>Open</th>\n",
       "      <th>High</th>\n",
       "      <th>Low</th>\n",
       "      <th>Close</th>\n",
       "      <th>Volume</th>\n",
       "      <th>Trades</th>\n",
       "      <th>datetime</th>\n",
       "      <th>open_low</th>\n",
       "      <th>open_close</th>\n",
       "      <th>open_high</th>\n",
       "      <th>high_low</th>\n",
       "      <th>low_close</th>\n",
       "      <th>high_close</th>\n",
       "    </tr>\n",
       "    <tr>\n",
       "      <th>datetime</th>\n",
       "      <th></th>\n",
       "      <th></th>\n",
       "      <th></th>\n",
       "      <th></th>\n",
       "      <th></th>\n",
       "      <th></th>\n",
       "      <th></th>\n",
       "      <th></th>\n",
       "      <th></th>\n",
       "      <th></th>\n",
       "      <th></th>\n",
       "      <th></th>\n",
       "      <th></th>\n",
       "      <th></th>\n",
       "    </tr>\n",
       "  </thead>\n",
       "  <tbody>\n",
       "    <tr>\n",
       "      <th>2013-10-06 21:30:00</th>\n",
       "      <td>1381095000</td>\n",
       "      <td>122.00000</td>\n",
       "      <td>122.00000</td>\n",
       "      <td>122.00</td>\n",
       "      <td>122.00</td>\n",
       "      <td>0.1000</td>\n",
       "      <td>1</td>\n",
       "      <td>2013-10-06 21:30:00</td>\n",
       "      <td>0.000000</td>\n",
       "      <td>0.000000</td>\n",
       "      <td>0.0</td>\n",
       "      <td>0.000000</td>\n",
       "      <td>0.0</td>\n",
       "      <td>0.000000</td>\n",
       "    </tr>\n",
       "    <tr>\n",
       "      <th>2013-10-07 20:45:00</th>\n",
       "      <td>1381178700</td>\n",
       "      <td>123.61000</td>\n",
       "      <td>123.61000</td>\n",
       "      <td>123.61</td>\n",
       "      <td>123.61</td>\n",
       "      <td>0.1000</td>\n",
       "      <td>1</td>\n",
       "      <td>2013-10-07 20:45:00</td>\n",
       "      <td>0.000000</td>\n",
       "      <td>0.000000</td>\n",
       "      <td>0.0</td>\n",
       "      <td>0.000000</td>\n",
       "      <td>0.0</td>\n",
       "      <td>0.000000</td>\n",
       "    </tr>\n",
       "    <tr>\n",
       "      <th>2013-10-08 02:45:00</th>\n",
       "      <td>1381200300</td>\n",
       "      <td>123.91000</td>\n",
       "      <td>123.91000</td>\n",
       "      <td>123.90</td>\n",
       "      <td>123.90</td>\n",
       "      <td>1.9916</td>\n",
       "      <td>2</td>\n",
       "      <td>2013-10-08 02:45:00</td>\n",
       "      <td>0.008070</td>\n",
       "      <td>0.008070</td>\n",
       "      <td>0.0</td>\n",
       "      <td>0.008070</td>\n",
       "      <td>0.0</td>\n",
       "      <td>-0.008070</td>\n",
       "    </tr>\n",
       "    <tr>\n",
       "      <th>2013-10-08 05:15:00</th>\n",
       "      <td>1381209300</td>\n",
       "      <td>124.19000</td>\n",
       "      <td>124.19000</td>\n",
       "      <td>124.18</td>\n",
       "      <td>124.18</td>\n",
       "      <td>2.0000</td>\n",
       "      <td>2</td>\n",
       "      <td>2013-10-08 05:15:00</td>\n",
       "      <td>0.008052</td>\n",
       "      <td>0.008052</td>\n",
       "      <td>0.0</td>\n",
       "      <td>0.008052</td>\n",
       "      <td>0.0</td>\n",
       "      <td>-0.008052</td>\n",
       "    </tr>\n",
       "    <tr>\n",
       "      <th>2013-10-09 09:30:00</th>\n",
       "      <td>1381311000</td>\n",
       "      <td>124.01687</td>\n",
       "      <td>124.01687</td>\n",
       "      <td>123.84</td>\n",
       "      <td>123.84</td>\n",
       "      <td>2.8230</td>\n",
       "      <td>3</td>\n",
       "      <td>2013-10-09 09:30:00</td>\n",
       "      <td>0.142618</td>\n",
       "      <td>0.142618</td>\n",
       "      <td>0.0</td>\n",
       "      <td>0.142618</td>\n",
       "      <td>0.0</td>\n",
       "      <td>-0.142618</td>\n",
       "    </tr>\n",
       "  </tbody>\n",
       "</table>\n",
       "</div>"
      ],
      "text/plain": [
       "                      Timestamp       Open       High     Low   Close  Volume  \\\n",
       "datetime                                                                        \n",
       "2013-10-06 21:30:00  1381095000  122.00000  122.00000  122.00  122.00  0.1000   \n",
       "2013-10-07 20:45:00  1381178700  123.61000  123.61000  123.61  123.61  0.1000   \n",
       "2013-10-08 02:45:00  1381200300  123.91000  123.91000  123.90  123.90  1.9916   \n",
       "2013-10-08 05:15:00  1381209300  124.19000  124.19000  124.18  124.18  2.0000   \n",
       "2013-10-09 09:30:00  1381311000  124.01687  124.01687  123.84  123.84  2.8230   \n",
       "\n",
       "                     Trades            datetime  open_low  open_close  \\\n",
       "datetime                                                                \n",
       "2013-10-06 21:30:00       1 2013-10-06 21:30:00  0.000000    0.000000   \n",
       "2013-10-07 20:45:00       1 2013-10-07 20:45:00  0.000000    0.000000   \n",
       "2013-10-08 02:45:00       2 2013-10-08 02:45:00  0.008070    0.008070   \n",
       "2013-10-08 05:15:00       2 2013-10-08 05:15:00  0.008052    0.008052   \n",
       "2013-10-09 09:30:00       3 2013-10-09 09:30:00  0.142618    0.142618   \n",
       "\n",
       "                     open_high  high_low  low_close  high_close  \n",
       "datetime                                                         \n",
       "2013-10-06 21:30:00        0.0  0.000000        0.0    0.000000  \n",
       "2013-10-07 20:45:00        0.0  0.000000        0.0    0.000000  \n",
       "2013-10-08 02:45:00        0.0  0.008070        0.0   -0.008070  \n",
       "2013-10-08 05:15:00        0.0  0.008052        0.0   -0.008052  \n",
       "2013-10-09 09:30:00        0.0  0.142618        0.0   -0.142618  "
      ]
     },
     "execution_count": 4,
     "metadata": {},
     "output_type": "execute_result"
    }
   ],
   "source": [
    "df['open_low'] = 100*((df['Open'] - df['Low']) / df['Open']) \n",
    "\n",
    "df['open_close'] = 100*((df['Open'] - df['Close']) / df['Open'])\n",
    "\n",
    "df['open_high'] = 100*((df['Open'] - df['High']) / df['Open'])\n",
    "\n",
    "df['high_low'] = 100*(abs(df['High'] - df['Low']) / df['High'])\n",
    "\n",
    "df['low_close'] = 100*((df['Low'] - df['Close']) / df['Low'])\n",
    "\n",
    "df['high_close'] = 100*((df['Close'] - df['High']) / df['High'])\n",
    "\n",
    "df.index = df['datetime']\n",
    "\n",
    "df.head()"
   ]
  },
  {
   "cell_type": "code",
   "execution_count": 5,
   "metadata": {},
   "outputs": [],
   "source": [
    "df = df[df.index >= '2016-01-01']"
   ]
  },
  {
   "cell_type": "code",
   "execution_count": 6,
   "metadata": {},
   "outputs": [
    {
     "data": {
      "text/plain": [
       "Timestamp('2016-01-01 04:15:00')"
      ]
     },
     "execution_count": 6,
     "metadata": {},
     "output_type": "execute_result"
    }
   ],
   "source": [
    "df.index.min()"
   ]
  },
  {
   "cell_type": "code",
   "execution_count": 7,
   "metadata": {},
   "outputs": [
    {
     "data": {
      "text/plain": [
       "(301373, 14)"
      ]
     },
     "execution_count": 7,
     "metadata": {},
     "output_type": "execute_result"
    }
   ],
   "source": [
    "df.shape"
   ]
  },
  {
   "cell_type": "code",
   "execution_count": 8,
   "metadata": {},
   "outputs": [
    {
     "data": {
      "text/plain": [
       "Timestamp('2024-09-30 23:45:00')"
      ]
     },
     "execution_count": 8,
     "metadata": {},
     "output_type": "execute_result"
    }
   ],
   "source": [
    "df.datetime.max()"
   ]
  },
  {
   "cell_type": "code",
   "execution_count": 9,
   "metadata": {},
   "outputs": [],
   "source": [
    "df.to_csv('data/BTC-USD/BTCUSD_15.csv')"
   ]
  },
  {
   "cell_type": "code",
   "execution_count": null,
   "metadata": {},
   "outputs": [
    {
     "data": {
      "text/plain": [
       "[<matplotlib.lines.Line2D at 0x1b9032f2bd0>]"
      ]
     },
     "execution_count": 35,
     "metadata": {},
     "output_type": "execute_result"
    },
    {
     "data": {
      "image/png": "[encoded data removed]",
      "text/plain": [
       "<Figure size 640x480 with 1 Axes>"
      ]
     },
     "metadata": {},
     "output_type": "display_data"
    }
   ],
   "source": [
    "import matplotlib.pyplot as plt \n",
    "\n",
    "plt.plot(df.datetime, df.Close, c = 'b')\n"
   ]
  },
  {
   "cell_type": "code",
   "execution_count": null,
   "metadata": {},
   "outputs": [],
   "source": []
  }
 ],
 "metadata": {
  "kernelspec": {
   "display_name": "pytorch",
   "language": "python",
   "name": "python3"
  },
  "language_info": {
   "codemirror_mode": {
    "name": "ipython",
    "version": 3
   },
   "file_extension": ".py",
   "mimetype": "text/x-python",
   "name": "python",
   "nbconvert_exporter": "python",
   "pygments_lexer": "ipython3",
   "version": "3.11.5"
  }
 },
 "nbformat": 4,
 "nbformat_minor": 2
}
