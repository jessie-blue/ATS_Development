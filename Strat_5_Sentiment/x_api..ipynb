{
 "cells": [
  {
   "cell_type": "code",
   "execution_count": 1,
   "metadata": {},
   "outputs": [],
   "source": [
    "import tweepy"
   ]
  },
  {
   "cell_type": "code",
   "execution_count": null,
   "metadata": {},
   "outputs": [],
   "source": [
    "# Replace with your own credentials\n",
    "API_KEY = '6bu9lFnWg1omagdFlemoFpCG9'\n",
    "API_SECRET_KEY = 'RrekP6uUPxCVfIcGwNBjJeLyMD2L45LQf234Vu6Td7nxbJaiTn'\n",
    "ACCESS_TOKEN = '1790035006888308736-sEh0DFsS83uDm01NrXvDSdDWxuWIie'\n",
    "ACCESS_TOKEN_SECRET = 'WMQpFQYQS53Ls46gYQ5KvVOfAnO9pF9XkzJlXQ0uYN11c'\n",
    "BEARER_TOKEN = 'AAAAAAAAAAAAAAAAAAAAAOD3uwEAAAAAXQ1bHhzYMXmARPtCK3nKZIvPOMI%3DJvUjScoxZpYFKSc7FxCljc8CvUYmuNvPXFGjLXtrlhHfx2NeYa'\n"
   ]
  }
 ],
 "metadata": {
  "kernelspec": {
   "display_name": "pytorch",
   "language": "python",
   "name": "python3"
  },
  "language_info": {
   "codemirror_mode": {
    "name": "ipython",
    "version": 3
   },
   "file_extension": ".py",
   "mimetype": "text/x-python",
   "name": "python",
   "nbconvert_exporter": "python",
   "pygments_lexer": "ipython3",
   "version": "3.11.5"
  }
 },
 "nbformat": 4,
 "nbformat_minor": 2
}
