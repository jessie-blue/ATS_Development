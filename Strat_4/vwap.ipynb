{
 "cells": [
  {
   "cell_type": "code",
   "execution_count": 17,
   "metadata": {},
   "outputs": [
    {
     "data": {
      "text/html": [
       "<div>\n",
       "<style scoped>\n",
       "    .dataframe tbody tr th:only-of-type {\n",
       "        vertical-align: middle;\n",
       "    }\n",
       "\n",
       "    .dataframe tbody tr th {\n",
       "        vertical-align: top;\n",
       "    }\n",
       "\n",
       "    .dataframe thead th {\n",
       "        text-align: right;\n",
       "    }\n",
       "</style>\n",
       "<table border=\"1\" class=\"dataframe\">\n",
       "  <thead>\n",
       "    <tr style=\"text-align: right;\">\n",
       "      <th></th>\n",
       "      <th>Open</th>\n",
       "      <th>High</th>\n",
       "      <th>Low</th>\n",
       "      <th>Close</th>\n",
       "      <th>Volume</th>\n",
       "      <th>Dividends</th>\n",
       "      <th>Stock Splits</th>\n",
       "      <th>open_low</th>\n",
       "      <th>open_close</th>\n",
       "      <th>open_high</th>\n",
       "      <th>high_low</th>\n",
       "      <th>low_close</th>\n",
       "      <th>high_close</th>\n",
       "      <th>gap</th>\n",
       "    </tr>\n",
       "    <tr>\n",
       "      <th>Date</th>\n",
       "      <th></th>\n",
       "      <th></th>\n",
       "      <th></th>\n",
       "      <th></th>\n",
       "      <th></th>\n",
       "      <th></th>\n",
       "      <th></th>\n",
       "      <th></th>\n",
       "      <th></th>\n",
       "      <th></th>\n",
       "      <th></th>\n",
       "      <th></th>\n",
       "      <th></th>\n",
       "      <th></th>\n",
       "    </tr>\n",
       "  </thead>\n",
       "  <tbody>\n",
       "    <tr>\n",
       "      <th>2004-06-18 00:00:00-04:00</th>\n",
       "      <td>21.70</td>\n",
       "      <td>21.85</td>\n",
       "      <td>21.54</td>\n",
       "      <td>21.60</td>\n",
       "      <td>12953300</td>\n",
       "      <td>0.0</td>\n",
       "      <td>0.0</td>\n",
       "      <td>0.737327</td>\n",
       "      <td>0.460829</td>\n",
       "      <td>-0.691244</td>\n",
       "      <td>1.418764</td>\n",
       "      <td>-0.278552</td>\n",
       "      <td>-1.144165</td>\n",
       "      <td>NaN</td>\n",
       "    </tr>\n",
       "    <tr>\n",
       "      <th>2004-06-21 00:00:00-04:00</th>\n",
       "      <td>21.58</td>\n",
       "      <td>21.69</td>\n",
       "      <td>21.41</td>\n",
       "      <td>21.47</td>\n",
       "      <td>5511700</td>\n",
       "      <td>0.0</td>\n",
       "      <td>0.0</td>\n",
       "      <td>0.787766</td>\n",
       "      <td>0.509731</td>\n",
       "      <td>-0.509731</td>\n",
       "      <td>1.290917</td>\n",
       "      <td>-0.280243</td>\n",
       "      <td>-1.014292</td>\n",
       "      <td>-0.092593</td>\n",
       "    </tr>\n",
       "    <tr>\n",
       "      <th>2004-06-22 00:00:00-04:00</th>\n",
       "      <td>21.47</td>\n",
       "      <td>21.48</td>\n",
       "      <td>21.29</td>\n",
       "      <td>21.44</td>\n",
       "      <td>9628200</td>\n",
       "      <td>0.0</td>\n",
       "      <td>0.0</td>\n",
       "      <td>0.838379</td>\n",
       "      <td>0.139730</td>\n",
       "      <td>-0.046577</td>\n",
       "      <td>0.884544</td>\n",
       "      <td>-0.704556</td>\n",
       "      <td>-0.186220</td>\n",
       "      <td>0.000000</td>\n",
       "    </tr>\n",
       "    <tr>\n",
       "      <th>2004-06-23 00:00:00-04:00</th>\n",
       "      <td>21.52</td>\n",
       "      <td>21.83</td>\n",
       "      <td>21.51</td>\n",
       "      <td>21.83</td>\n",
       "      <td>9303600</td>\n",
       "      <td>0.0</td>\n",
       "      <td>0.0</td>\n",
       "      <td>0.046468</td>\n",
       "      <td>-1.440520</td>\n",
       "      <td>-1.440520</td>\n",
       "      <td>1.465873</td>\n",
       "      <td>-1.487680</td>\n",
       "      <td>0.000000</td>\n",
       "      <td>0.373134</td>\n",
       "    </tr>\n",
       "    <tr>\n",
       "      <th>2004-06-24 00:00:00-04:00</th>\n",
       "      <td>21.83</td>\n",
       "      <td>22.01</td>\n",
       "      <td>21.80</td>\n",
       "      <td>21.91</td>\n",
       "      <td>10092000</td>\n",
       "      <td>0.0</td>\n",
       "      <td>0.0</td>\n",
       "      <td>0.137426</td>\n",
       "      <td>-0.366468</td>\n",
       "      <td>-0.824553</td>\n",
       "      <td>0.954112</td>\n",
       "      <td>-0.504587</td>\n",
       "      <td>-0.454339</td>\n",
       "      <td>0.000000</td>\n",
       "    </tr>\n",
       "  </tbody>\n",
       "</table>\n",
       "</div>"
      ],
      "text/plain": [
       "                            Open   High    Low  Close    Volume  Dividends  \\\n",
       "Date                                                                         \n",
       "2004-06-18 00:00:00-04:00  21.70  21.85  21.54  21.60  12953300        0.0   \n",
       "2004-06-21 00:00:00-04:00  21.58  21.69  21.41  21.47   5511700        0.0   \n",
       "2004-06-22 00:00:00-04:00  21.47  21.48  21.29  21.44   9628200        0.0   \n",
       "2004-06-23 00:00:00-04:00  21.52  21.83  21.51  21.83   9303600        0.0   \n",
       "2004-06-24 00:00:00-04:00  21.83  22.01  21.80  21.91  10092000        0.0   \n",
       "\n",
       "                           Stock Splits  open_low  open_close  open_high  \\\n",
       "Date                                                                       \n",
       "2004-06-18 00:00:00-04:00           0.0  0.737327    0.460829  -0.691244   \n",
       "2004-06-21 00:00:00-04:00           0.0  0.787766    0.509731  -0.509731   \n",
       "2004-06-22 00:00:00-04:00           0.0  0.838379    0.139730  -0.046577   \n",
       "2004-06-23 00:00:00-04:00           0.0  0.046468   -1.440520  -1.440520   \n",
       "2004-06-24 00:00:00-04:00           0.0  0.137426   -0.366468  -0.824553   \n",
       "\n",
       "                           high_low  low_close  high_close       gap  \n",
       "Date                                                                  \n",
       "2004-06-18 00:00:00-04:00  1.418764  -0.278552   -1.144165       NaN  \n",
       "2004-06-21 00:00:00-04:00  1.290917  -0.280243   -1.014292 -0.092593  \n",
       "2004-06-22 00:00:00-04:00  0.884544  -0.704556   -0.186220  0.000000  \n",
       "2004-06-23 00:00:00-04:00  1.465873  -1.487680    0.000000  0.373134  \n",
       "2004-06-24 00:00:00-04:00  0.954112  -0.504587   -0.454339  0.000000  "
      ]
     },
     "execution_count": 17,
     "metadata": {},
     "output_type": "execute_result"
    }
   ],
   "source": [
    "\n",
    "import os \n",
    "import pandas as pd\n",
    "import numpy as np\n",
    "import yfinance as yf\n",
    "import mplfinance as mpf\n",
    "import matplotlib.pyplot as plt\n",
    "import ta\n",
    "import talib\n",
    "from statsmodels.tsa.stattools import adfuller\n",
    "import vectorbt as vbt \n",
    "\n",
    "\n",
    "from technical_analysis import *\n",
    "from ALGO_KT1 import Preprocessing_functions as prf\n",
    "\n",
    "\n",
    "ticker = \"JPM\"\n",
    "df = prf.downlaod_symbol_data(ticker, period = \"240mo\")\n",
    "\n",
    "#df = pd.read_csv('crypto_data/ETHUSD_60_v1.csv')\n",
    "#df.columns = df.columns.str.capitalize()\n",
    "\n",
    "df.head()"
   ]
  },
  {
   "cell_type": "markdown",
   "metadata": {},
   "source": [
    "ticker = \"JPM\"\n",
    "df = prf.downlaod_symbol_data(ticker, period = \"240mo\")\n",
    "\n",
    "#df = ROC(df)\n",
    "\n",
    "df = EMA(df)\n",
    "\n",
    "df = momentum_oscillators(df) ## no vwap \n",
    "\n",
    "df = volatility(df)\n",
    "\n",
    "df = reversal_patterns(df)\n",
    "\n",
    "df = continuation_patterns(df)\n",
    "\n",
    "df = magic_doji(df)\n",
    "\n",
    "df['vwap'] = ta.volume.volume_weighted_average_price(df['High'],\n",
    "                                                     df['Low'],\n",
    "                                                     df['Close'],\n",
    "                                                     df['Volume'])\n",
    "\n",
    "\n",
    "\n",
    "df['vwap_diff'] = df['Close'] - df['vwap'] # if -ve then VWAP > Close ==> BUY P\n",
    "df['vwap_pct_diff'] =  (df['vwap_diff']) /  df['Close'].shift(-1)\n",
    "\n",
    "df = df.dropna()\n",
    "\n",
    "df.head()"
   ]
  },
  {
   "cell_type": "code",
   "execution_count": 3,
   "metadata": {},
   "outputs": [],
   "source": [
    "#df.columns"
   ]
  },
  {
   "cell_type": "markdown",
   "metadata": {},
   "source": [
    "stats = prf.dist_stats(df, \"vwap_diff\")\n",
    "stats_pct = prf.dist_stats(df, \"vwap_pct_diff\")\n",
    "stats_pct"
   ]
  },
  {
   "cell_type": "markdown",
   "metadata": {},
   "source": [
    "prefs = pd.read_csv(\"prefs_240311.csv\")"
   ]
  },
  {
   "cell_type": "markdown",
   "metadata": {},
   "source": [
    "prefs = pd.read_csv(\"prefs_240311.csv\")\n",
    "\n",
    "\n",
    "df1 = {}\n",
    "\n",
    "for idx, row in prefs.iterrows():\n",
    "        \n",
    "    ticker = row[\"Symbol\"].split('\\r\\n')[0].replace('-', '-P')\n",
    "\n",
    "    if ticker == \"Symbol\":\n",
    "        continue\n",
    "\n",
    "    df = prf.downlaod_symbol_data(ticker, period = \"240mo\")\n",
    "\n",
    "    #df = ROC(df)\n",
    "\n",
    "    df = EMA(df)\n",
    "\n",
    "    df = momentum_oscillators(df) ## no vwap \n",
    "\n",
    "    df = volatility(df)\n",
    "\n",
    "    df = reversal_patterns(df)\n",
    "\n",
    "    df = continuation_patterns(df)\n",
    "\n",
    "    df = magic_doji(df)\n",
    "\n",
    "    df['vwap'] = ta.volume.volume_weighted_average_price(df['High'],\n",
    "                                                        df['Low'],\n",
    "                                                        df['Close'],\n",
    "                                                        df['Volume'])\n",
    "\n",
    "\n",
    "\n",
    "    df['vwap_diff'] = df['Close'] - df['vwap'] # if -ve then VWAP > Close ==> BUY P\n",
    "    df['vwap_pct_diff'] =  (df['vwap_diff']) /  df['Close'].shift(-1)\n",
    "\n",
    "    df = df.dropna()\n",
    "\n",
    "    ### PARAMETERS \n",
    "    fees = 0.0014\n",
    "    long_threshold = 0.02\n",
    "    long_exits = df['vwap_pct_diff'] < 0.0\n",
    "\n",
    "    short_threshold = -0.20\n",
    "\n",
    "    df['buy_vwap'] = df['vwap_pct_diff'] >= long_threshold\n",
    "    df['sell_vwap'] = df['vwap_pct_diff'] >= short_threshold\n",
    "\n",
    "\n",
    "    long_entries = df['buy_vwap']\n",
    "    long_exits = df['vwap_pct_diff'] < 0.0\n",
    "\n",
    "\n",
    "    #print(entries, exits)\n",
    "\n",
    "    pf = vbt.Portfolio.from_signals(df['Close'], \n",
    "                                    long_entries, \n",
    "                                    long_exits,\n",
    "                                    freq=\"D\",\n",
    "                                    fees = fees)\n",
    "                                    #sl_stop = 0.05)\n",
    "    #print(pf.stats())\n",
    "\n",
    "    try:\n",
    "        df1[ticker] = pf.stats()\n",
    "        #pf.plot().write_image('Backtests/' + ticker+ '.png')\n",
    "        \n",
    "    except IndexError:\n",
    "        print(ticker)\n",
    "#df[df['vwap_pct_diff'] > 0.07].head()"
   ]
  },
  {
   "cell_type": "markdown",
   "metadata": {},
   "source": [
    "pd.DataFrame(df1, columns = df1.keys())"
   ]
  },
  {
   "cell_type": "markdown",
   "metadata": {},
   "source": [
    "pf.plot().show()"
   ]
  },
  {
   "cell_type": "markdown",
   "metadata": {},
   "source": [
    "vwap_band_low = 0.1 * (-1)\n",
    "vwap_band_high = 0.08\n",
    "\n",
    "profit_low = 0.07 * (-1)\n",
    "profit_high = 0.06\n",
    "\n",
    "\n",
    "df['buy_vwap'] = df['vwap_pct_diff'] < vwap_band_low\n",
    "df['sell_vwap'] = df['vwap_pct_diff'] > vwap_band_high \n",
    "df['vwap_strat'] = 0\n",
    "\n",
    "df['vwap_strat'] = np.where(df[\"buy_vwap\"] == True, 1, df['vwap_strat'])\n",
    "df['vwap_strat'] = np.where(df[\"sell_vwap\"] == True, -1, df['vwap_strat'])\n",
    "\n",
    "df.head()"
   ]
  },
  {
   "cell_type": "markdown",
   "metadata": {},
   "source": [
    " ### PARAMETERS \n",
    "long_threshold = 0.02\n",
    "long_exits = df['vwap_pct_diff'] < 0.0\n",
    "\n",
    "short_threshold = -0.20\n",
    "\n",
    "df['buy_vwap'] = df['vwap_pct_diff'] >= long_threshold\n",
    "df['sell_vwap'] = df['vwap_pct_diff'] >= short_threshold\n",
    "\n",
    "\n",
    "long_entries = df['buy_vwap']\n",
    "long_exits = df['vwap_pct_diff'] < 0.0\n",
    "\n",
    "\n",
    "#print(entries, exits)\n",
    "\n",
    "pf = vbt.Portfolio.from_signals(df['Close'], \n",
    "                                long_entries, \n",
    "                                long_exits,\n",
    "                                freq=\"D\",\n",
    "                                sl_stop = 0.05)\n",
    "print(pf.stats())"
   ]
  },
  {
   "cell_type": "code",
   "execution_count": 57,
   "metadata": {},
   "outputs": [
    {
     "data": {
      "text/html": [
       "<div>\n",
       "<style scoped>\n",
       "    .dataframe tbody tr th:only-of-type {\n",
       "        vertical-align: middle;\n",
       "    }\n",
       "\n",
       "    .dataframe tbody tr th {\n",
       "        vertical-align: top;\n",
       "    }\n",
       "\n",
       "    .dataframe thead th {\n",
       "        text-align: right;\n",
       "    }\n",
       "</style>\n",
       "<table border=\"1\" class=\"dataframe\">\n",
       "  <thead>\n",
       "    <tr style=\"text-align: right;\">\n",
       "      <th></th>\n",
       "      <th>Open</th>\n",
       "      <th>High</th>\n",
       "      <th>Low</th>\n",
       "      <th>Close</th>\n",
       "      <th>Volume</th>\n",
       "      <th>Dividends</th>\n",
       "      <th>Stock Splits</th>\n",
       "      <th>open_low</th>\n",
       "      <th>open_close</th>\n",
       "      <th>open_high</th>\n",
       "      <th>high_low</th>\n",
       "      <th>low_close</th>\n",
       "      <th>high_close</th>\n",
       "      <th>gap</th>\n",
       "      <th>vwap</th>\n",
       "      <th>vwap_diff</th>\n",
       "      <th>vwap_pct_diff</th>\n",
       "      <th>buy_vwap</th>\n",
       "      <th>sell_vwap</th>\n",
       "    </tr>\n",
       "    <tr>\n",
       "      <th>Date</th>\n",
       "      <th></th>\n",
       "      <th></th>\n",
       "      <th></th>\n",
       "      <th></th>\n",
       "      <th></th>\n",
       "      <th></th>\n",
       "      <th></th>\n",
       "      <th></th>\n",
       "      <th></th>\n",
       "      <th></th>\n",
       "      <th></th>\n",
       "      <th></th>\n",
       "      <th></th>\n",
       "      <th></th>\n",
       "      <th></th>\n",
       "      <th></th>\n",
       "      <th></th>\n",
       "      <th></th>\n",
       "      <th></th>\n",
       "    </tr>\n",
       "  </thead>\n",
       "  <tbody>\n",
       "    <tr>\n",
       "      <th>2008-07-14 00:00:00-04:00</th>\n",
       "      <td>4.95</td>\n",
       "      <td>4.95</td>\n",
       "      <td>4.48</td>\n",
       "      <td>4.48</td>\n",
       "      <td>8700</td>\n",
       "      <td>0.0</td>\n",
       "      <td>0.0</td>\n",
       "      <td>9.494949</td>\n",
       "      <td>9.494949</td>\n",
       "      <td>0.000000</td>\n",
       "      <td>9.494949</td>\n",
       "      <td>0.000000</td>\n",
       "      <td>-9.494949</td>\n",
       "      <td>-0.801603</td>\n",
       "      <td>5.578186</td>\n",
       "      <td>-1.098186</td>\n",
       "      <td>-0.260852</td>\n",
       "      <td>False</td>\n",
       "      <td>True</td>\n",
       "    </tr>\n",
       "    <tr>\n",
       "      <th>2008-07-15 00:00:00-04:00</th>\n",
       "      <td>4.37</td>\n",
       "      <td>4.43</td>\n",
       "      <td>4.17</td>\n",
       "      <td>4.21</td>\n",
       "      <td>25600</td>\n",
       "      <td>0.0</td>\n",
       "      <td>0.0</td>\n",
       "      <td>4.576659</td>\n",
       "      <td>3.661327</td>\n",
       "      <td>-1.372998</td>\n",
       "      <td>5.869074</td>\n",
       "      <td>-0.959233</td>\n",
       "      <td>-4.966140</td>\n",
       "      <td>-2.455357</td>\n",
       "      <td>5.462505</td>\n",
       "      <td>-1.252505</td>\n",
       "      <td>-0.280831</td>\n",
       "      <td>False</td>\n",
       "      <td>True</td>\n",
       "    </tr>\n",
       "    <tr>\n",
       "      <th>2009-01-23 00:00:00-05:00</th>\n",
       "      <td>3.99</td>\n",
       "      <td>4.09</td>\n",
       "      <td>3.72</td>\n",
       "      <td>3.93</td>\n",
       "      <td>19419</td>\n",
       "      <td>0.0</td>\n",
       "      <td>0.0</td>\n",
       "      <td>6.766917</td>\n",
       "      <td>1.503759</td>\n",
       "      <td>-2.506266</td>\n",
       "      <td>9.046455</td>\n",
       "      <td>-5.645161</td>\n",
       "      <td>-3.911980</td>\n",
       "      <td>-5.000000</td>\n",
       "      <td>4.860008</td>\n",
       "      <td>-0.930008</td>\n",
       "      <td>-0.233085</td>\n",
       "      <td>False</td>\n",
       "      <td>True</td>\n",
       "    </tr>\n",
       "    <tr>\n",
       "      <th>2009-02-19 00:00:00-05:00</th>\n",
       "      <td>3.38</td>\n",
       "      <td>3.39</td>\n",
       "      <td>2.19</td>\n",
       "      <td>2.95</td>\n",
       "      <td>14850</td>\n",
       "      <td>0.0</td>\n",
       "      <td>0.0</td>\n",
       "      <td>35.207101</td>\n",
       "      <td>12.721893</td>\n",
       "      <td>-0.295858</td>\n",
       "      <td>35.398230</td>\n",
       "      <td>-34.703196</td>\n",
       "      <td>-12.979351</td>\n",
       "      <td>-1.457726</td>\n",
       "      <td>3.829954</td>\n",
       "      <td>-0.879954</td>\n",
       "      <td>-0.296281</td>\n",
       "      <td>False</td>\n",
       "      <td>True</td>\n",
       "    </tr>\n",
       "    <tr>\n",
       "      <th>2009-02-20 00:00:00-05:00</th>\n",
       "      <td>2.83</td>\n",
       "      <td>3.34</td>\n",
       "      <td>2.80</td>\n",
       "      <td>2.97</td>\n",
       "      <td>19377</td>\n",
       "      <td>0.0</td>\n",
       "      <td>0.0</td>\n",
       "      <td>1.060071</td>\n",
       "      <td>-4.946996</td>\n",
       "      <td>-18.021201</td>\n",
       "      <td>16.167665</td>\n",
       "      <td>-6.071429</td>\n",
       "      <td>-11.077844</td>\n",
       "      <td>-4.067797</td>\n",
       "      <td>3.765477</td>\n",
       "      <td>-0.795477</td>\n",
       "      <td>-0.272424</td>\n",
       "      <td>False</td>\n",
       "      <td>True</td>\n",
       "    </tr>\n",
       "    <tr>\n",
       "      <th>2009-02-23 00:00:00-05:00</th>\n",
       "      <td>3.11</td>\n",
       "      <td>3.13</td>\n",
       "      <td>2.77</td>\n",
       "      <td>2.92</td>\n",
       "      <td>37375</td>\n",
       "      <td>0.0</td>\n",
       "      <td>0.0</td>\n",
       "      <td>10.932476</td>\n",
       "      <td>6.109325</td>\n",
       "      <td>-0.643087</td>\n",
       "      <td>11.501597</td>\n",
       "      <td>-5.415162</td>\n",
       "      <td>-6.709265</td>\n",
       "      <td>4.713805</td>\n",
       "      <td>3.663441</td>\n",
       "      <td>-0.743441</td>\n",
       "      <td>-0.222587</td>\n",
       "      <td>False</td>\n",
       "      <td>True</td>\n",
       "    </tr>\n",
       "    <tr>\n",
       "      <th>2020-03-16 00:00:00-04:00</th>\n",
       "      <td>16.64</td>\n",
       "      <td>17.19</td>\n",
       "      <td>14.27</td>\n",
       "      <td>14.64</td>\n",
       "      <td>2623</td>\n",
       "      <td>0.0</td>\n",
       "      <td>0.0</td>\n",
       "      <td>14.242788</td>\n",
       "      <td>12.019231</td>\n",
       "      <td>-3.305288</td>\n",
       "      <td>16.986620</td>\n",
       "      <td>-2.592852</td>\n",
       "      <td>-14.834206</td>\n",
       "      <td>5.852417</td>\n",
       "      <td>18.320870</td>\n",
       "      <td>-3.680870</td>\n",
       "      <td>-0.209617</td>\n",
       "      <td>False</td>\n",
       "      <td>True</td>\n",
       "    </tr>\n",
       "    <tr>\n",
       "      <th>2020-03-18 00:00:00-04:00</th>\n",
       "      <td>15.81</td>\n",
       "      <td>15.81</td>\n",
       "      <td>12.28</td>\n",
       "      <td>13.08</td>\n",
       "      <td>4964</td>\n",
       "      <td>0.0</td>\n",
       "      <td>0.0</td>\n",
       "      <td>22.327641</td>\n",
       "      <td>17.267552</td>\n",
       "      <td>0.000000</td>\n",
       "      <td>22.327641</td>\n",
       "      <td>-6.514658</td>\n",
       "      <td>-17.267552</td>\n",
       "      <td>-9.965831</td>\n",
       "      <td>17.611390</td>\n",
       "      <td>-4.531390</td>\n",
       "      <td>-0.335162</td>\n",
       "      <td>False</td>\n",
       "      <td>True</td>\n",
       "    </tr>\n",
       "    <tr>\n",
       "      <th>2020-03-19 00:00:00-04:00</th>\n",
       "      <td>13.96</td>\n",
       "      <td>13.96</td>\n",
       "      <td>13.47</td>\n",
       "      <td>13.52</td>\n",
       "      <td>3457</td>\n",
       "      <td>0.0</td>\n",
       "      <td>0.0</td>\n",
       "      <td>3.510029</td>\n",
       "      <td>3.151862</td>\n",
       "      <td>0.000000</td>\n",
       "      <td>3.510029</td>\n",
       "      <td>-0.371195</td>\n",
       "      <td>-3.151862</td>\n",
       "      <td>6.727829</td>\n",
       "      <td>17.415197</td>\n",
       "      <td>-3.895197</td>\n",
       "      <td>-0.219324</td>\n",
       "      <td>False</td>\n",
       "      <td>True</td>\n",
       "    </tr>\n",
       "  </tbody>\n",
       "</table>\n",
       "</div>"
      ],
      "text/plain": [
       "                            Open   High    Low  Close  Volume  Dividends  \\\n",
       "Date                                                                       \n",
       "2008-07-14 00:00:00-04:00   4.95   4.95   4.48   4.48    8700        0.0   \n",
       "2008-07-15 00:00:00-04:00   4.37   4.43   4.17   4.21   25600        0.0   \n",
       "2009-01-23 00:00:00-05:00   3.99   4.09   3.72   3.93   19419        0.0   \n",
       "2009-02-19 00:00:00-05:00   3.38   3.39   2.19   2.95   14850        0.0   \n",
       "2009-02-20 00:00:00-05:00   2.83   3.34   2.80   2.97   19377        0.0   \n",
       "2009-02-23 00:00:00-05:00   3.11   3.13   2.77   2.92   37375        0.0   \n",
       "2020-03-16 00:00:00-04:00  16.64  17.19  14.27  14.64    2623        0.0   \n",
       "2020-03-18 00:00:00-04:00  15.81  15.81  12.28  13.08    4964        0.0   \n",
       "2020-03-19 00:00:00-04:00  13.96  13.96  13.47  13.52    3457        0.0   \n",
       "\n",
       "                           Stock Splits   open_low  open_close  open_high  \\\n",
       "Date                                                                        \n",
       "2008-07-14 00:00:00-04:00           0.0   9.494949    9.494949   0.000000   \n",
       "2008-07-15 00:00:00-04:00           0.0   4.576659    3.661327  -1.372998   \n",
       "2009-01-23 00:00:00-05:00           0.0   6.766917    1.503759  -2.506266   \n",
       "2009-02-19 00:00:00-05:00           0.0  35.207101   12.721893  -0.295858   \n",
       "2009-02-20 00:00:00-05:00           0.0   1.060071   -4.946996 -18.021201   \n",
       "2009-02-23 00:00:00-05:00           0.0  10.932476    6.109325  -0.643087   \n",
       "2020-03-16 00:00:00-04:00           0.0  14.242788   12.019231  -3.305288   \n",
       "2020-03-18 00:00:00-04:00           0.0  22.327641   17.267552   0.000000   \n",
       "2020-03-19 00:00:00-04:00           0.0   3.510029    3.151862   0.000000   \n",
       "\n",
       "                            high_low  low_close  high_close       gap  \\\n",
       "Date                                                                    \n",
       "2008-07-14 00:00:00-04:00   9.494949   0.000000   -9.494949 -0.801603   \n",
       "2008-07-15 00:00:00-04:00   5.869074  -0.959233   -4.966140 -2.455357   \n",
       "2009-01-23 00:00:00-05:00   9.046455  -5.645161   -3.911980 -5.000000   \n",
       "2009-02-19 00:00:00-05:00  35.398230 -34.703196  -12.979351 -1.457726   \n",
       "2009-02-20 00:00:00-05:00  16.167665  -6.071429  -11.077844 -4.067797   \n",
       "2009-02-23 00:00:00-05:00  11.501597  -5.415162   -6.709265  4.713805   \n",
       "2020-03-16 00:00:00-04:00  16.986620  -2.592852  -14.834206  5.852417   \n",
       "2020-03-18 00:00:00-04:00  22.327641  -6.514658  -17.267552 -9.965831   \n",
       "2020-03-19 00:00:00-04:00   3.510029  -0.371195   -3.151862  6.727829   \n",
       "\n",
       "                                vwap  vwap_diff  vwap_pct_diff  buy_vwap  \\\n",
       "Date                                                                       \n",
       "2008-07-14 00:00:00-04:00   5.578186  -1.098186      -0.260852     False   \n",
       "2008-07-15 00:00:00-04:00   5.462505  -1.252505      -0.280831     False   \n",
       "2009-01-23 00:00:00-05:00   4.860008  -0.930008      -0.233085     False   \n",
       "2009-02-19 00:00:00-05:00   3.829954  -0.879954      -0.296281     False   \n",
       "2009-02-20 00:00:00-05:00   3.765477  -0.795477      -0.272424     False   \n",
       "2009-02-23 00:00:00-05:00   3.663441  -0.743441      -0.222587     False   \n",
       "2020-03-16 00:00:00-04:00  18.320870  -3.680870      -0.209617     False   \n",
       "2020-03-18 00:00:00-04:00  17.611390  -4.531390      -0.335162     False   \n",
       "2020-03-19 00:00:00-04:00  17.415197  -3.895197      -0.219324     False   \n",
       "\n",
       "                           sell_vwap  \n",
       "Date                                  \n",
       "2008-07-14 00:00:00-04:00       True  \n",
       "2008-07-15 00:00:00-04:00       True  \n",
       "2009-01-23 00:00:00-05:00       True  \n",
       "2009-02-19 00:00:00-05:00       True  \n",
       "2009-02-20 00:00:00-05:00       True  \n",
       "2009-02-23 00:00:00-05:00       True  \n",
       "2020-03-16 00:00:00-04:00       True  \n",
       "2020-03-18 00:00:00-04:00       True  \n",
       "2020-03-19 00:00:00-04:00       True  "
      ]
     },
     "execution_count": 57,
     "metadata": {},
     "output_type": "execute_result"
    }
   ],
   "source": [
    "df[df['sell_vwap'] == True]"
   ]
  },
  {
   "cell_type": "code",
   "execution_count": 58,
   "metadata": {},
   "outputs": [
    {
     "name": "stderr",
     "output_type": "stream",
     "text": [
      "AGASF: No data found, symbol may be delisted\n",
      "C:\\Users\\User\\AppData\\Local\\Temp\\ipykernel_20444\\3795556587.py:62: UserWarning:\n",
      "\n",
      "Metric 'start' raised an exception\n",
      "\n"
     ]
    },
    {
     "name": "stdout",
     "output_type": "stream",
     "text": [
      "AGASF\n"
     ]
    },
    {
     "name": "stderr",
     "output_type": "stream",
     "text": [
      "ATLAF: No data found, symbol may be delisted\n",
      "C:\\Users\\User\\AppData\\Local\\Temp\\ipykernel_20444\\3795556587.py:62: UserWarning:\n",
      "\n",
      "Metric 'start' raised an exception\n",
      "\n"
     ]
    },
    {
     "name": "stdout",
     "output_type": "stream",
     "text": [
      "ATLAF\n"
     ]
    },
    {
     "name": "stderr",
     "output_type": "stream",
     "text": [
      "AIG-PA: No data found, symbol may be delisted\n",
      "C:\\Users\\User\\AppData\\Local\\Temp\\ipykernel_20444\\3795556587.py:62: UserWarning:\n",
      "\n",
      "Metric 'start' raised an exception\n",
      "\n"
     ]
    },
    {
     "name": "stdout",
     "output_type": "stream",
     "text": [
      "AIG-PA\n"
     ]
    },
    {
     "name": "stderr",
     "output_type": "stream",
     "text": [
      "AERGP: No data found, symbol may be delisted\n",
      "C:\\Users\\User\\AppData\\Local\\Temp\\ipykernel_20444\\3795556587.py:62: UserWarning:\n",
      "\n",
      "Metric 'start' raised an exception\n",
      "\n"
     ]
    },
    {
     "name": "stdout",
     "output_type": "stream",
     "text": [
      "AERGP\n"
     ]
    },
    {
     "name": "stderr",
     "output_type": "stream",
     "text": [
      "AVTR-PA: No data found, symbol may be delisted\n",
      "C:\\Users\\User\\AppData\\Local\\Temp\\ipykernel_20444\\3795556587.py:62: UserWarning:\n",
      "\n",
      "Metric 'start' raised an exception\n",
      "\n"
     ]
    },
    {
     "name": "stdout",
     "output_type": "stream",
     "text": [
      "AVTR-PA\n"
     ]
    },
    {
     "name": "stderr",
     "output_type": "stream",
     "text": [
      "TEMP85: No data found, symbol may be delisted\n",
      "C:\\Users\\User\\AppData\\Local\\Temp\\ipykernel_20444\\3795556587.py:62: UserWarning:\n",
      "\n",
      "Metric 'start' raised an exception\n",
      "\n"
     ]
    },
    {
     "name": "stdout",
     "output_type": "stream",
     "text": [
      "TEMP85\n"
     ]
    },
    {
     "name": "stderr",
     "output_type": "stream",
     "text": [
      "TEMP05: No data found, symbol may be delisted\n",
      "C:\\Users\\User\\AppData\\Local\\Temp\\ipykernel_20444\\3795556587.py:62: UserWarning:\n",
      "\n",
      "Metric 'start' raised an exception\n",
      "\n"
     ]
    },
    {
     "name": "stdout",
     "output_type": "stream",
     "text": [
      "TEMP05\n"
     ]
    },
    {
     "name": "stderr",
     "output_type": "stream",
     "text": [
      "BKMRL: No data found, symbol may be delisted\n",
      "C:\\Users\\User\\AppData\\Local\\Temp\\ipykernel_20444\\3795556587.py:62: UserWarning:\n",
      "\n",
      "Metric 'start' raised an exception\n",
      "\n"
     ]
    },
    {
     "name": "stdout",
     "output_type": "stream",
     "text": [
      "BKMRL\n"
     ]
    },
    {
     "name": "stderr",
     "output_type": "stream",
     "text": [
      "BCXQL: No data found, symbol may be delisted\n",
      "C:\\Users\\User\\AppData\\Local\\Temp\\ipykernel_20444\\3795556587.py:62: UserWarning:\n",
      "\n",
      "Metric 'start' raised an exception\n",
      "\n"
     ]
    },
    {
     "name": "stdout",
     "output_type": "stream",
     "text": [
      "BCXQL\n"
     ]
    },
    {
     "name": "stderr",
     "output_type": "stream",
     "text": [
      "TEMP46: No data found, symbol may be delisted\n",
      "C:\\Users\\User\\AppData\\Local\\Temp\\ipykernel_20444\\3795556587.py:62: UserWarning:\n",
      "\n",
      "Metric 'start' raised an exception\n",
      "\n"
     ]
    },
    {
     "name": "stdout",
     "output_type": "stream",
     "text": [
      "TEMP46\n"
     ]
    },
    {
     "name": "stderr",
     "output_type": "stream",
     "text": [
      "BKNML: No data found, symbol may be delisted\n",
      "C:\\Users\\User\\AppData\\Local\\Temp\\ipykernel_20444\\3795556587.py:62: UserWarning:\n",
      "\n",
      "Metric 'start' raised an exception\n",
      "\n"
     ]
    },
    {
     "name": "stdout",
     "output_type": "stream",
     "text": [
      "BKNML\n"
     ]
    },
    {
     "name": "stderr",
     "output_type": "stream",
     "text": [
      "BKTD: No data found, symbol may be delisted\n",
      "C:\\Users\\User\\AppData\\Local\\Temp\\ipykernel_20444\\3795556587.py:62: UserWarning:\n",
      "\n",
      "Metric 'start' raised an exception\n",
      "\n"
     ]
    },
    {
     "name": "stdout",
     "output_type": "stream",
     "text": [
      "BKTD\n"
     ]
    },
    {
     "name": "stderr",
     "output_type": "stream",
     "text": [
      "BKFPF: No data found, symbol may be delisted\n",
      "C:\\Users\\User\\AppData\\Local\\Temp\\ipykernel_20444\\3795556587.py:62: UserWarning:\n",
      "\n",
      "Metric 'start' raised an exception\n",
      "\n"
     ]
    },
    {
     "name": "stdout",
     "output_type": "stream",
     "text": [
      "BKFPF\n"
     ]
    },
    {
     "name": "stderr",
     "output_type": "stream",
     "text": [
      "C:\\Users\\User\\AppData\\Local\\Temp\\ipykernel_20444\\3795556587.py:62: UserWarning:\n",
      "\n",
      "Metric 'start' raised an exception\n",
      "\n"
     ]
    },
    {
     "name": "stdout",
     "output_type": "stream",
     "text": [
      "BKAAF\n"
     ]
    },
    {
     "name": "stderr",
     "output_type": "stream",
     "text": [
      "C:\\Users\\User\\AppData\\Local\\Temp\\ipykernel_20444\\3795556587.py:62: UserWarning:\n",
      "\n",
      "Metric 'start' raised an exception\n",
      "\n"
     ]
    },
    {
     "name": "stdout",
     "output_type": "stream",
     "text": [
      "CDNUF\n"
     ]
    },
    {
     "name": "stderr",
     "output_type": "stream",
     "text": [
      "TEMP52: No data found, symbol may be delisted\n",
      "C:\\Users\\User\\AppData\\Local\\Temp\\ipykernel_20444\\3795556587.py:62: UserWarning:\n",
      "\n",
      "Metric 'start' raised an exception\n",
      "\n"
     ]
    },
    {
     "name": "stdout",
     "output_type": "stream",
     "text": [
      "TEMP52\n"
     ]
    },
    {
     "name": "stderr",
     "output_type": "stream",
     "text": [
      "EBR.B: No data found, symbol may be delisted\n",
      "C:\\Users\\User\\AppData\\Local\\Temp\\ipykernel_20444\\3795556587.py:62: UserWarning:\n",
      "\n",
      "Metric 'start' raised an exception\n",
      "\n"
     ]
    },
    {
     "name": "stdout",
     "output_type": "stream",
     "text": [
      "EBR.B\n"
     ]
    },
    {
     "name": "stderr",
     "output_type": "stream",
     "text": [
      "C-PJ: No data found, symbol may be delisted\n",
      "C:\\Users\\User\\AppData\\Local\\Temp\\ipykernel_20444\\3795556587.py:62: UserWarning:\n",
      "\n",
      "Metric 'start' raised an exception\n",
      "\n"
     ]
    },
    {
     "name": "stdout",
     "output_type": "stream",
     "text": [
      "C-PJ\n"
     ]
    },
    {
     "name": "stderr",
     "output_type": "stream",
     "text": [
      "CBKAP: No data found, symbol may be delisted\n",
      "C:\\Users\\User\\AppData\\Local\\Temp\\ipykernel_20444\\3795556587.py:62: UserWarning:\n",
      "\n",
      "Metric 'start' raised an exception\n",
      "\n"
     ]
    },
    {
     "name": "stdout",
     "output_type": "stream",
     "text": [
      "CBKAP\n"
     ]
    },
    {
     "name": "stderr",
     "output_type": "stream",
     "text": [
      "C:\\Users\\User\\AppData\\Local\\Temp\\ipykernel_20444\\3795556587.py:62: UserWarning:\n",
      "\n",
      "Metric 'start' raised an exception\n",
      "\n"
     ]
    },
    {
     "name": "stdout",
     "output_type": "stream",
     "text": [
      "CBCPQ\n"
     ]
    },
    {
     "name": "stderr",
     "output_type": "stream",
     "text": [
      "CBJCL: No data found, symbol may be delisted\n",
      "C:\\Users\\User\\AppData\\Local\\Temp\\ipykernel_20444\\3795556587.py:62: UserWarning:\n",
      "\n",
      "Metric 'start' raised an exception\n",
      "\n"
     ]
    },
    {
     "name": "stdout",
     "output_type": "stream",
     "text": [
      "CBJCL\n"
     ]
    },
    {
     "name": "stderr",
     "output_type": "stream",
     "text": [
      "TEMP48: No data found, symbol may be delisted\n",
      "C:\\Users\\User\\AppData\\Local\\Temp\\ipykernel_20444\\3795556587.py:62: UserWarning:\n",
      "\n",
      "Metric 'start' raised an exception\n",
      "\n"
     ]
    },
    {
     "name": "stdout",
     "output_type": "stream",
     "text": [
      "TEMP48\n"
     ]
    },
    {
     "name": "stderr",
     "output_type": "stream",
     "text": [
      "DCP-PC: No data found, symbol may be delisted\n",
      "C:\\Users\\User\\AppData\\Local\\Temp\\ipykernel_20444\\3795556587.py:62: UserWarning:\n",
      "\n",
      "Metric 'start' raised an exception\n",
      "\n"
     ]
    },
    {
     "name": "stdout",
     "output_type": "stream",
     "text": [
      "DCP-PC\n"
     ]
    },
    {
     "name": "stderr",
     "output_type": "stream",
     "text": [
      "EMICF: No data found, symbol may be delisted\n",
      "C:\\Users\\User\\AppData\\Local\\Temp\\ipykernel_20444\\3795556587.py:62: UserWarning:\n",
      "\n",
      "Metric 'start' raised an exception\n",
      "\n"
     ]
    },
    {
     "name": "stdout",
     "output_type": "stream",
     "text": [
      "EMICF\n"
     ]
    },
    {
     "name": "stderr",
     "output_type": "stream",
     "text": [
      "TEMP17: No data found, symbol may be delisted\n",
      "C:\\Users\\User\\AppData\\Local\\Temp\\ipykernel_20444\\3795556587.py:62: UserWarning:\n",
      "\n",
      "Metric 'start' raised an exception\n",
      "\n"
     ]
    },
    {
     "name": "stdout",
     "output_type": "stream",
     "text": [
      "TEMP17\n"
     ]
    },
    {
     "name": "stderr",
     "output_type": "stream",
     "text": [
      "FTBXL: No data found, symbol may be delisted\n",
      "C:\\Users\\User\\AppData\\Local\\Temp\\ipykernel_20444\\3795556587.py:62: UserWarning:\n",
      "\n",
      "Metric 'start' raised an exception\n",
      "\n"
     ]
    },
    {
     "name": "stdout",
     "output_type": "stream",
     "text": [
      "FTBXL\n"
     ]
    },
    {
     "name": "stderr",
     "output_type": "stream",
     "text": [
      "C:\\Users\\User\\AppData\\Local\\Temp\\ipykernel_20444\\3795556587.py:62: UserWarning:\n",
      "\n",
      "Metric 'start' raised an exception\n",
      "\n"
     ]
    },
    {
     "name": "stdout",
     "output_type": "stream",
     "text": [
      "GLU-PA\n"
     ]
    },
    {
     "name": "stderr",
     "output_type": "stream",
     "text": [
      "GEAPO: No data found, symbol may be delisted\n",
      "C:\\Users\\User\\AppData\\Local\\Temp\\ipykernel_20444\\3795556587.py:62: UserWarning:\n",
      "\n",
      "Metric 'start' raised an exception\n",
      "\n"
     ]
    },
    {
     "name": "stdout",
     "output_type": "stream",
     "text": [
      "GEAPO\n"
     ]
    },
    {
     "name": "stderr",
     "output_type": "stream",
     "text": [
      "GEAPP: No data found, symbol may be delisted\n",
      "C:\\Users\\User\\AppData\\Local\\Temp\\ipykernel_20444\\3795556587.py:62: UserWarning:\n",
      "\n",
      "Metric 'start' raised an exception\n",
      "\n"
     ]
    },
    {
     "name": "stdout",
     "output_type": "stream",
     "text": [
      "GEAPP\n"
     ]
    },
    {
     "name": "stderr",
     "output_type": "stream",
     "text": [
      "TEMP19: No data found, symbol may be delisted\n",
      "C:\\Users\\User\\AppData\\Local\\Temp\\ipykernel_20444\\3795556587.py:62: UserWarning:\n",
      "\n",
      "Metric 'start' raised an exception\n",
      "\n"
     ]
    },
    {
     "name": "stdout",
     "output_type": "stream",
     "text": [
      "TEMP19\n"
     ]
    },
    {
     "name": "stderr",
     "output_type": "stream",
     "text": [
      "GLP-PA: No data found, symbol may be delisted\n",
      "C:\\Users\\User\\AppData\\Local\\Temp\\ipykernel_20444\\3795556587.py:62: UserWarning:\n",
      "\n",
      "Metric 'start' raised an exception\n",
      "\n"
     ]
    },
    {
     "name": "stdout",
     "output_type": "stream",
     "text": [
      "GLP-PA\n"
     ]
    },
    {
     "name": "stderr",
     "output_type": "stream",
     "text": [
      "TEMP23: No data found, symbol may be delisted\n",
      "C:\\Users\\User\\AppData\\Local\\Temp\\ipykernel_20444\\3795556587.py:62: UserWarning:\n",
      "\n",
      "Metric 'start' raised an exception\n",
      "\n"
     ]
    },
    {
     "name": "stdout",
     "output_type": "stream",
     "text": [
      "TEMP23\n"
     ]
    },
    {
     "name": "stderr",
     "output_type": "stream",
     "text": [
      "IFZZF: No data found, symbol may be delisted\n",
      "C:\\Users\\User\\AppData\\Local\\Temp\\ipykernel_20444\\3795556587.py:62: UserWarning:\n",
      "\n",
      "Metric 'start' raised an exception\n",
      "\n"
     ]
    },
    {
     "name": "stdout",
     "output_type": "stream",
     "text": [
      "IFZZF\n"
     ]
    },
    {
     "name": "stderr",
     "output_type": "stream",
     "text": [
      "JAKP: No data found, symbol may be delisted\n",
      "C:\\Users\\User\\AppData\\Local\\Temp\\ipykernel_20444\\3795556587.py:62: UserWarning:\n",
      "\n",
      "Metric 'start' raised an exception\n",
      "\n"
     ]
    },
    {
     "name": "stdout",
     "output_type": "stream",
     "text": [
      "JAKP\n"
     ]
    },
    {
     "name": "stderr",
     "output_type": "stream",
     "text": [
      "TEMP14: No data found, symbol may be delisted\n",
      "C:\\Users\\User\\AppData\\Local\\Temp\\ipykernel_20444\\3795556587.py:62: UserWarning:\n",
      "\n",
      "Metric 'start' raised an exception\n",
      "\n"
     ]
    },
    {
     "name": "stdout",
     "output_type": "stream",
     "text": [
      "TEMP14\n"
     ]
    },
    {
     "name": "stderr",
     "output_type": "stream",
     "text": [
      "JPJQL: No data found, symbol may be delisted\n",
      "C:\\Users\\User\\AppData\\Local\\Temp\\ipykernel_20444\\3795556587.py:62: UserWarning:\n",
      "\n",
      "Metric 'start' raised an exception\n",
      "\n"
     ]
    },
    {
     "name": "stdout",
     "output_type": "stream",
     "text": [
      "JPJQL\n"
     ]
    },
    {
     "name": "stderr",
     "output_type": "stream",
     "text": [
      "JPMQL: No data found, symbol may be delisted\n",
      "C:\\Users\\User\\AppData\\Local\\Temp\\ipykernel_20444\\3795556587.py:62: UserWarning:\n",
      "\n",
      "Metric 'start' raised an exception\n",
      "\n"
     ]
    },
    {
     "name": "stdout",
     "output_type": "stream",
     "text": [
      "JPMQL\n"
     ]
    },
    {
     "name": "stderr",
     "output_type": "stream",
     "text": [
      "JPYYL: No data found, symbol may be delisted\n",
      "C:\\Users\\User\\AppData\\Local\\Temp\\ipykernel_20444\\3795556587.py:62: UserWarning:\n",
      "\n",
      "Metric 'start' raised an exception\n",
      "\n"
     ]
    },
    {
     "name": "stdout",
     "output_type": "stream",
     "text": [
      "JPYYL\n"
     ]
    },
    {
     "name": "stderr",
     "output_type": "stream",
     "text": [
      "LTSA: No data found, symbol may be delisted\n",
      "C:\\Users\\User\\AppData\\Local\\Temp\\ipykernel_20444\\3795556587.py:62: UserWarning:\n",
      "\n",
      "Metric 'start' raised an exception\n",
      "\n"
     ]
    },
    {
     "name": "stdout",
     "output_type": "stream",
     "text": [
      "LTSA\n"
     ]
    },
    {
     "name": "stderr",
     "output_type": "stream",
     "text": [
      "TEMP16: No data found, symbol may be delisted\n",
      "C:\\Users\\User\\AppData\\Local\\Temp\\ipykernel_20444\\3795556587.py:62: UserWarning:\n",
      "\n",
      "Metric 'start' raised an exception\n",
      "\n"
     ]
    },
    {
     "name": "stdout",
     "output_type": "stream",
     "text": [
      "TEMP16\n"
     ]
    },
    {
     "name": "stderr",
     "output_type": "stream",
     "text": [
      "TEMP09: No data found, symbol may be delisted\n",
      "C:\\Users\\User\\AppData\\Local\\Temp\\ipykernel_20444\\3795556587.py:62: UserWarning:\n",
      "\n",
      "Metric 'start' raised an exception\n",
      "\n"
     ]
    },
    {
     "name": "stdout",
     "output_type": "stream",
     "text": [
      "TEMP09\n"
     ]
    },
    {
     "name": "stderr",
     "output_type": "stream",
     "text": [
      "MTBPP: No data found, symbol may be delisted\n",
      "C:\\Users\\User\\AppData\\Local\\Temp\\ipykernel_20444\\3795556587.py:62: UserWarning:\n",
      "\n",
      "Metric 'start' raised an exception\n",
      "\n"
     ]
    },
    {
     "name": "stdout",
     "output_type": "stream",
     "text": [
      "MTBPP\n"
     ]
    },
    {
     "name": "stderr",
     "output_type": "stream",
     "text": [
      "AENPP: No data found, symbol may be delisted\n",
      "C:\\Users\\User\\AppData\\Local\\Temp\\ipykernel_20444\\3795556587.py:62: UserWarning:\n",
      "\n",
      "Metric 'start' raised an exception\n",
      "\n"
     ]
    },
    {
     "name": "stdout",
     "output_type": "stream",
     "text": [
      "AENPP\n"
     ]
    },
    {
     "name": "stderr",
     "output_type": "stream",
     "text": [
      "MFCPF: No data found, symbol may be delisted\n",
      "C:\\Users\\User\\AppData\\Local\\Temp\\ipykernel_20444\\3795556587.py:62: UserWarning:\n",
      "\n",
      "Metric 'start' raised an exception\n",
      "\n"
     ]
    },
    {
     "name": "stdout",
     "output_type": "stream",
     "text": [
      "MFCPF\n"
     ]
    },
    {
     "name": "stderr",
     "output_type": "stream",
     "text": [
      "MBINP: No data found, symbol may be delisted\n",
      "C:\\Users\\User\\AppData\\Local\\Temp\\ipykernel_20444\\3795556587.py:62: UserWarning:\n",
      "\n",
      "Metric 'start' raised an exception\n",
      "\n"
     ]
    },
    {
     "name": "stdout",
     "output_type": "stream",
     "text": [
      "MBINP\n"
     ]
    },
    {
     "name": "stderr",
     "output_type": "stream",
     "text": [
      "TEMP49: No data found, symbol may be delisted\n",
      "C:\\Users\\User\\AppData\\Local\\Temp\\ipykernel_20444\\3795556587.py:62: UserWarning:\n",
      "\n",
      "Metric 'start' raised an exception\n",
      "\n"
     ]
    },
    {
     "name": "stdout",
     "output_type": "stream",
     "text": [
      "TEMP49\n"
     ]
    },
    {
     "name": "stderr",
     "output_type": "stream",
     "text": [
      "TEMP68: No data found, symbol may be delisted\n",
      "C:\\Users\\User\\AppData\\Local\\Temp\\ipykernel_20444\\3795556587.py:62: UserWarning:\n",
      "\n",
      "Metric 'start' raised an exception\n",
      "\n"
     ]
    },
    {
     "name": "stdout",
     "output_type": "stream",
     "text": [
      "TEMP68\n"
     ]
    },
    {
     "name": "stderr",
     "output_type": "stream",
     "text": [
      "NI-PB: No data found, symbol may be delisted\n",
      "C:\\Users\\User\\AppData\\Local\\Temp\\ipykernel_20444\\3795556587.py:62: UserWarning:\n",
      "\n",
      "Metric 'start' raised an exception\n",
      "\n"
     ]
    },
    {
     "name": "stdout",
     "output_type": "stream",
     "text": [
      "NI-PB\n"
     ]
    },
    {
     "name": "stderr",
     "output_type": "stream",
     "text": [
      "PARAP: No data found, symbol may be delisted\n",
      "C:\\Users\\User\\AppData\\Local\\Temp\\ipykernel_20444\\3795556587.py:62: UserWarning:\n",
      "\n",
      "Metric 'start' raised an exception\n",
      "\n"
     ]
    },
    {
     "name": "stdout",
     "output_type": "stream",
     "text": [
      "PARAP\n"
     ]
    },
    {
     "name": "stderr",
     "output_type": "stream",
     "text": [
      "PRTNQ: No data found, symbol may be delisted\n",
      "C:\\Users\\User\\AppData\\Local\\Temp\\ipykernel_20444\\3795556587.py:62: UserWarning:\n",
      "\n",
      "Metric 'start' raised an exception\n",
      "\n"
     ]
    },
    {
     "name": "stdout",
     "output_type": "stream",
     "text": [
      "PRTNQ\n"
     ]
    },
    {
     "name": "stderr",
     "output_type": "stream",
     "text": [
      "PRTMQ: No data found, symbol may be delisted\n",
      "C:\\Users\\User\\AppData\\Local\\Temp\\ipykernel_20444\\3795556587.py:62: UserWarning:\n",
      "\n",
      "Metric 'start' raised an exception\n",
      "\n"
     ]
    },
    {
     "name": "stdout",
     "output_type": "stream",
     "text": [
      "PRTMQ\n"
     ]
    },
    {
     "name": "stderr",
     "output_type": "stream",
     "text": [
      "PRTLQ: No data found, symbol may be delisted\n",
      "C:\\Users\\User\\AppData\\Local\\Temp\\ipykernel_20444\\3795556587.py:62: UserWarning:\n",
      "\n",
      "Metric 'start' raised an exception\n",
      "\n"
     ]
    },
    {
     "name": "stdout",
     "output_type": "stream",
     "text": [
      "PRTLQ\n"
     ]
    },
    {
     "name": "stderr",
     "output_type": "stream",
     "text": [
      "PNCYL: No data found, symbol may be delisted\n",
      "C:\\Users\\User\\AppData\\Local\\Temp\\ipykernel_20444\\3795556587.py:62: UserWarning:\n",
      "\n",
      "Metric 'start' raised an exception\n",
      "\n"
     ]
    },
    {
     "name": "stdout",
     "output_type": "stream",
     "text": [
      "PNCYL\n"
     ]
    },
    {
     "name": "stderr",
     "output_type": "stream",
     "text": [
      "PWCCF: No data found, symbol may be delisted\n",
      "C:\\Users\\User\\AppData\\Local\\Temp\\ipykernel_20444\\3795556587.py:62: UserWarning:\n",
      "\n",
      "Metric 'start' raised an exception\n",
      "\n"
     ]
    },
    {
     "name": "stdout",
     "output_type": "stream",
     "text": [
      "PWCCF\n"
     ]
    },
    {
     "name": "stderr",
     "output_type": "stream",
     "text": [
      "SJIV: No data found, symbol may be delisted\n",
      "C:\\Users\\User\\AppData\\Local\\Temp\\ipykernel_20444\\3795556587.py:62: UserWarning:\n",
      "\n",
      "Metric 'start' raised an exception\n",
      "\n"
     ]
    },
    {
     "name": "stdout",
     "output_type": "stream",
     "text": [
      "SJIV\n"
     ]
    },
    {
     "name": "stderr",
     "output_type": "stream",
     "text": [
      "TEMP13: No data found, symbol may be delisted\n",
      "C:\\Users\\User\\AppData\\Local\\Temp\\ipykernel_20444\\3795556587.py:62: UserWarning:\n",
      "\n",
      "Metric 'start' raised an exception\n",
      "\n"
     ]
    },
    {
     "name": "stdout",
     "output_type": "stream",
     "text": [
      "TEMP13\n"
     ]
    },
    {
     "name": "stderr",
     "output_type": "stream",
     "text": [
      "STT-PD: No data found, symbol may be delisted\n",
      "C:\\Users\\User\\AppData\\Local\\Temp\\ipykernel_20444\\3795556587.py:62: UserWarning:\n",
      "\n",
      "Metric 'start' raised an exception\n",
      "\n"
     ]
    },
    {
     "name": "stdout",
     "output_type": "stream",
     "text": [
      "STT-PD\n"
     ]
    },
    {
     "name": "stderr",
     "output_type": "stream",
     "text": [
      "SXN.B: No data found, symbol may be delisted\n",
      "C:\\Users\\User\\AppData\\Local\\Temp\\ipykernel_20444\\3795556587.py:62: UserWarning:\n",
      "\n",
      "Metric 'start' raised an exception\n",
      "\n"
     ]
    },
    {
     "name": "stdout",
     "output_type": "stream",
     "text": [
      "SXN.B\n"
     ]
    },
    {
     "name": "stderr",
     "output_type": "stream",
     "text": [
      "SXN.C: No data found, symbol may be delisted\n",
      "C:\\Users\\User\\AppData\\Local\\Temp\\ipykernel_20444\\3795556587.py:62: UserWarning:\n",
      "\n",
      "Metric 'start' raised an exception\n",
      "\n"
     ]
    },
    {
     "name": "stdout",
     "output_type": "stream",
     "text": [
      "SXN.C\n"
     ]
    },
    {
     "name": "stderr",
     "output_type": "stream",
     "text": [
      "SXN.D: No data found, symbol may be delisted\n",
      "C:\\Users\\User\\AppData\\Local\\Temp\\ipykernel_20444\\3795556587.py:62: UserWarning:\n",
      "\n",
      "Metric 'start' raised an exception\n",
      "\n"
     ]
    },
    {
     "name": "stdout",
     "output_type": "stream",
     "text": [
      "SXN.D\n"
     ]
    },
    {
     "name": "stderr",
     "output_type": "stream",
     "text": [
      "SXN.E: No data found, symbol may be delisted\n",
      "C:\\Users\\User\\AppData\\Local\\Temp\\ipykernel_20444\\3795556587.py:62: UserWarning:\n",
      "\n",
      "Metric 'start' raised an exception\n",
      "\n"
     ]
    },
    {
     "name": "stdout",
     "output_type": "stream",
     "text": [
      "SXN.E\n"
     ]
    },
    {
     "name": "stderr",
     "output_type": "stream",
     "text": [
      "SXN.F: No data found, symbol may be delisted\n",
      "C:\\Users\\User\\AppData\\Local\\Temp\\ipykernel_20444\\3795556587.py:62: UserWarning:\n",
      "\n",
      "Metric 'start' raised an exception\n",
      "\n"
     ]
    },
    {
     "name": "stdout",
     "output_type": "stream",
     "text": [
      "SXN.F\n"
     ]
    },
    {
     "name": "stderr",
     "output_type": "stream",
     "text": [
      "TEMP53: No data found, symbol may be delisted\n",
      "C:\\Users\\User\\AppData\\Local\\Temp\\ipykernel_20444\\3795556587.py:62: UserWarning:\n",
      "\n",
      "Metric 'start' raised an exception\n",
      "\n"
     ]
    },
    {
     "name": "stdout",
     "output_type": "stream",
     "text": [
      "TEMP53\n"
     ]
    },
    {
     "name": "stderr",
     "output_type": "stream",
     "text": [
      "TEMP82: No data found, symbol may be delisted\n",
      "C:\\Users\\User\\AppData\\Local\\Temp\\ipykernel_20444\\3795556587.py:62: UserWarning:\n",
      "\n",
      "Metric 'start' raised an exception\n",
      "\n"
     ]
    },
    {
     "name": "stdout",
     "output_type": "stream",
     "text": [
      "TEMP82\n"
     ]
    },
    {
     "name": "stderr",
     "output_type": "stream",
     "text": [
      "C:\\Users\\User\\AppData\\Local\\Temp\\ipykernel_20444\\3795556587.py:62: UserWarning:\n",
      "\n",
      "Metric 'start' raised an exception\n",
      "\n"
     ]
    },
    {
     "name": "stdout",
     "output_type": "stream",
     "text": [
      "TRPEF\n"
     ]
    },
    {
     "name": "stderr",
     "output_type": "stream",
     "text": [
      "TGH-PB: No data found, symbol may be delisted\n",
      "C:\\Users\\User\\AppData\\Local\\Temp\\ipykernel_20444\\3795556587.py:62: UserWarning:\n",
      "\n",
      "Metric 'start' raised an exception\n",
      "\n"
     ]
    },
    {
     "name": "stdout",
     "output_type": "stream",
     "text": [
      "TGH-PB\n"
     ]
    },
    {
     "name": "stderr",
     "output_type": "stream",
     "text": [
      "TGH-PA: No data found, symbol may be delisted\n",
      "C:\\Users\\User\\AppData\\Local\\Temp\\ipykernel_20444\\3795556587.py:62: UserWarning:\n",
      "\n",
      "Metric 'start' raised an exception\n",
      "\n"
     ]
    },
    {
     "name": "stdout",
     "output_type": "stream",
     "text": [
      "TGH-PA\n"
     ]
    },
    {
     "name": "stderr",
     "output_type": "stream",
     "text": [
      "TACPF: Period '240mo' is invalid, must be one of ['1mo', '3mo', '6mo', 'ytd', '1y', '2y', '5y', '10y', 'max']\n",
      "C:\\Users\\User\\AppData\\Local\\Temp\\ipykernel_20444\\3795556587.py:62: UserWarning:\n",
      "\n",
      "Metric 'start' raised an exception\n",
      "\n"
     ]
    },
    {
     "name": "stdout",
     "output_type": "stream",
     "text": [
      "TACPF\n"
     ]
    },
    {
     "name": "stderr",
     "output_type": "stream",
     "text": [
      "TRNPF: No data found, symbol may be delisted\n",
      "C:\\Users\\User\\AppData\\Local\\Temp\\ipykernel_20444\\3795556587.py:62: UserWarning:\n",
      "\n",
      "Metric 'start' raised an exception\n",
      "\n"
     ]
    },
    {
     "name": "stdout",
     "output_type": "stream",
     "text": [
      "TRNPF\n"
     ]
    },
    {
     "name": "stderr",
     "output_type": "stream",
     "text": [
      "TEMP08: No data found, symbol may be delisted\n",
      "C:\\Users\\User\\AppData\\Local\\Temp\\ipykernel_20444\\3795556587.py:62: UserWarning:\n",
      "\n",
      "Metric 'start' raised an exception\n",
      "\n"
     ]
    },
    {
     "name": "stdout",
     "output_type": "stream",
     "text": [
      "TEMP08\n"
     ]
    },
    {
     "name": "stderr",
     "output_type": "stream",
     "text": [
      "TFC-PJ: No data found, symbol may be delisted\n",
      "C:\\Users\\User\\AppData\\Local\\Temp\\ipykernel_20444\\3795556587.py:62: UserWarning:\n",
      "\n",
      "Metric 'start' raised an exception\n",
      "\n"
     ]
    },
    {
     "name": "stdout",
     "output_type": "stream",
     "text": [
      "TFC-PJ\n"
     ]
    },
    {
     "name": "stderr",
     "output_type": "stream",
     "text": [
      "WFC-PR: No data found, symbol may be delisted\n",
      "C:\\Users\\User\\AppData\\Local\\Temp\\ipykernel_20444\\3795556587.py:62: UserWarning:\n",
      "\n",
      "Metric 'start' raised an exception\n",
      "\n"
     ]
    },
    {
     "name": "stdout",
     "output_type": "stream",
     "text": [
      "WFC-PR\n"
     ]
    },
    {
     "name": "stderr",
     "output_type": "stream",
     "text": [
      "TEMP07: No data found, symbol may be delisted\n",
      "C:\\Users\\User\\AppData\\Local\\Temp\\ipykernel_20444\\3795556587.py:62: UserWarning:\n",
      "\n",
      "Metric 'start' raised an exception\n",
      "\n"
     ]
    },
    {
     "name": "stdout",
     "output_type": "stream",
     "text": [
      "TEMP07\n"
     ]
    },
    {
     "name": "stderr",
     "output_type": "stream",
     "text": [
      "TEMP15: No data found, symbol may be delisted\n",
      "C:\\Users\\User\\AppData\\Local\\Temp\\ipykernel_20444\\3795556587.py:62: UserWarning:\n",
      "\n",
      "Metric 'start' raised an exception\n",
      "\n"
     ]
    },
    {
     "name": "stdout",
     "output_type": "stream",
     "text": [
      "TEMP15\n"
     ]
    }
   ],
   "source": [
    "# SHORT VWAP STRAT \n",
    "\n",
    "\n",
    "prefs = pd.read_csv(\"prefs_240311.csv\")\n",
    "\n",
    "\n",
    "df3 = {}\n",
    "\n",
    "for idx, row in prefs.iterrows():\n",
    "        \n",
    "    ticker = row[\"Symbol\"].split('\\r\\n')[0].replace('-', '-P')\n",
    "\n",
    "    if ticker == \"Symbol\":\n",
    "        continue\n",
    "\n",
    "    df = prf.downlaod_symbol_data(ticker, period = \"240mo\")\n",
    "    #df = ROC(df)\n",
    "    #df = EMA(df)\n",
    "    #df = momentum_oscillators(df) ## no vwap \n",
    "    #df = volatility(df)\n",
    "    #df = reversal_patterns(df)\n",
    "    #df = continuation_patterns(df)\n",
    "    #df = magic_doji(df)\n",
    "    df['vwap'] = ta.volume.volume_weighted_average_price(df['High'],\n",
    "                                                        df['Low'],\n",
    "                                                        df['Close'],\n",
    "                                                        df['Volume'])\n",
    "\n",
    "    df['vwap_diff'] = df['Close'] - df['vwap'] # if -ve then VWAP > Close ==> BUY P\n",
    "    df['vwap_pct_diff'] =  (df['vwap_diff']) /  df['Close'].shift(-1)\n",
    "\n",
    "    df = df.dropna()\n",
    "\n",
    "    ### PARAMETERS \n",
    "    long_threshold = 0.02\n",
    "    long_exits = df['vwap_pct_diff'] < 0.0\n",
    "\n",
    "    short_threshold = -0.2\n",
    "\n",
    "    df['buy_vwap'] = df['vwap_pct_diff'] >= long_threshold\n",
    "    df['sell_vwap'] = df['vwap_pct_diff'] <= short_threshold\n",
    "\n",
    "\n",
    "    long_entries = df['buy_vwap']\n",
    "    long_exits = df['vwap_pct_diff'] <= 0.0\n",
    "    \n",
    "    short_entries = df['sell_vwap']\n",
    "    short_exits = df['vwap_pct_diff'] >= 0 \n",
    "\n",
    "\n",
    "    #print(entries, exits)\n",
    "\n",
    "    pf = vbt.Portfolio.from_signals(df['Close'], \n",
    "                                    short_entries, \n",
    "                                    short_exits,\n",
    "                                    freq=\"D\",\n",
    "                                    fees = 0.0014)\n",
    "                                    #sl_stop = 0.05)\n",
    "    #print(pf.stats())\n",
    "\n",
    "    try:\n",
    "        df3[ticker] = pf.stats()\n",
    "        #pf.plot().write_image('Backtests/' + ticker+ '.png')\n",
    "        \n",
    "    except IndexError:\n",
    "        print(ticker)\n",
    "#df[df['vwap_pct_diff'] > 0.07].head()"
   ]
  },
  {
   "cell_type": "code",
   "execution_count": 22,
   "metadata": {},
   "outputs": [
    {
     "name": "stderr",
     "output_type": "stream",
     "text": [
      "C:\\Users\\User\\AppData\\Local\\Temp\\ipykernel_20444\\262736577.py:66: UserWarning:\n",
      "\n",
      "Metric 'start' raised an exception\n",
      "\n"
     ]
    },
    {
     "name": "stdout",
     "output_type": "stream",
     "text": [
      "ALB-PA\n"
     ]
    },
    {
     "name": "stderr",
     "output_type": "stream",
     "text": [
      "AGASF: No data found, symbol may be delisted\n",
      "C:\\Users\\User\\AppData\\Local\\Temp\\ipykernel_20444\\262736577.py:66: UserWarning:\n",
      "\n",
      "Metric 'start' raised an exception\n",
      "\n"
     ]
    },
    {
     "name": "stdout",
     "output_type": "stream",
     "text": [
      "AGASF\n"
     ]
    },
    {
     "name": "stderr",
     "output_type": "stream",
     "text": [
      "ATLAF: No data found, symbol may be delisted\n",
      "C:\\Users\\User\\AppData\\Local\\Temp\\ipykernel_20444\\262736577.py:66: UserWarning:\n",
      "\n",
      "Metric 'start' raised an exception\n",
      "\n"
     ]
    },
    {
     "name": "stdout",
     "output_type": "stream",
     "text": [
      "ATLAF\n"
     ]
    },
    {
     "name": "stderr",
     "output_type": "stream",
     "text": [
      "AIG-PA: No data found, symbol may be delisted\n",
      "C:\\Users\\User\\AppData\\Local\\Temp\\ipykernel_20444\\262736577.py:66: UserWarning:\n",
      "\n",
      "Metric 'start' raised an exception\n",
      "\n"
     ]
    },
    {
     "name": "stdout",
     "output_type": "stream",
     "text": [
      "AIG-PA\n"
     ]
    },
    {
     "name": "stderr",
     "output_type": "stream",
     "text": [
      "AERGP: No data found, symbol may be delisted\n",
      "C:\\Users\\User\\AppData\\Local\\Temp\\ipykernel_20444\\262736577.py:66: UserWarning:\n",
      "\n",
      "Metric 'start' raised an exception\n",
      "\n"
     ]
    },
    {
     "name": "stdout",
     "output_type": "stream",
     "text": [
      "AERGP\n"
     ]
    },
    {
     "name": "stderr",
     "output_type": "stream",
     "text": [
      "AVTR-PA: No data found, symbol may be delisted\n",
      "C:\\Users\\User\\AppData\\Local\\Temp\\ipykernel_20444\\262736577.py:66: UserWarning:\n",
      "\n",
      "Metric 'start' raised an exception\n",
      "\n"
     ]
    },
    {
     "name": "stdout",
     "output_type": "stream",
     "text": [
      "AVTR-PA\n"
     ]
    },
    {
     "name": "stderr",
     "output_type": "stream",
     "text": [
      "TEMP85: No data found, symbol may be delisted\n",
      "C:\\Users\\User\\AppData\\Local\\Temp\\ipykernel_20444\\262736577.py:66: UserWarning:\n",
      "\n",
      "Metric 'start' raised an exception\n",
      "\n",
      "C:\\Users\\User\\AppData\\Local\\Temp\\ipykernel_20444\\262736577.py:66: UserWarning:\n",
      "\n",
      "Metric 'start' raised an exception\n",
      "\n"
     ]
    },
    {
     "name": "stdout",
     "output_type": "stream",
     "text": [
      "TEMP85\n",
      "BANC-PF\n"
     ]
    },
    {
     "name": "stderr",
     "output_type": "stream",
     "text": [
      "TEMP05: No data found, symbol may be delisted\n",
      "C:\\Users\\User\\AppData\\Local\\Temp\\ipykernel_20444\\262736577.py:66: UserWarning:\n",
      "\n",
      "Metric 'start' raised an exception\n",
      "\n"
     ]
    },
    {
     "name": "stdout",
     "output_type": "stream",
     "text": [
      "TEMP05\n"
     ]
    },
    {
     "name": "stderr",
     "output_type": "stream",
     "text": [
      "BKMRL: No data found, symbol may be delisted\n",
      "C:\\Users\\User\\AppData\\Local\\Temp\\ipykernel_20444\\262736577.py:66: UserWarning:\n",
      "\n",
      "Metric 'start' raised an exception\n",
      "\n"
     ]
    },
    {
     "name": "stdout",
     "output_type": "stream",
     "text": [
      "BKMRL\n"
     ]
    },
    {
     "name": "stderr",
     "output_type": "stream",
     "text": [
      "BCXQL: No data found, symbol may be delisted\n",
      "C:\\Users\\User\\AppData\\Local\\Temp\\ipykernel_20444\\262736577.py:66: UserWarning:\n",
      "\n",
      "Metric 'start' raised an exception\n",
      "\n"
     ]
    },
    {
     "name": "stdout",
     "output_type": "stream",
     "text": [
      "BCXQL\n"
     ]
    },
    {
     "name": "stderr",
     "output_type": "stream",
     "text": [
      "TEMP46: No data found, symbol may be delisted\n",
      "C:\\Users\\User\\AppData\\Local\\Temp\\ipykernel_20444\\262736577.py:66: UserWarning:\n",
      "\n",
      "Metric 'start' raised an exception\n",
      "\n"
     ]
    },
    {
     "name": "stdout",
     "output_type": "stream",
     "text": [
      "TEMP46\n"
     ]
    },
    {
     "name": "stderr",
     "output_type": "stream",
     "text": [
      "BKNML: No data found, symbol may be delisted\n",
      "C:\\Users\\User\\AppData\\Local\\Temp\\ipykernel_20444\\262736577.py:66: UserWarning:\n",
      "\n",
      "Metric 'start' raised an exception\n",
      "\n"
     ]
    },
    {
     "name": "stdout",
     "output_type": "stream",
     "text": [
      "BKNML\n"
     ]
    },
    {
     "name": "stderr",
     "output_type": "stream",
     "text": [
      "C:\\Users\\User\\AppData\\Local\\Temp\\ipykernel_20444\\262736577.py:66: UserWarning:\n",
      "\n",
      "Metric 'start' raised an exception\n",
      "\n"
     ]
    },
    {
     "name": "stdout",
     "output_type": "stream",
     "text": [
      "BTSGU\n"
     ]
    },
    {
     "name": "stderr",
     "output_type": "stream",
     "text": [
      "BKTD: No data found, symbol may be delisted\n",
      "C:\\Users\\User\\AppData\\Local\\Temp\\ipykernel_20444\\262736577.py:66: UserWarning:\n",
      "\n",
      "Metric 'start' raised an exception\n",
      "\n"
     ]
    },
    {
     "name": "stdout",
     "output_type": "stream",
     "text": [
      "BKTD\n"
     ]
    },
    {
     "name": "stderr",
     "output_type": "stream",
     "text": [
      "BKFPF: No data found, symbol may be delisted\n",
      "C:\\Users\\User\\AppData\\Local\\Temp\\ipykernel_20444\\262736577.py:66: UserWarning:\n",
      "\n",
      "Metric 'start' raised an exception\n",
      "\n"
     ]
    },
    {
     "name": "stdout",
     "output_type": "stream",
     "text": [
      "BKFPF\n"
     ]
    },
    {
     "name": "stderr",
     "output_type": "stream",
     "text": [
      "C:\\Users\\User\\AppData\\Local\\Temp\\ipykernel_20444\\262736577.py:66: UserWarning:\n",
      "\n",
      "Metric 'start' raised an exception\n",
      "\n"
     ]
    },
    {
     "name": "stdout",
     "output_type": "stream",
     "text": [
      "BKAAF\n"
     ]
    },
    {
     "name": "stderr",
     "output_type": "stream",
     "text": [
      "C:\\Users\\User\\AppData\\Local\\Temp\\ipykernel_20444\\262736577.py:66: UserWarning:\n",
      "\n",
      "Metric 'start' raised an exception\n",
      "\n"
     ]
    },
    {
     "name": "stdout",
     "output_type": "stream",
     "text": [
      "CDNUF\n"
     ]
    },
    {
     "name": "stderr",
     "output_type": "stream",
     "text": [
      "C:\\Users\\User\\AppData\\Local\\Temp\\ipykernel_20444\\262736577.py:66: UserWarning:\n",
      "\n",
      "Metric 'start' raised an exception\n",
      "\n"
     ]
    },
    {
     "name": "stdout",
     "output_type": "stream",
     "text": [
      "CCIA\n"
     ]
    },
    {
     "name": "stderr",
     "output_type": "stream",
     "text": [
      "TEMP52: No data found, symbol may be delisted\n",
      "C:\\Users\\User\\AppData\\Local\\Temp\\ipykernel_20444\\262736577.py:66: UserWarning:\n",
      "\n",
      "Metric 'start' raised an exception\n",
      "\n"
     ]
    },
    {
     "name": "stdout",
     "output_type": "stream",
     "text": [
      "TEMP52\n"
     ]
    },
    {
     "name": "stderr",
     "output_type": "stream",
     "text": [
      "EBR.B: No data found, symbol may be delisted\n",
      "C:\\Users\\User\\AppData\\Local\\Temp\\ipykernel_20444\\262736577.py:66: UserWarning:\n",
      "\n",
      "Metric 'start' raised an exception\n",
      "\n"
     ]
    },
    {
     "name": "stdout",
     "output_type": "stream",
     "text": [
      "EBR.B\n"
     ]
    },
    {
     "name": "stderr",
     "output_type": "stream",
     "text": [
      "C-PJ: No data found, symbol may be delisted\n",
      "C:\\Users\\User\\AppData\\Local\\Temp\\ipykernel_20444\\262736577.py:66: UserWarning:\n",
      "\n",
      "Metric 'start' raised an exception\n",
      "\n"
     ]
    },
    {
     "name": "stdout",
     "output_type": "stream",
     "text": [
      "C-PJ\n"
     ]
    },
    {
     "name": "stderr",
     "output_type": "stream",
     "text": [
      "CBKAP: No data found, symbol may be delisted\n",
      "C:\\Users\\User\\AppData\\Local\\Temp\\ipykernel_20444\\262736577.py:66: UserWarning:\n",
      "\n",
      "Metric 'start' raised an exception\n",
      "\n"
     ]
    },
    {
     "name": "stdout",
     "output_type": "stream",
     "text": [
      "CBKAP\n"
     ]
    },
    {
     "name": "stderr",
     "output_type": "stream",
     "text": [
      "C:\\Users\\User\\AppData\\Local\\Temp\\ipykernel_20444\\262736577.py:66: UserWarning:\n",
      "\n",
      "Metric 'start' raised an exception\n",
      "\n"
     ]
    },
    {
     "name": "stdout",
     "output_type": "stream",
     "text": [
      "CBCPQ\n"
     ]
    },
    {
     "name": "stderr",
     "output_type": "stream",
     "text": [
      "CBJCL: No data found, symbol may be delisted\n",
      "C:\\Users\\User\\AppData\\Local\\Temp\\ipykernel_20444\\262736577.py:66: UserWarning:\n",
      "\n",
      "Metric 'start' raised an exception\n",
      "\n"
     ]
    },
    {
     "name": "stdout",
     "output_type": "stream",
     "text": [
      "CBJCL\n"
     ]
    },
    {
     "name": "stderr",
     "output_type": "stream",
     "text": [
      "TEMP48: No data found, symbol may be delisted\n",
      "C:\\Users\\User\\AppData\\Local\\Temp\\ipykernel_20444\\262736577.py:66: UserWarning:\n",
      "\n",
      "Metric 'start' raised an exception\n",
      "\n"
     ]
    },
    {
     "name": "stdout",
     "output_type": "stream",
     "text": [
      "TEMP48\n"
     ]
    },
    {
     "name": "stderr",
     "output_type": "stream",
     "text": [
      "DCP-PC: No data found, symbol may be delisted\n",
      "C:\\Users\\User\\AppData\\Local\\Temp\\ipykernel_20444\\262736577.py:66: UserWarning:\n",
      "\n",
      "Metric 'start' raised an exception\n",
      "\n"
     ]
    },
    {
     "name": "stdout",
     "output_type": "stream",
     "text": [
      "DCP-PC\n"
     ]
    },
    {
     "name": "stderr",
     "output_type": "stream",
     "text": [
      "C:\\Users\\User\\AppData\\Local\\Temp\\ipykernel_20444\\262736577.py:66: UserWarning:\n",
      "\n",
      "Metric 'start' raised an exception\n",
      "\n"
     ]
    },
    {
     "name": "stdout",
     "output_type": "stream",
     "text": [
      "ECCF\n"
     ]
    },
    {
     "name": "stderr",
     "output_type": "stream",
     "text": [
      "C:\\Users\\User\\AppData\\Local\\Temp\\ipykernel_20444\\262736577.py:66: UserWarning:\n",
      "\n",
      "Metric 'start' raised an exception\n",
      "\n",
      "C:\\Users\\User\\AppData\\Local\\Temp\\ipykernel_20444\\262736577.py:66: UserWarning:\n",
      "\n",
      "Metric 'start' raised an exception\n",
      "\n"
     ]
    },
    {
     "name": "stdout",
     "output_type": "stream",
     "text": [
      "EFC-PE\n",
      "EFC-PD\n"
     ]
    },
    {
     "name": "stderr",
     "output_type": "stream",
     "text": [
      "EMICF: No data found, symbol may be delisted\n",
      "C:\\Users\\User\\AppData\\Local\\Temp\\ipykernel_20444\\262736577.py:66: UserWarning:\n",
      "\n",
      "Metric 'start' raised an exception\n",
      "\n"
     ]
    },
    {
     "name": "stdout",
     "output_type": "stream",
     "text": [
      "EMICF\n"
     ]
    },
    {
     "name": "stderr",
     "output_type": "stream",
     "text": [
      "C:\\Users\\User\\AppData\\Local\\Temp\\ipykernel_20444\\262736577.py:66: UserWarning:\n",
      "\n",
      "Metric 'start' raised an exception\n",
      "\n"
     ]
    },
    {
     "name": "stdout",
     "output_type": "stream",
     "text": [
      "EBRZF\n"
     ]
    },
    {
     "name": "stderr",
     "output_type": "stream",
     "text": [
      "C:\\Users\\User\\AppData\\Local\\Temp\\ipykernel_20444\\262736577.py:66: UserWarning:\n",
      "\n",
      "Metric 'start' raised an exception\n",
      "\n"
     ]
    },
    {
     "name": "stdout",
     "output_type": "stream",
     "text": [
      "ET-PI\n"
     ]
    },
    {
     "name": "stderr",
     "output_type": "stream",
     "text": [
      "TEMP17: No data found, symbol may be delisted\n",
      "C:\\Users\\User\\AppData\\Local\\Temp\\ipykernel_20444\\262736577.py:66: UserWarning:\n",
      "\n",
      "Metric 'start' raised an exception\n",
      "\n"
     ]
    },
    {
     "name": "stdout",
     "output_type": "stream",
     "text": [
      "TEMP17\n"
     ]
    },
    {
     "name": "stderr",
     "output_type": "stream",
     "text": [
      "FTBXL: No data found, symbol may be delisted\n",
      "C:\\Users\\User\\AppData\\Local\\Temp\\ipykernel_20444\\262736577.py:66: UserWarning:\n",
      "\n",
      "Metric 'start' raised an exception\n",
      "\n"
     ]
    },
    {
     "name": "stdout",
     "output_type": "stream",
     "text": [
      "FTBXL\n"
     ]
    },
    {
     "name": "stderr",
     "output_type": "stream",
     "text": [
      "C:\\Users\\User\\AppData\\Local\\Temp\\ipykernel_20444\\262736577.py:66: UserWarning:\n",
      "\n",
      "Metric 'start' raised an exception\n",
      "\n"
     ]
    },
    {
     "name": "stdout",
     "output_type": "stream",
     "text": [
      "GLU-PA\n"
     ]
    },
    {
     "name": "stderr",
     "output_type": "stream",
     "text": [
      "GEAPO: No data found, symbol may be delisted\n",
      "C:\\Users\\User\\AppData\\Local\\Temp\\ipykernel_20444\\262736577.py:66: UserWarning:\n",
      "\n",
      "Metric 'start' raised an exception\n",
      "\n"
     ]
    },
    {
     "name": "stdout",
     "output_type": "stream",
     "text": [
      "GEAPO\n"
     ]
    },
    {
     "name": "stderr",
     "output_type": "stream",
     "text": [
      "GEAPP: No data found, symbol may be delisted\n",
      "C:\\Users\\User\\AppData\\Local\\Temp\\ipykernel_20444\\262736577.py:66: UserWarning:\n",
      "\n",
      "Metric 'start' raised an exception\n",
      "\n"
     ]
    },
    {
     "name": "stdout",
     "output_type": "stream",
     "text": [
      "GEAPP\n"
     ]
    },
    {
     "name": "stderr",
     "output_type": "stream",
     "text": [
      "TEMP19: No data found, symbol may be delisted\n",
      "C:\\Users\\User\\AppData\\Local\\Temp\\ipykernel_20444\\262736577.py:66: UserWarning:\n",
      "\n",
      "Metric 'start' raised an exception\n",
      "\n"
     ]
    },
    {
     "name": "stdout",
     "output_type": "stream",
     "text": [
      "TEMP19\n"
     ]
    },
    {
     "name": "stderr",
     "output_type": "stream",
     "text": [
      "C:\\Users\\User\\AppData\\Local\\Temp\\ipykernel_20444\\262736577.py:66: UserWarning:\n",
      "\n",
      "Metric 'start' raised an exception\n",
      "\n",
      "C:\\Users\\User\\AppData\\Local\\Temp\\ipykernel_20444\\262736577.py:66: UserWarning:\n",
      "\n",
      "Metric 'start' raised an exception\n",
      "\n"
     ]
    },
    {
     "name": "stdout",
     "output_type": "stream",
     "text": [
      "GNL-PE\n",
      "GNL-PD\n"
     ]
    },
    {
     "name": "stderr",
     "output_type": "stream",
     "text": [
      "GLP-PA: No data found, symbol may be delisted\n",
      "C:\\Users\\User\\AppData\\Local\\Temp\\ipykernel_20444\\262736577.py:66: UserWarning:\n",
      "\n",
      "Metric 'start' raised an exception\n",
      "\n"
     ]
    },
    {
     "name": "stdout",
     "output_type": "stream",
     "text": [
      "GLP-PA\n"
     ]
    },
    {
     "name": "stderr",
     "output_type": "stream",
     "text": [
      "TEMP23: No data found, symbol may be delisted\n",
      "C:\\Users\\User\\AppData\\Local\\Temp\\ipykernel_20444\\262736577.py:66: UserWarning:\n",
      "\n",
      "Metric 'start' raised an exception\n",
      "\n",
      "C:\\Users\\User\\AppData\\Local\\Temp\\ipykernel_20444\\262736577.py:66: UserWarning:\n",
      "\n",
      "Metric 'start' raised an exception\n",
      "\n"
     ]
    },
    {
     "name": "stdout",
     "output_type": "stream",
     "text": [
      "TEMP23\n",
      "GMPFF\n"
     ]
    },
    {
     "name": "stderr",
     "output_type": "stream",
     "text": [
      "C:\\Users\\User\\AppData\\Local\\Temp\\ipykernel_20444\\262736577.py:66: UserWarning:\n",
      "\n",
      "Metric 'start' raised an exception\n",
      "\n"
     ]
    },
    {
     "name": "stdout",
     "output_type": "stream",
     "text": [
      "HWM-P\n"
     ]
    },
    {
     "name": "stderr",
     "output_type": "stream",
     "text": [
      "C:\\Users\\User\\AppData\\Local\\Temp\\ipykernel_20444\\262736577.py:66: UserWarning:\n",
      "\n",
      "Metric 'start' raised an exception\n",
      "\n"
     ]
    },
    {
     "name": "stdout",
     "output_type": "stream",
     "text": [
      "INFFF\n"
     ]
    },
    {
     "name": "stderr",
     "output_type": "stream",
     "text": [
      "IFZZF: No data found, symbol may be delisted\n",
      "C:\\Users\\User\\AppData\\Local\\Temp\\ipykernel_20444\\262736577.py:66: UserWarning:\n",
      "\n",
      "Metric 'start' raised an exception\n",
      "\n"
     ]
    },
    {
     "name": "stdout",
     "output_type": "stream",
     "text": [
      "IFZZF\n"
     ]
    },
    {
     "name": "stderr",
     "output_type": "stream",
     "text": [
      "JAKP: No data found, symbol may be delisted\n",
      "C:\\Users\\User\\AppData\\Local\\Temp\\ipykernel_20444\\262736577.py:66: UserWarning:\n",
      "\n",
      "Metric 'start' raised an exception\n",
      "\n"
     ]
    },
    {
     "name": "stdout",
     "output_type": "stream",
     "text": [
      "JAKP\n"
     ]
    },
    {
     "name": "stderr",
     "output_type": "stream",
     "text": [
      "TEMP14: No data found, symbol may be delisted\n",
      "C:\\Users\\User\\AppData\\Local\\Temp\\ipykernel_20444\\262736577.py:66: UserWarning:\n",
      "\n",
      "Metric 'start' raised an exception\n",
      "\n"
     ]
    },
    {
     "name": "stdout",
     "output_type": "stream",
     "text": [
      "TEMP14\n"
     ]
    },
    {
     "name": "stderr",
     "output_type": "stream",
     "text": [
      "JPJQL: No data found, symbol may be delisted\n",
      "C:\\Users\\User\\AppData\\Local\\Temp\\ipykernel_20444\\262736577.py:66: UserWarning:\n",
      "\n",
      "Metric 'start' raised an exception\n",
      "\n"
     ]
    },
    {
     "name": "stdout",
     "output_type": "stream",
     "text": [
      "JPJQL\n"
     ]
    },
    {
     "name": "stderr",
     "output_type": "stream",
     "text": [
      "JPMQL: No data found, symbol may be delisted\n",
      "C:\\Users\\User\\AppData\\Local\\Temp\\ipykernel_20444\\262736577.py:66: UserWarning:\n",
      "\n",
      "Metric 'start' raised an exception\n",
      "\n"
     ]
    },
    {
     "name": "stdout",
     "output_type": "stream",
     "text": [
      "JPMQL\n"
     ]
    },
    {
     "name": "stderr",
     "output_type": "stream",
     "text": [
      "JPYYL: No data found, symbol may be delisted\n",
      "C:\\Users\\User\\AppData\\Local\\Temp\\ipykernel_20444\\262736577.py:66: UserWarning:\n",
      "\n",
      "Metric 'start' raised an exception\n",
      "\n"
     ]
    },
    {
     "name": "stdout",
     "output_type": "stream",
     "text": [
      "JPYYL\n"
     ]
    },
    {
     "name": "stderr",
     "output_type": "stream",
     "text": [
      "C:\\Users\\User\\AppData\\Local\\Temp\\ipykernel_20444\\262736577.py:66: UserWarning:\n",
      "\n",
      "Metric 'start' raised an exception\n",
      "\n"
     ]
    },
    {
     "name": "stdout",
     "output_type": "stream",
     "text": [
      "KIM-PN\n"
     ]
    },
    {
     "name": "stderr",
     "output_type": "stream",
     "text": [
      "LTSA: No data found, symbol may be delisted\n",
      "C:\\Users\\User\\AppData\\Local\\Temp\\ipykernel_20444\\262736577.py:66: UserWarning:\n",
      "\n",
      "Metric 'start' raised an exception\n",
      "\n"
     ]
    },
    {
     "name": "stdout",
     "output_type": "stream",
     "text": [
      "LTSA\n"
     ]
    },
    {
     "name": "stderr",
     "output_type": "stream",
     "text": [
      "TEMP16: No data found, symbol may be delisted\n",
      "C:\\Users\\User\\AppData\\Local\\Temp\\ipykernel_20444\\262736577.py:66: UserWarning:\n",
      "\n",
      "Metric 'start' raised an exception\n",
      "\n"
     ]
    },
    {
     "name": "stdout",
     "output_type": "stream",
     "text": [
      "TEMP16\n"
     ]
    },
    {
     "name": "stderr",
     "output_type": "stream",
     "text": [
      "C:\\Users\\User\\AppData\\Local\\Temp\\ipykernel_20444\\262736577.py:66: UserWarning:\n",
      "\n",
      "Metric 'start' raised an exception\n",
      "\n"
     ]
    },
    {
     "name": "stdout",
     "output_type": "stream",
     "text": [
      "LUXHP\n"
     ]
    },
    {
     "name": "stderr",
     "output_type": "stream",
     "text": [
      "TEMP09: No data found, symbol may be delisted\n",
      "C:\\Users\\User\\AppData\\Local\\Temp\\ipykernel_20444\\262736577.py:66: UserWarning:\n",
      "\n",
      "Metric 'start' raised an exception\n",
      "\n"
     ]
    },
    {
     "name": "stdout",
     "output_type": "stream",
     "text": [
      "TEMP09\n"
     ]
    },
    {
     "name": "stderr",
     "output_type": "stream",
     "text": [
      "MTBPP: No data found, symbol may be delisted\n",
      "C:\\Users\\User\\AppData\\Local\\Temp\\ipykernel_20444\\262736577.py:66: UserWarning:\n",
      "\n",
      "Metric 'start' raised an exception\n",
      "\n"
     ]
    },
    {
     "name": "stdout",
     "output_type": "stream",
     "text": [
      "MTBPP\n"
     ]
    },
    {
     "name": "stderr",
     "output_type": "stream",
     "text": [
      "AENPP: No data found, symbol may be delisted\n",
      "C:\\Users\\User\\AppData\\Local\\Temp\\ipykernel_20444\\262736577.py:66: UserWarning:\n",
      "\n",
      "Metric 'start' raised an exception\n",
      "\n"
     ]
    },
    {
     "name": "stdout",
     "output_type": "stream",
     "text": [
      "AENPP\n"
     ]
    },
    {
     "name": "stderr",
     "output_type": "stream",
     "text": [
      "MFCPF: No data found, symbol may be delisted\n",
      "C:\\Users\\User\\AppData\\Local\\Temp\\ipykernel_20444\\262736577.py:66: UserWarning:\n",
      "\n",
      "Metric 'start' raised an exception\n",
      "\n"
     ]
    },
    {
     "name": "stdout",
     "output_type": "stream",
     "text": [
      "MFCPF\n"
     ]
    },
    {
     "name": "stderr",
     "output_type": "stream",
     "text": [
      "MBINP: No data found, symbol may be delisted\n",
      "C:\\Users\\User\\AppData\\Local\\Temp\\ipykernel_20444\\262736577.py:66: UserWarning:\n",
      "\n",
      "Metric 'start' raised an exception\n",
      "\n"
     ]
    },
    {
     "name": "stdout",
     "output_type": "stream",
     "text": [
      "MBINP\n"
     ]
    },
    {
     "name": "stderr",
     "output_type": "stream",
     "text": [
      "TEMP49: No data found, symbol may be delisted\n",
      "C:\\Users\\User\\AppData\\Local\\Temp\\ipykernel_20444\\262736577.py:66: UserWarning:\n",
      "\n",
      "Metric 'start' raised an exception\n",
      "\n"
     ]
    },
    {
     "name": "stdout",
     "output_type": "stream",
     "text": [
      "TEMP49\n"
     ]
    },
    {
     "name": "stderr",
     "output_type": "stream",
     "text": [
      "TEMP68: No data found, symbol may be delisted\n",
      "C:\\Users\\User\\AppData\\Local\\Temp\\ipykernel_20444\\262736577.py:66: UserWarning:\n",
      "\n",
      "Metric 'start' raised an exception\n",
      "\n"
     ]
    },
    {
     "name": "stdout",
     "output_type": "stream",
     "text": [
      "TEMP68\n"
     ]
    },
    {
     "name": "stderr",
     "output_type": "stream",
     "text": [
      "C:\\Users\\User\\AppData\\Local\\Temp\\ipykernel_20444\\262736577.py:66: UserWarning:\n",
      "\n",
      "Metric 'start' raised an exception\n",
      "\n"
     ]
    },
    {
     "name": "stdout",
     "output_type": "stream",
     "text": [
      "MPLXP\n"
     ]
    },
    {
     "name": "stderr",
     "output_type": "stream",
     "text": [
      "C:\\Users\\User\\AppData\\Local\\Temp\\ipykernel_20444\\262736577.py:66: UserWarning:\n",
      "\n",
      "Metric 'start' raised an exception\n",
      "\n",
      "C:\\Users\\User\\AppData\\Local\\Temp\\ipykernel_20444\\262736577.py:66: UserWarning:\n",
      "\n",
      "Metric 'start' raised an exception\n",
      "\n"
     ]
    },
    {
     "name": "stdout",
     "output_type": "stream",
     "text": [
      "NMPRY\n",
      "NMPGY\n"
     ]
    },
    {
     "name": "stderr",
     "output_type": "stream",
     "text": [
      "NI-PB: No data found, symbol may be delisted\n",
      "C:\\Users\\User\\AppData\\Local\\Temp\\ipykernel_20444\\262736577.py:66: UserWarning:\n",
      "\n",
      "Metric 'start' raised an exception\n",
      "\n"
     ]
    },
    {
     "name": "stdout",
     "output_type": "stream",
     "text": [
      "NI-PB\n"
     ]
    },
    {
     "name": "stderr",
     "output_type": "stream",
     "text": [
      "PARAP: No data found, symbol may be delisted\n",
      "C:\\Users\\User\\AppData\\Local\\Temp\\ipykernel_20444\\262736577.py:66: UserWarning:\n",
      "\n",
      "Metric 'start' raised an exception\n",
      "\n"
     ]
    },
    {
     "name": "stdout",
     "output_type": "stream",
     "text": [
      "PARAP\n"
     ]
    },
    {
     "name": "stderr",
     "output_type": "stream",
     "text": [
      "PRTNQ: No data found, symbol may be delisted\n",
      "C:\\Users\\User\\AppData\\Local\\Temp\\ipykernel_20444\\262736577.py:66: UserWarning:\n",
      "\n",
      "Metric 'start' raised an exception\n",
      "\n"
     ]
    },
    {
     "name": "stdout",
     "output_type": "stream",
     "text": [
      "PRTNQ\n"
     ]
    },
    {
     "name": "stderr",
     "output_type": "stream",
     "text": [
      "PRTMQ: No data found, symbol may be delisted\n",
      "C:\\Users\\User\\AppData\\Local\\Temp\\ipykernel_20444\\262736577.py:66: UserWarning:\n",
      "\n",
      "Metric 'start' raised an exception\n",
      "\n"
     ]
    },
    {
     "name": "stdout",
     "output_type": "stream",
     "text": [
      "PRTMQ\n"
     ]
    },
    {
     "name": "stderr",
     "output_type": "stream",
     "text": [
      "PRTLQ: No data found, symbol may be delisted\n",
      "C:\\Users\\User\\AppData\\Local\\Temp\\ipykernel_20444\\262736577.py:66: UserWarning:\n",
      "\n",
      "Metric 'start' raised an exception\n",
      "\n"
     ]
    },
    {
     "name": "stdout",
     "output_type": "stream",
     "text": [
      "PRTLQ\n"
     ]
    },
    {
     "name": "stderr",
     "output_type": "stream",
     "text": [
      "PNCYL: No data found, symbol may be delisted\n",
      "C:\\Users\\User\\AppData\\Local\\Temp\\ipykernel_20444\\262736577.py:66: UserWarning:\n",
      "\n",
      "Metric 'start' raised an exception\n",
      "\n"
     ]
    },
    {
     "name": "stdout",
     "output_type": "stream",
     "text": [
      "PNCYL\n"
     ]
    },
    {
     "name": "stderr",
     "output_type": "stream",
     "text": [
      "PWCCF: No data found, symbol may be delisted\n",
      "C:\\Users\\User\\AppData\\Local\\Temp\\ipykernel_20444\\262736577.py:66: UserWarning:\n",
      "\n",
      "Metric 'start' raised an exception\n",
      "\n"
     ]
    },
    {
     "name": "stdout",
     "output_type": "stream",
     "text": [
      "PWCCF\n"
     ]
    },
    {
     "name": "stderr",
     "output_type": "stream",
     "text": [
      "C:\\Users\\User\\AppData\\Local\\Temp\\ipykernel_20444\\262736577.py:66: UserWarning:\n",
      "\n",
      "Metric 'start' raised an exception\n",
      "\n"
     ]
    },
    {
     "name": "stdout",
     "output_type": "stream",
     "text": [
      "O-P\n"
     ]
    },
    {
     "name": "stderr",
     "output_type": "stream",
     "text": [
      "C:\\Users\\User\\AppData\\Local\\Temp\\ipykernel_20444\\262736577.py:66: UserWarning:\n",
      "\n",
      "Metric 'start' raised an exception\n",
      "\n",
      "C:\\Users\\User\\AppData\\Local\\Temp\\ipykernel_20444\\262736577.py:66: UserWarning:\n",
      "\n",
      "Metric 'start' raised an exception\n",
      "\n"
     ]
    },
    {
     "name": "stdout",
     "output_type": "stream",
     "text": [
      "REGCO\n",
      "REGCP\n"
     ]
    },
    {
     "name": "stderr",
     "output_type": "stream",
     "text": [
      "C:\\Users\\User\\AppData\\Local\\Temp\\ipykernel_20444\\262736577.py:66: UserWarning:\n",
      "\n",
      "Metric 'start' raised an exception\n",
      "\n"
     ]
    },
    {
     "name": "stdout",
     "output_type": "stream",
     "text": [
      "SCE-PM\n"
     ]
    },
    {
     "name": "stderr",
     "output_type": "stream",
     "text": [
      "SJIV: No data found, symbol may be delisted\n",
      "C:\\Users\\User\\AppData\\Local\\Temp\\ipykernel_20444\\262736577.py:66: UserWarning:\n",
      "\n",
      "Metric 'start' raised an exception\n",
      "\n"
     ]
    },
    {
     "name": "stdout",
     "output_type": "stream",
     "text": [
      "SJIV\n"
     ]
    },
    {
     "name": "stderr",
     "output_type": "stream",
     "text": [
      "TEMP13: No data found, symbol may be delisted\n",
      "C:\\Users\\User\\AppData\\Local\\Temp\\ipykernel_20444\\262736577.py:66: UserWarning:\n",
      "\n",
      "Metric 'start' raised an exception\n",
      "\n"
     ]
    },
    {
     "name": "stdout",
     "output_type": "stream",
     "text": [
      "TEMP13\n"
     ]
    },
    {
     "name": "stderr",
     "output_type": "stream",
     "text": [
      "STT-PD: No data found, symbol may be delisted\n",
      "C:\\Users\\User\\AppData\\Local\\Temp\\ipykernel_20444\\262736577.py:66: UserWarning:\n",
      "\n",
      "Metric 'start' raised an exception\n",
      "\n"
     ]
    },
    {
     "name": "stdout",
     "output_type": "stream",
     "text": [
      "STT-PD\n"
     ]
    },
    {
     "name": "stderr",
     "output_type": "stream",
     "text": [
      "SXN.B: No data found, symbol may be delisted\n",
      "C:\\Users\\User\\AppData\\Local\\Temp\\ipykernel_20444\\262736577.py:66: UserWarning:\n",
      "\n",
      "Metric 'start' raised an exception\n",
      "\n"
     ]
    },
    {
     "name": "stdout",
     "output_type": "stream",
     "text": [
      "SXN.B\n"
     ]
    },
    {
     "name": "stderr",
     "output_type": "stream",
     "text": [
      "SXN.C: No data found, symbol may be delisted\n",
      "C:\\Users\\User\\AppData\\Local\\Temp\\ipykernel_20444\\262736577.py:66: UserWarning:\n",
      "\n",
      "Metric 'start' raised an exception\n",
      "\n"
     ]
    },
    {
     "name": "stdout",
     "output_type": "stream",
     "text": [
      "SXN.C\n"
     ]
    },
    {
     "name": "stderr",
     "output_type": "stream",
     "text": [
      "SXN.D: No data found, symbol may be delisted\n",
      "C:\\Users\\User\\AppData\\Local\\Temp\\ipykernel_20444\\262736577.py:66: UserWarning:\n",
      "\n",
      "Metric 'start' raised an exception\n",
      "\n"
     ]
    },
    {
     "name": "stdout",
     "output_type": "stream",
     "text": [
      "SXN.D\n"
     ]
    },
    {
     "name": "stderr",
     "output_type": "stream",
     "text": [
      "SXN.E: No data found, symbol may be delisted\n",
      "C:\\Users\\User\\AppData\\Local\\Temp\\ipykernel_20444\\262736577.py:66: UserWarning:\n",
      "\n",
      "Metric 'start' raised an exception\n",
      "\n"
     ]
    },
    {
     "name": "stdout",
     "output_type": "stream",
     "text": [
      "SXN.E\n"
     ]
    },
    {
     "name": "stderr",
     "output_type": "stream",
     "text": [
      "SXN.F: No data found, symbol may be delisted\n",
      "C:\\Users\\User\\AppData\\Local\\Temp\\ipykernel_20444\\262736577.py:66: UserWarning:\n",
      "\n",
      "Metric 'start' raised an exception\n",
      "\n"
     ]
    },
    {
     "name": "stdout",
     "output_type": "stream",
     "text": [
      "SXN.F\n"
     ]
    },
    {
     "name": "stderr",
     "output_type": "stream",
     "text": [
      "TEMP53: No data found, symbol may be delisted\n",
      "C:\\Users\\User\\AppData\\Local\\Temp\\ipykernel_20444\\262736577.py:66: UserWarning:\n",
      "\n",
      "Metric 'start' raised an exception\n",
      "\n",
      "C:\\Users\\User\\AppData\\Local\\Temp\\ipykernel_20444\\262736577.py:66: UserWarning:\n",
      "\n",
      "Metric 'start' raised an exception\n",
      "\n"
     ]
    },
    {
     "name": "stdout",
     "output_type": "stream",
     "text": [
      "TEMP53\n",
      "SLFIF\n"
     ]
    },
    {
     "name": "stderr",
     "output_type": "stream",
     "text": [
      "C:\\Users\\User\\AppData\\Local\\Temp\\ipykernel_20444\\262736577.py:66: UserWarning:\n",
      "\n",
      "Metric 'start' raised an exception\n",
      "\n"
     ]
    },
    {
     "name": "stdout",
     "output_type": "stream",
     "text": [
      "SYF-PB\n"
     ]
    },
    {
     "name": "stderr",
     "output_type": "stream",
     "text": [
      "TEMP82: No data found, symbol may be delisted\n",
      "C:\\Users\\User\\AppData\\Local\\Temp\\ipykernel_20444\\262736577.py:66: UserWarning:\n",
      "\n",
      "Metric 'start' raised an exception\n",
      "\n"
     ]
    },
    {
     "name": "stdout",
     "output_type": "stream",
     "text": [
      "TEMP82\n"
     ]
    },
    {
     "name": "stderr",
     "output_type": "stream",
     "text": [
      "C:\\Users\\User\\AppData\\Local\\Temp\\ipykernel_20444\\262736577.py:66: UserWarning:\n",
      "\n",
      "Metric 'start' raised an exception\n",
      "\n",
      "C:\\Users\\User\\AppData\\Local\\Temp\\ipykernel_20444\\262736577.py:66: UserWarning:\n",
      "\n",
      "Metric 'start' raised an exception\n",
      "\n"
     ]
    },
    {
     "name": "stdout",
     "output_type": "stream",
     "text": [
      "TRPEF\n",
      "TCEYF\n"
     ]
    },
    {
     "name": "stderr",
     "output_type": "stream",
     "text": [
      "C:\\Users\\User\\AppData\\Local\\Temp\\ipykernel_20444\\262736577.py:66: UserWarning:\n",
      "\n",
      "Metric 'start' raised an exception\n",
      "\n",
      "C:\\Users\\User\\AppData\\Local\\Temp\\ipykernel_20444\\262736577.py:66: UserWarning:\n",
      "\n",
      "Metric 'start' raised an exception\n",
      "\n"
     ]
    },
    {
     "name": "stdout",
     "output_type": "stream",
     "text": [
      "TRPPF\n",
      "TRPRF\n"
     ]
    },
    {
     "name": "stderr",
     "output_type": "stream",
     "text": [
      "TGH-PB: No data found, symbol may be delisted\n",
      "C:\\Users\\User\\AppData\\Local\\Temp\\ipykernel_20444\\262736577.py:66: UserWarning:\n",
      "\n",
      "Metric 'start' raised an exception\n",
      "\n"
     ]
    },
    {
     "name": "stdout",
     "output_type": "stream",
     "text": [
      "TGH-PB\n"
     ]
    },
    {
     "name": "stderr",
     "output_type": "stream",
     "text": [
      "TGH-PA: No data found, symbol may be delisted\n",
      "C:\\Users\\User\\AppData\\Local\\Temp\\ipykernel_20444\\262736577.py:66: UserWarning:\n",
      "\n",
      "Metric 'start' raised an exception\n",
      "\n"
     ]
    },
    {
     "name": "stdout",
     "output_type": "stream",
     "text": [
      "TGH-PA\n"
     ]
    },
    {
     "name": "stderr",
     "output_type": "stream",
     "text": [
      "TACPF: Period '240mo' is invalid, must be one of ['1mo', '3mo', '6mo', 'ytd', '1y', '2y', '5y', '10y', 'max']\n",
      "C:\\Users\\User\\AppData\\Local\\Temp\\ipykernel_20444\\262736577.py:66: UserWarning:\n",
      "\n",
      "Metric 'start' raised an exception\n",
      "\n"
     ]
    },
    {
     "name": "stdout",
     "output_type": "stream",
     "text": [
      "TACPF\n"
     ]
    },
    {
     "name": "stderr",
     "output_type": "stream",
     "text": [
      "TRNPF: No data found, symbol may be delisted\n",
      "C:\\Users\\User\\AppData\\Local\\Temp\\ipykernel_20444\\262736577.py:66: UserWarning:\n",
      "\n",
      "Metric 'start' raised an exception\n",
      "\n"
     ]
    },
    {
     "name": "stdout",
     "output_type": "stream",
     "text": [
      "TRNPF\n"
     ]
    },
    {
     "name": "stderr",
     "output_type": "stream",
     "text": [
      "C:\\Users\\User\\AppData\\Local\\Temp\\ipykernel_20444\\262736577.py:66: UserWarning:\n",
      "\n",
      "Metric 'start' raised an exception\n",
      "\n",
      "C:\\Users\\User\\AppData\\Local\\Temp\\ipykernel_20444\\262736577.py:66: UserWarning:\n",
      "\n",
      "Metric 'start' raised an exception\n",
      "\n"
     ]
    },
    {
     "name": "stdout",
     "output_type": "stream",
     "text": [
      "TRTN-PE\n",
      "TRTN-PD\n"
     ]
    },
    {
     "name": "stderr",
     "output_type": "stream",
     "text": [
      "C:\\Users\\User\\AppData\\Local\\Temp\\ipykernel_20444\\262736577.py:66: UserWarning:\n",
      "\n",
      "Metric 'start' raised an exception\n",
      "\n",
      "C:\\Users\\User\\AppData\\Local\\Temp\\ipykernel_20444\\262736577.py:66: UserWarning:\n",
      "\n",
      "Metric 'start' raised an exception\n",
      "\n"
     ]
    },
    {
     "name": "stdout",
     "output_type": "stream",
     "text": [
      "TRTN-PC\n",
      "TRTN-PB\n"
     ]
    },
    {
     "name": "stderr",
     "output_type": "stream",
     "text": [
      "C:\\Users\\User\\AppData\\Local\\Temp\\ipykernel_20444\\262736577.py:66: UserWarning:\n",
      "\n",
      "Metric 'start' raised an exception\n",
      "\n"
     ]
    },
    {
     "name": "stdout",
     "output_type": "stream",
     "text": [
      "TRTN-PA\n"
     ]
    },
    {
     "name": "stderr",
     "output_type": "stream",
     "text": [
      "TEMP08: No data found, symbol may be delisted\n",
      "C:\\Users\\User\\AppData\\Local\\Temp\\ipykernel_20444\\262736577.py:66: UserWarning:\n",
      "\n",
      "Metric 'start' raised an exception\n",
      "\n"
     ]
    },
    {
     "name": "stdout",
     "output_type": "stream",
     "text": [
      "TEMP08\n"
     ]
    },
    {
     "name": "stderr",
     "output_type": "stream",
     "text": [
      "TFC-PJ: No data found, symbol may be delisted\n",
      "C:\\Users\\User\\AppData\\Local\\Temp\\ipykernel_20444\\262736577.py:66: UserWarning:\n",
      "\n",
      "Metric 'start' raised an exception\n",
      "\n"
     ]
    },
    {
     "name": "stdout",
     "output_type": "stream",
     "text": [
      "TFC-PJ\n"
     ]
    },
    {
     "name": "stderr",
     "output_type": "stream",
     "text": [
      "WFC-PR: No data found, symbol may be delisted\n",
      "C:\\Users\\User\\AppData\\Local\\Temp\\ipykernel_20444\\262736577.py:66: UserWarning:\n",
      "\n",
      "Metric 'start' raised an exception\n",
      "\n"
     ]
    },
    {
     "name": "stdout",
     "output_type": "stream",
     "text": [
      "WFC-PR\n"
     ]
    },
    {
     "name": "stderr",
     "output_type": "stream",
     "text": [
      "TEMP07: No data found, symbol may be delisted\n",
      "C:\\Users\\User\\AppData\\Local\\Temp\\ipykernel_20444\\262736577.py:66: UserWarning:\n",
      "\n",
      "Metric 'start' raised an exception\n",
      "\n"
     ]
    },
    {
     "name": "stdout",
     "output_type": "stream",
     "text": [
      "TEMP07\n"
     ]
    },
    {
     "name": "stderr",
     "output_type": "stream",
     "text": [
      "TEMP15: No data found, symbol may be delisted\n",
      "C:\\Users\\User\\AppData\\Local\\Temp\\ipykernel_20444\\262736577.py:66: UserWarning:\n",
      "\n",
      "Metric 'start' raised an exception\n",
      "\n"
     ]
    },
    {
     "name": "stdout",
     "output_type": "stream",
     "text": [
      "TEMP15\n"
     ]
    }
   ],
   "source": [
    "# LONG VWAP STRAT \n",
    "\n",
    "\n",
    "prefs = pd.read_csv(\"prefs_240311.csv\")\n",
    "\n",
    "\n",
    "df1 = {}\n",
    "\n",
    "for idx, row in prefs.iterrows():\n",
    "        \n",
    "    ticker = row[\"Symbol\"].split('\\r\\n')[0].replace('-', '-P')\n",
    "\n",
    "    if ticker == \"Symbol\":\n",
    "        continue\n",
    "\n",
    "    df = prf.downlaod_symbol_data(ticker, period = \"240mo\")\n",
    "    #df = ROC(df)\n",
    "    #df = EMA(df)\n",
    "    #df = momentum_oscillators(df) ## no vwap \n",
    "    #df = volatility(df)\n",
    "    #df = reversal_patterns(df)\n",
    "    #df = continuation_patterns(df)\n",
    "    #df = magic_doji(df)\n",
    "    df['vwap'] = ta.volume.volume_weighted_average_price(df['High'],\n",
    "                                                        df['Low'],\n",
    "                                                        df['Close'],\n",
    "                                                        df['Volume'])\n",
    "\n",
    "    df['vwap_diff'] = df['Close'] - df['vwap'] # if -ve then VWAP > Close ==> BUY P\n",
    "    df['vwap_pct_diff'] =  (df['vwap_diff']) /  df['Close'].shift(-1)\n",
    "\n",
    "    df = df.dropna()\n",
    "\n",
    "    ### PARAMETERS \n",
    "    long_threshold = 0.02\n",
    "    long_exits = df['vwap_pct_diff'] < 0.0\n",
    "\n",
    "    short_threshold = -0.20\n",
    "\n",
    "    df['buy_vwap'] = df['vwap_pct_diff'] >= long_threshold\n",
    "    df['sell_vwap'] = df['vwap_pct_diff'] >= short_threshold\n",
    "\n",
    "\n",
    "    long_entries = df['buy_vwap']\n",
    "    long_exits = df['vwap_pct_diff'] < 0.0\n",
    "\n",
    "\n",
    "    #print(entries, exits)\n",
    "\n",
    "    pf = vbt.Portfolio.from_signals(df['Close'], \n",
    "                                    long_entries, \n",
    "                                    long_exits,\n",
    "                                    freq=\"D\",\n",
    "                                    fees = 0.0014)\n",
    "                                    #sl_stop = 0.05)\n",
    "    #print(pf.stats())\n",
    "\n",
    "    try:\n",
    "        df1[ticker] = pf.stats()\n",
    "        #pf.plot().write_image('Backtests/' + ticker+ '.png')\n",
    "        \n",
    "    except IndexError:\n",
    "        print(ticker)\n",
    "#df[df['vwap_pct_diff'] > 0.07].head()"
   ]
  },
  {
   "cell_type": "code",
   "execution_count": 62,
   "metadata": {},
   "outputs": [
    {
     "data": {
      "text/html": [
       "<div>\n",
       "<style scoped>\n",
       "    .dataframe tbody tr th:only-of-type {\n",
       "        vertical-align: middle;\n",
       "    }\n",
       "\n",
       "    .dataframe tbody tr th {\n",
       "        vertical-align: top;\n",
       "    }\n",
       "\n",
       "    .dataframe thead th {\n",
       "        text-align: right;\n",
       "    }\n",
       "</style>\n",
       "<table border=\"1\" class=\"dataframe\">\n",
       "  <thead>\n",
       "    <tr style=\"text-align: right;\">\n",
       "      <th></th>\n",
       "      <th>Total Trades</th>\n",
       "      <th>Win Rate [%]</th>\n",
       "      <th>Sharpe Ratio</th>\n",
       "    </tr>\n",
       "  </thead>\n",
       "  <tbody>\n",
       "    <tr>\n",
       "      <th>AMTPQ</th>\n",
       "      <td>19.0</td>\n",
       "      <td>52.631579</td>\n",
       "      <td>0.520609</td>\n",
       "    </tr>\n",
       "    <tr>\n",
       "      <th>TEUCF</th>\n",
       "      <td>58.0</td>\n",
       "      <td>67.241379</td>\n",
       "      <td>1.049083</td>\n",
       "    </tr>\n",
       "    <tr>\n",
       "      <th>DTLAP</th>\n",
       "      <td>20.0</td>\n",
       "      <td>70.000000</td>\n",
       "      <td>0.847057</td>\n",
       "    </tr>\n",
       "    <tr>\n",
       "      <th>CETXP</th>\n",
       "      <td>24.0</td>\n",
       "      <td>62.500000</td>\n",
       "      <td>0.776073</td>\n",
       "    </tr>\n",
       "    <tr>\n",
       "      <th>CYCCP</th>\n",
       "      <td>21.0</td>\n",
       "      <td>76.190476</td>\n",
       "      <td>0.630905</td>\n",
       "    </tr>\n",
       "    <tr>\n",
       "      <th>DSHKN</th>\n",
       "      <td>18.0</td>\n",
       "      <td>55.555556</td>\n",
       "      <td>0.131811</td>\n",
       "    </tr>\n",
       "    <tr>\n",
       "      <th>FNMAL</th>\n",
       "      <td>30.0</td>\n",
       "      <td>46.666667</td>\n",
       "      <td>-0.127162</td>\n",
       "    </tr>\n",
       "    <tr>\n",
       "      <th>FNMAN</th>\n",
       "      <td>24.0</td>\n",
       "      <td>37.500000</td>\n",
       "      <td>-0.251735</td>\n",
       "    </tr>\n",
       "    <tr>\n",
       "      <th>FNMAG</th>\n",
       "      <td>26.0</td>\n",
       "      <td>53.846154</td>\n",
       "      <td>0.220436</td>\n",
       "    </tr>\n",
       "    <tr>\n",
       "      <th>FNMAK</th>\n",
       "      <td>27.0</td>\n",
       "      <td>51.851852</td>\n",
       "      <td>-0.219604</td>\n",
       "    </tr>\n",
       "    <tr>\n",
       "      <th>FNMAM</th>\n",
       "      <td>24.0</td>\n",
       "      <td>50.000000</td>\n",
       "      <td>-0.032878</td>\n",
       "    </tr>\n",
       "    <tr>\n",
       "      <th>FNMAI</th>\n",
       "      <td>35.0</td>\n",
       "      <td>62.857143</td>\n",
       "      <td>0.263855</td>\n",
       "    </tr>\n",
       "    <tr>\n",
       "      <th>FNMAS</th>\n",
       "      <td>22.0</td>\n",
       "      <td>40.909091</td>\n",
       "      <td>-0.338608</td>\n",
       "    </tr>\n",
       "    <tr>\n",
       "      <th>FNMAT</th>\n",
       "      <td>23.0</td>\n",
       "      <td>43.478261</td>\n",
       "      <td>-0.051459</td>\n",
       "    </tr>\n",
       "    <tr>\n",
       "      <th>FNMAP</th>\n",
       "      <td>23.0</td>\n",
       "      <td>34.782609</td>\n",
       "      <td>-0.198828</td>\n",
       "    </tr>\n",
       "    <tr>\n",
       "      <th>FNMAO</th>\n",
       "      <td>28.0</td>\n",
       "      <td>42.857143</td>\n",
       "      <td>0.014047</td>\n",
       "    </tr>\n",
       "    <tr>\n",
       "      <th>FNMFN</th>\n",
       "      <td>24.0</td>\n",
       "      <td>54.166667</td>\n",
       "      <td>0.448083</td>\n",
       "    </tr>\n",
       "    <tr>\n",
       "      <th>FNMAH</th>\n",
       "      <td>25.0</td>\n",
       "      <td>56.000000</td>\n",
       "      <td>-0.074588</td>\n",
       "    </tr>\n",
       "    <tr>\n",
       "      <th>HOVNP</th>\n",
       "      <td>22.0</td>\n",
       "      <td>59.090909</td>\n",
       "      <td>0.022985</td>\n",
       "    </tr>\n",
       "    <tr>\n",
       "      <th>LEHKQ</th>\n",
       "      <td>213.0</td>\n",
       "      <td>91.549296</td>\n",
       "      <td>2.492066</td>\n",
       "    </tr>\n",
       "    <tr>\n",
       "      <th>LEHLQ</th>\n",
       "      <td>176.0</td>\n",
       "      <td>96.590909</td>\n",
       "      <td>3.036073</td>\n",
       "    </tr>\n",
       "    <tr>\n",
       "      <th>LHHMQ</th>\n",
       "      <td>195.0</td>\n",
       "      <td>98.461538</td>\n",
       "      <td>4.134297</td>\n",
       "    </tr>\n",
       "    <tr>\n",
       "      <th>LEHNQ</th>\n",
       "      <td>223.0</td>\n",
       "      <td>93.273543</td>\n",
       "      <td>3.364859</td>\n",
       "    </tr>\n",
       "    <tr>\n",
       "      <th>NUSPQ</th>\n",
       "      <td>23.0</td>\n",
       "      <td>52.173913</td>\n",
       "      <td>2.338470</td>\n",
       "    </tr>\n",
       "    <tr>\n",
       "      <th>OTRKP</th>\n",
       "      <td>16.0</td>\n",
       "      <td>56.250000</td>\n",
       "      <td>0.099541</td>\n",
       "    </tr>\n",
       "    <tr>\n",
       "      <th>SKRUF</th>\n",
       "      <td>21.0</td>\n",
       "      <td>75.000000</td>\n",
       "      <td>0.582159</td>\n",
       "    </tr>\n",
       "  </tbody>\n",
       "</table>\n",
       "</div>"
      ],
      "text/plain": [
       "       Total Trades  Win Rate [%]  Sharpe Ratio\n",
       "AMTPQ          19.0     52.631579      0.520609\n",
       "TEUCF          58.0     67.241379      1.049083\n",
       "DTLAP          20.0     70.000000      0.847057\n",
       "CETXP          24.0     62.500000      0.776073\n",
       "CYCCP          21.0     76.190476      0.630905\n",
       "DSHKN          18.0     55.555556      0.131811\n",
       "FNMAL          30.0     46.666667     -0.127162\n",
       "FNMAN          24.0     37.500000     -0.251735\n",
       "FNMAG          26.0     53.846154      0.220436\n",
       "FNMAK          27.0     51.851852     -0.219604\n",
       "FNMAM          24.0     50.000000     -0.032878\n",
       "FNMAI          35.0     62.857143      0.263855\n",
       "FNMAS          22.0     40.909091     -0.338608\n",
       "FNMAT          23.0     43.478261     -0.051459\n",
       "FNMAP          23.0     34.782609     -0.198828\n",
       "FNMAO          28.0     42.857143      0.014047\n",
       "FNMFN          24.0     54.166667      0.448083\n",
       "FNMAH          25.0     56.000000     -0.074588\n",
       "HOVNP          22.0     59.090909      0.022985\n",
       "LEHKQ         213.0     91.549296      2.492066\n",
       "LEHLQ         176.0     96.590909      3.036073\n",
       "LHHMQ         195.0     98.461538      4.134297\n",
       "LEHNQ         223.0     93.273543      3.364859\n",
       "NUSPQ          23.0     52.173913      2.338470\n",
       "OTRKP          16.0     56.250000      0.099541\n",
       "SKRUF          21.0     75.000000      0.582159"
      ]
     },
     "execution_count": 62,
     "metadata": {},
     "output_type": "execute_result"
    }
   ],
   "source": [
    "df4 = pd.DataFrame(df3, columns = df1.keys())\n",
    "sr = df4.loc[['Total Trades','Win Rate [%]', 'Sharpe Ratio' ], :]\n",
    "sr = sr.replace(np.inf, np.nan).astype(float).transpose()\n",
    "sr = sr[sr['Total Trades'] > 15]\n",
    "#sr = sr[sr['Win Rate [%]'] > 50]\n",
    "sr"
   ]
  },
  {
   "cell_type": "code",
   "execution_count": 50,
   "metadata": {},
   "outputs": [
    {
     "data": {
      "text/html": [
       "<div>\n",
       "<style scoped>\n",
       "    .dataframe tbody tr th:only-of-type {\n",
       "        vertical-align: middle;\n",
       "    }\n",
       "\n",
       "    .dataframe tbody tr th {\n",
       "        vertical-align: top;\n",
       "    }\n",
       "\n",
       "    .dataframe thead th {\n",
       "        text-align: right;\n",
       "    }\n",
       "</style>\n",
       "<table border=\"1\" class=\"dataframe\">\n",
       "  <thead>\n",
       "    <tr style=\"text-align: right;\">\n",
       "      <th></th>\n",
       "      <th>Total Trades</th>\n",
       "      <th>Win Rate [%]</th>\n",
       "      <th>Sharpe Ratio</th>\n",
       "    </tr>\n",
       "  </thead>\n",
       "  <tbody>\n",
       "    <tr>\n",
       "      <th>ACR-PC</th>\n",
       "      <td>36.0</td>\n",
       "      <td>55.555556</td>\n",
       "      <td>0.761681</td>\n",
       "    </tr>\n",
       "    <tr>\n",
       "      <th>AGNCO</th>\n",
       "      <td>16.0</td>\n",
       "      <td>62.500000</td>\n",
       "      <td>1.235232</td>\n",
       "    </tr>\n",
       "    <tr>\n",
       "      <th>NLY-PG</th>\n",
       "      <td>21.0</td>\n",
       "      <td>52.380952</td>\n",
       "      <td>0.375714</td>\n",
       "    </tr>\n",
       "    <tr>\n",
       "      <th>NLY-PI</th>\n",
       "      <td>19.0</td>\n",
       "      <td>63.157895</td>\n",
       "      <td>1.331558</td>\n",
       "    </tr>\n",
       "    <tr>\n",
       "      <th>AXS-PE</th>\n",
       "      <td>23.0</td>\n",
       "      <td>56.521739</td>\n",
       "      <td>0.754118</td>\n",
       "    </tr>\n",
       "    <tr>\n",
       "      <th>BML-PJ</th>\n",
       "      <td>65.0</td>\n",
       "      <td>52.307692</td>\n",
       "      <td>0.640564</td>\n",
       "    </tr>\n",
       "    <tr>\n",
       "      <th>CDR-PC</th>\n",
       "      <td>46.0</td>\n",
       "      <td>52.173913</td>\n",
       "      <td>0.906674</td>\n",
       "    </tr>\n",
       "    <tr>\n",
       "      <th>CIM-PB</th>\n",
       "      <td>23.0</td>\n",
       "      <td>56.521739</td>\n",
       "      <td>0.590823</td>\n",
       "    </tr>\n",
       "    <tr>\n",
       "      <th>CFG-PD</th>\n",
       "      <td>21.0</td>\n",
       "      <td>57.142857</td>\n",
       "      <td>0.366828</td>\n",
       "    </tr>\n",
       "    <tr>\n",
       "      <th>DLR-PJ</th>\n",
       "      <td>19.0</td>\n",
       "      <td>63.157895</td>\n",
       "      <td>1.132851</td>\n",
       "    </tr>\n",
       "    <tr>\n",
       "      <th>DBRG-PH</th>\n",
       "      <td>46.0</td>\n",
       "      <td>53.333333</td>\n",
       "      <td>0.822435</td>\n",
       "    </tr>\n",
       "    <tr>\n",
       "      <th>DBRG-PJ</th>\n",
       "      <td>39.0</td>\n",
       "      <td>52.631579</td>\n",
       "      <td>0.892717</td>\n",
       "    </tr>\n",
       "    <tr>\n",
       "      <th>DBRG-PI</th>\n",
       "      <td>38.0</td>\n",
       "      <td>51.351351</td>\n",
       "      <td>1.126383</td>\n",
       "    </tr>\n",
       "    <tr>\n",
       "      <th>DLNG-PB</th>\n",
       "      <td>27.0</td>\n",
       "      <td>51.851852</td>\n",
       "      <td>0.996023</td>\n",
       "    </tr>\n",
       "    <tr>\n",
       "      <th>EQH-PA</th>\n",
       "      <td>16.0</td>\n",
       "      <td>56.250000</td>\n",
       "      <td>0.946317</td>\n",
       "    </tr>\n",
       "    <tr>\n",
       "      <th>FHN-PF</th>\n",
       "      <td>17.0</td>\n",
       "      <td>52.941176</td>\n",
       "      <td>1.643614</td>\n",
       "    </tr>\n",
       "    <tr>\n",
       "      <th>FTAIO</th>\n",
       "      <td>21.0</td>\n",
       "      <td>52.380952</td>\n",
       "      <td>1.121476</td>\n",
       "    </tr>\n",
       "    <tr>\n",
       "      <th>KIM-PM</th>\n",
       "      <td>20.0</td>\n",
       "      <td>60.000000</td>\n",
       "      <td>0.926803</td>\n",
       "    </tr>\n",
       "    <tr>\n",
       "      <th>MET-PE</th>\n",
       "      <td>18.0</td>\n",
       "      <td>52.941176</td>\n",
       "      <td>0.243483</td>\n",
       "    </tr>\n",
       "    <tr>\n",
       "      <th>MS-PK</th>\n",
       "      <td>20.0</td>\n",
       "      <td>65.000000</td>\n",
       "      <td>0.589981</td>\n",
       "    </tr>\n",
       "    <tr>\n",
       "      <th>NYMTN</th>\n",
       "      <td>29.0</td>\n",
       "      <td>51.724138</td>\n",
       "      <td>1.067545</td>\n",
       "    </tr>\n",
       "    <tr>\n",
       "      <th>NS-PA</th>\n",
       "      <td>33.0</td>\n",
       "      <td>54.545455</td>\n",
       "      <td>0.894146</td>\n",
       "    </tr>\n",
       "    <tr>\n",
       "      <th>NS-PC</th>\n",
       "      <td>19.0</td>\n",
       "      <td>63.157895</td>\n",
       "      <td>1.195870</td>\n",
       "    </tr>\n",
       "    <tr>\n",
       "      <th>PSA-PG</th>\n",
       "      <td>23.0</td>\n",
       "      <td>56.521739</td>\n",
       "      <td>0.656658</td>\n",
       "    </tr>\n",
       "    <tr>\n",
       "      <th>PSA-PF</th>\n",
       "      <td>18.0</td>\n",
       "      <td>66.666667</td>\n",
       "      <td>1.153164</td>\n",
       "    </tr>\n",
       "    <tr>\n",
       "      <th>RF-PE</th>\n",
       "      <td>19.0</td>\n",
       "      <td>57.894737</td>\n",
       "      <td>0.924455</td>\n",
       "    </tr>\n",
       "    <tr>\n",
       "      <th>RF-PC</th>\n",
       "      <td>26.0</td>\n",
       "      <td>57.692308</td>\n",
       "      <td>1.409373</td>\n",
       "    </tr>\n",
       "    <tr>\n",
       "      <th>RITM-PC</th>\n",
       "      <td>20.0</td>\n",
       "      <td>57.894737</td>\n",
       "      <td>0.908625</td>\n",
       "    </tr>\n",
       "    <tr>\n",
       "      <th>RITM-PB</th>\n",
       "      <td>18.0</td>\n",
       "      <td>66.666667</td>\n",
       "      <td>1.599506</td>\n",
       "    </tr>\n",
       "    <tr>\n",
       "      <th>SPLP-PA</th>\n",
       "      <td>21.0</td>\n",
       "      <td>52.380952</td>\n",
       "      <td>0.484143</td>\n",
       "    </tr>\n",
       "    <tr>\n",
       "      <th>TNP-PE</th>\n",
       "      <td>17.0</td>\n",
       "      <td>64.705882</td>\n",
       "      <td>1.465229</td>\n",
       "    </tr>\n",
       "    <tr>\n",
       "      <th>TWO-PA</th>\n",
       "      <td>31.0</td>\n",
       "      <td>54.838710</td>\n",
       "      <td>0.589685</td>\n",
       "    </tr>\n",
       "    <tr>\n",
       "      <th>VNO-PL</th>\n",
       "      <td>42.0</td>\n",
       "      <td>59.523810</td>\n",
       "      <td>0.868443</td>\n",
       "    </tr>\n",
       "    <tr>\n",
       "      <th>WFC-PL</th>\n",
       "      <td>50.0</td>\n",
       "      <td>54.000000</td>\n",
       "      <td>0.377171</td>\n",
       "    </tr>\n",
       "    <tr>\n",
       "      <th>WAL-PA</th>\n",
       "      <td>17.0</td>\n",
       "      <td>58.823529</td>\n",
       "      <td>1.112154</td>\n",
       "    </tr>\n",
       "  </tbody>\n",
       "</table>\n",
       "</div>"
      ],
      "text/plain": [
       "         Total Trades  Win Rate [%]  Sharpe Ratio\n",
       "ACR-PC           36.0     55.555556      0.761681\n",
       "AGNCO            16.0     62.500000      1.235232\n",
       "NLY-PG           21.0     52.380952      0.375714\n",
       "NLY-PI           19.0     63.157895      1.331558\n",
       "AXS-PE           23.0     56.521739      0.754118\n",
       "BML-PJ           65.0     52.307692      0.640564\n",
       "CDR-PC           46.0     52.173913      0.906674\n",
       "CIM-PB           23.0     56.521739      0.590823\n",
       "CFG-PD           21.0     57.142857      0.366828\n",
       "DLR-PJ           19.0     63.157895      1.132851\n",
       "DBRG-PH          46.0     53.333333      0.822435\n",
       "DBRG-PJ          39.0     52.631579      0.892717\n",
       "DBRG-PI          38.0     51.351351      1.126383\n",
       "DLNG-PB          27.0     51.851852      0.996023\n",
       "EQH-PA           16.0     56.250000      0.946317\n",
       "FHN-PF           17.0     52.941176      1.643614\n",
       "FTAIO            21.0     52.380952      1.121476\n",
       "KIM-PM           20.0     60.000000      0.926803\n",
       "MET-PE           18.0     52.941176      0.243483\n",
       "MS-PK            20.0     65.000000      0.589981\n",
       "NYMTN            29.0     51.724138      1.067545\n",
       "NS-PA            33.0     54.545455      0.894146\n",
       "NS-PC            19.0     63.157895      1.195870\n",
       "PSA-PG           23.0     56.521739      0.656658\n",
       "PSA-PF           18.0     66.666667      1.153164\n",
       "RF-PE            19.0     57.894737      0.924455\n",
       "RF-PC            26.0     57.692308      1.409373\n",
       "RITM-PC          20.0     57.894737      0.908625\n",
       "RITM-PB          18.0     66.666667      1.599506\n",
       "SPLP-PA          21.0     52.380952      0.484143\n",
       "TNP-PE           17.0     64.705882      1.465229\n",
       "TWO-PA           31.0     54.838710      0.589685\n",
       "VNO-PL           42.0     59.523810      0.868443\n",
       "WFC-PL           50.0     54.000000      0.377171\n",
       "WAL-PA           17.0     58.823529      1.112154"
      ]
     },
     "execution_count": 50,
     "metadata": {},
     "output_type": "execute_result"
    }
   ],
   "source": [
    "df2 = pd.DataFrame(df1, columns = df1.keys())\n",
    "sr = df2.loc[['Total Trades','Win Rate [%]', 'Sharpe Ratio' ], :]\n",
    "sr = sr.replace(np.inf, np.nan).astype(float).transpose()\n",
    "sr = sr[sr['Total Trades'] > 15]\n",
    "sr = sr[sr['Win Rate [%]'] > 50]\n",
    "sr"
   ]
  },
  {
   "cell_type": "code",
   "execution_count": 36,
   "metadata": {},
   "outputs": [
    {
     "name": "stdout",
     "output_type": "stream",
     "text": [
      "-0.25253134564031154 1.0444730436190293\n"
     ]
    },
    {
     "ename": "KeyError",
     "evalue": "'Win Rate [%]'",
     "output_type": "error",
     "traceback": [
      "\u001b[1;31m---------------------------------------------------------------------------\u001b[0m",
      "\u001b[1;31mKeyError\u001b[0m                                  Traceback (most recent call last)",
      "File \u001b[1;32mc:\\Users\\User\\.conda\\envs\\pytorch\\Lib\\site-packages\\pandas\\core\\indexes\\base.py:3791\u001b[0m, in \u001b[0;36mIndex.get_loc\u001b[1;34m(self, key)\u001b[0m\n\u001b[0;32m   3790\u001b[0m \u001b[38;5;28;01mtry\u001b[39;00m:\n\u001b[1;32m-> 3791\u001b[0m     \u001b[38;5;28;01mreturn\u001b[39;00m \u001b[38;5;28mself\u001b[39m\u001b[38;5;241m.\u001b[39m_engine\u001b[38;5;241m.\u001b[39mget_loc(casted_key)\n\u001b[0;32m   3792\u001b[0m \u001b[38;5;28;01mexcept\u001b[39;00m \u001b[38;5;167;01mKeyError\u001b[39;00m \u001b[38;5;28;01mas\u001b[39;00m err:\n",
      "File \u001b[1;32mindex.pyx:152\u001b[0m, in \u001b[0;36mpandas._libs.index.IndexEngine.get_loc\u001b[1;34m()\u001b[0m\n",
      "File \u001b[1;32mindex.pyx:181\u001b[0m, in \u001b[0;36mpandas._libs.index.IndexEngine.get_loc\u001b[1;34m()\u001b[0m\n",
      "File \u001b[1;32mpandas\\_libs\\hashtable_class_helper.pxi:7080\u001b[0m, in \u001b[0;36mpandas._libs.hashtable.PyObjectHashTable.get_item\u001b[1;34m()\u001b[0m\n",
      "File \u001b[1;32mpandas\\_libs\\hashtable_class_helper.pxi:7088\u001b[0m, in \u001b[0;36mpandas._libs.hashtable.PyObjectHashTable.get_item\u001b[1;34m()\u001b[0m\n",
      "\u001b[1;31mKeyError\u001b[0m: 'Win Rate [%]'",
      "\nThe above exception was the direct cause of the following exception:\n",
      "\u001b[1;31mKeyError\u001b[0m                                  Traceback (most recent call last)",
      "Cell \u001b[1;32mIn[36], line 11\u001b[0m\n\u001b[0;32m      8\u001b[0m pf_std \u001b[38;5;241m=\u001b[39m df2\u001b[38;5;241m.\u001b[39mloc[\u001b[38;5;124m'\u001b[39m\u001b[38;5;124mSharpe Ratio\u001b[39m\u001b[38;5;124m'\u001b[39m, :]\u001b[38;5;241m.\u001b[39mreplace(np\u001b[38;5;241m.\u001b[39minf, np\u001b[38;5;241m.\u001b[39mnan)\u001b[38;5;241m.\u001b[39mastype(\u001b[38;5;28mfloat\u001b[39m)\u001b[38;5;241m.\u001b[39mdropna()\u001b[38;5;241m.\u001b[39mstd()\n\u001b[0;32m      9\u001b[0m \u001b[38;5;28mprint\u001b[39m(pf_mean, pf_std)\n\u001b[1;32m---> 11\u001b[0m sr \u001b[38;5;241m=\u001b[39m sr[sr[\u001b[38;5;124m'\u001b[39m\u001b[38;5;124mWin Rate [\u001b[39m\u001b[38;5;124m%\u001b[39m\u001b[38;5;124m]\u001b[39m\u001b[38;5;124m'\u001b[39m] \u001b[38;5;241m>\u001b[39m\u001b[38;5;241m=\u001b[39m \u001b[38;5;241m40\u001b[39m]\n\u001b[0;32m     12\u001b[0m sr \u001b[38;5;241m=\u001b[39m sr[sr[\u001b[38;5;124m'\u001b[39m\u001b[38;5;124mSharpe Ratio\u001b[39m\u001b[38;5;124m'\u001b[39m] \u001b[38;5;241m>\u001b[39m\u001b[38;5;241m=\u001b[39m \u001b[38;5;241m1\u001b[39m]\n\u001b[0;32m     14\u001b[0m sr\n",
      "File \u001b[1;32mc:\\Users\\User\\.conda\\envs\\pytorch\\Lib\\site-packages\\pandas\\core\\frame.py:3893\u001b[0m, in \u001b[0;36mDataFrame.__getitem__\u001b[1;34m(self, key)\u001b[0m\n\u001b[0;32m   3891\u001b[0m \u001b[38;5;28;01mif\u001b[39;00m \u001b[38;5;28mself\u001b[39m\u001b[38;5;241m.\u001b[39mcolumns\u001b[38;5;241m.\u001b[39mnlevels \u001b[38;5;241m>\u001b[39m \u001b[38;5;241m1\u001b[39m:\n\u001b[0;32m   3892\u001b[0m     \u001b[38;5;28;01mreturn\u001b[39;00m \u001b[38;5;28mself\u001b[39m\u001b[38;5;241m.\u001b[39m_getitem_multilevel(key)\n\u001b[1;32m-> 3893\u001b[0m indexer \u001b[38;5;241m=\u001b[39m \u001b[38;5;28mself\u001b[39m\u001b[38;5;241m.\u001b[39mcolumns\u001b[38;5;241m.\u001b[39mget_loc(key)\n\u001b[0;32m   3894\u001b[0m \u001b[38;5;28;01mif\u001b[39;00m is_integer(indexer):\n\u001b[0;32m   3895\u001b[0m     indexer \u001b[38;5;241m=\u001b[39m [indexer]\n",
      "File \u001b[1;32mc:\\Users\\User\\.conda\\envs\\pytorch\\Lib\\site-packages\\pandas\\core\\indexes\\base.py:3798\u001b[0m, in \u001b[0;36mIndex.get_loc\u001b[1;34m(self, key)\u001b[0m\n\u001b[0;32m   3793\u001b[0m     \u001b[38;5;28;01mif\u001b[39;00m \u001b[38;5;28misinstance\u001b[39m(casted_key, \u001b[38;5;28mslice\u001b[39m) \u001b[38;5;129;01mor\u001b[39;00m (\n\u001b[0;32m   3794\u001b[0m         \u001b[38;5;28misinstance\u001b[39m(casted_key, abc\u001b[38;5;241m.\u001b[39mIterable)\n\u001b[0;32m   3795\u001b[0m         \u001b[38;5;129;01mand\u001b[39;00m \u001b[38;5;28many\u001b[39m(\u001b[38;5;28misinstance\u001b[39m(x, \u001b[38;5;28mslice\u001b[39m) \u001b[38;5;28;01mfor\u001b[39;00m x \u001b[38;5;129;01min\u001b[39;00m casted_key)\n\u001b[0;32m   3796\u001b[0m     ):\n\u001b[0;32m   3797\u001b[0m         \u001b[38;5;28;01mraise\u001b[39;00m InvalidIndexError(key)\n\u001b[1;32m-> 3798\u001b[0m     \u001b[38;5;28;01mraise\u001b[39;00m \u001b[38;5;167;01mKeyError\u001b[39;00m(key) \u001b[38;5;28;01mfrom\u001b[39;00m \u001b[38;5;21;01merr\u001b[39;00m\n\u001b[0;32m   3799\u001b[0m \u001b[38;5;28;01mexcept\u001b[39;00m \u001b[38;5;167;01mTypeError\u001b[39;00m:\n\u001b[0;32m   3800\u001b[0m     \u001b[38;5;66;03m# If we have a listlike key, _check_indexing_error will raise\u001b[39;00m\n\u001b[0;32m   3801\u001b[0m     \u001b[38;5;66;03m#  InvalidIndexError. Otherwise we fall through and re-raise\u001b[39;00m\n\u001b[0;32m   3802\u001b[0m     \u001b[38;5;66;03m#  the TypeError.\u001b[39;00m\n\u001b[0;32m   3803\u001b[0m     \u001b[38;5;28mself\u001b[39m\u001b[38;5;241m.\u001b[39m_check_indexing_error(key)\n",
      "\u001b[1;31mKeyError\u001b[0m: 'Win Rate [%]'"
     ]
    }
   ],
   "source": [
    "\n",
    "df2 = pd.DataFrame(df1, columns = df1.keys())\n",
    "sr = df2.loc[['Win Rate [%]', 'Sharpe Ratio' ], :]\n",
    "\n",
    "sr = sr.replace(np.inf, -999).astype(float)\n",
    "\n",
    "pf_mean = df2.loc['Sharpe Ratio', :].replace(np.inf, np.nan).astype(float).dropna().mean()\n",
    "pf_std = df2.loc['Sharpe Ratio', :].replace(np.inf, np.nan).astype(float).dropna().std()\n",
    "pf_std = df2.loc['Sharpe Ratio', :].replace(np.inf, np.nan).astype(float).dropna().std()\n",
    "print(pf_mean, pf_std)\n",
    "\n",
    "sr = sr[sr['Win Rate [%]'] >= 40]\n",
    "sr = sr[sr['Sharpe Ratio'] >= 1]\n",
    "\n",
    "sr"
   ]
  },
  {
   "cell_type": "code",
   "execution_count": 30,
   "metadata": {},
   "outputs": [
    {
     "data": {
      "text/plain": [
       "Start                          2007-10-19 00:00:00-04:00\n",
       "End                            2024-06-14 00:00:00-04:00\n",
       "Period                                4192 days 00:00:00\n",
       "Start Value                                        100.0\n",
       "End Value                                      64.231005\n",
       "Total Return [%]                              -35.768995\n",
       "Benchmark Return [%]                          103.740157\n",
       "Max Gross Exposure [%]                             100.0\n",
       "Total Fees Paid                                37.019283\n",
       "Max Drawdown [%]                               72.013833\n",
       "Max Drawdown Duration                 3557 days 00:00:00\n",
       "Total Trades                                         114\n",
       "Total Closed Trades                                  114\n",
       "Total Open Trades                                      0\n",
       "Open Trade PnL                                       0.0\n",
       "Win Rate [%]                                   27.192982\n",
       "Best Trade [%]                                  49.93209\n",
       "Worst Trade [%]                               -23.895541\n",
       "Avg Winning Trade [%]                           7.349807\n",
       "Avg Losing Trade [%]                            -2.97304\n",
       "Avg Winning Trade Duration    19 days 17:48:23.225806451\n",
       "Avg Losing Trade Duration      6 days 04:02:53.493975903\n",
       "Profit Factor                                   0.871112\n",
       "Expectancy                                     -0.313763\n",
       "Sharpe Ratio                                   -0.079352\n",
       "Calmar Ratio                                   -0.052506\n",
       "Omega Ratio                                     0.973943\n",
       "Sortino Ratio                                   -0.11186\n",
       "dtype: object"
      ]
     },
     "execution_count": 30,
     "metadata": {},
     "output_type": "execute_result"
    }
   ],
   "source": [
    "pf.stats()"
   ]
  },
  {
   "cell_type": "code",
   "execution_count": 14,
   "metadata": {},
   "outputs": [
    {
     "data": {
      "image/png": "[encoded data removed]",
      "text/plain": [
       "<Figure size 1000x700 with 1 Axes>"
      ]
     },
     "metadata": {},
     "output_type": "display_data"
    }
   ],
   "source": [
    "# Create the plot\n",
    "plt.figure(figsize=(10, 7))  # Set the figure size\n",
    "plt.plot(df.index, df['Close'], label=\"Price\", color = \"blue\")\n",
    "plt.plot(df.index, df['vwap'], label=\"VWAP\", color = 'green')\n",
    "# Add labels and title\n",
    "plt.xlabel(\"Date\")\n",
    "plt.ylabel(\"Price\")\n",
    "plt.title(f\"Close vs VWAP, {ticker}\")\n",
    "# Add legend\n",
    "plt.legend()\n",
    "# Show the plot\n",
    "plt.grid(True)\n",
    "plt.show()"
   ]
  },
  {
   "cell_type": "code",
   "execution_count": null,
   "metadata": {},
   "outputs": [],
   "source": []
  }
 ],
 "metadata": {
  "kernelspec": {
   "display_name": "pytorch",
   "language": "python",
   "name": "python3"
  },
  "language_info": {
   "codemirror_mode": {
    "name": "ipython",
    "version": 3
   },
   "file_extension": ".py",
   "mimetype": "text/x-python",
   "name": "python",
   "nbconvert_exporter": "python",
   "pygments_lexer": "ipython3",
   "version": "3.11.5"
  }
 },
 "nbformat": 4,
 "nbformat_minor": 2
}
