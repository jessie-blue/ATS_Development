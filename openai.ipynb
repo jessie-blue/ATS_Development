{
 "cells": [
  {
   "cell_type": "code",
   "execution_count": null,
   "metadata": {},
   "outputs": [],
   "source": [
    "api_key = \"sk-proj-i0DHprLVXjRDpkqQfO0oT3BlbkFJOLRL4ZQwHAu0CwEWmtTH\""
   ]
  }
 ],
 "metadata": {
  "language_info": {
   "name": "python"
  }
 },
 "nbformat": 4,
 "nbformat_minor": 2
}
